{
 "cells": [
  {
   "cell_type": "markdown",
   "metadata": {},
   "source": [
    "# Regular Expressions in Python"
   ]
  },
  {
   "cell_type": "markdown",
   "metadata": {},
   "source": [
    "See: https://regexone.com/"
   ]
  },
  {
   "cell_type": "markdown",
   "metadata": {},
   "source": [
    "Objectives:\n",
    "\n",
    "- Understand the concept and purpose of regex.\n",
    "- Learn common characters and metacharacters used in regex patterns\n",
    "- Use Python's `re` for regex matching and substitution\n",
    "\n",
    "A concise explanation of regex and their use cases (text searching, data validation, text manipulation)."
   ]
  },
  {
   "cell_type": "code",
   "execution_count": 2,
   "metadata": {},
   "outputs": [],
   "source": [
    "import re"
   ]
  },
  {
   "cell_type": "markdown",
   "metadata": {},
   "source": [
    "### Character and Meta-characters"
   ]
  },
  {
   "cell_type": "code",
   "execution_count": 121,
   "metadata": {},
   "outputs": [
    {
     "name": "stdout",
     "output_type": "stream",
     "text": [
      "['a', 'a', 'a', 'a']\n",
      "['A', 'A']\n",
      "['and', 'ahi']\n",
      "['am ', 'ar ', 'and', 'ahi']\n"
     ]
    }
   ],
   "source": [
    "text = \"Adam Abrar and Ibrahim\"\n",
    "print(re.findall(r\"a\", text))\n",
    "print(re.findall(r\"A\", text))\n",
    "print(re.findall(r\"a\\w\\w\", text)) # \\w is Any Alphanumeric character\n",
    "print(re.findall(r\"a..\", text))   # . is Any character except newline"
   ]
  },
  {
   "cell_type": "code",
   "execution_count": 122,
   "metadata": {},
   "outputs": [
    {
     "name": "stdout",
     "output_type": "stream",
     "text": [
      "['Adam', 'Abrar', 'and', 'Ibrahim']\n",
      "['Adam', '', 'Abrar', '', 'and', '', 'Ibrahim', '']\n",
      "['A', 'd', 'a', 'm', '', 'A', 'b', 'r', 'a', 'r', '', 'a', 'n', 'd', '', 'I', 'b', 'r', 'a', 'h', 'i', 'm', '']\n"
     ]
    }
   ],
   "source": [
    "text = \"Adam Abrar and Ibrahim\"\n",
    "print(re.findall(r\"\\w+\", text)) # \\w+ is one or more Alphanumeric character\n",
    "print(re.findall(r\"\\w*\", text)) # * is zero or more\n",
    "print(re.findall(r\"\\w?\", text)) # ? is zero or one"
   ]
  },
  {
   "cell_type": "code",
   "execution_count": 123,
   "metadata": {},
   "outputs": [
    {
     "name": "stdout",
     "output_type": "stream",
     "text": [
      "['and']\n",
      "['Adam']\n",
      "['Ibrahim']\n"
     ]
    }
   ],
   "source": [
    "text = \"Adam Abrar and Ibrahim\"\n",
    "print(re.findall(r\"\\ba\\w\\w\\b\", text)) # \\b is Word Boundary\n",
    "print(re.findall(r\"^A\\w+\", text)) # ^ is Start of the string\n",
    "print(re.findall(r\"\\w+m$\", text)) # $ is End of the string"
   ]
  },
  {
   "cell_type": "markdown",
   "metadata": {},
   "source": [
    "#### The `\\w` metacharacter"
   ]
  },
  {
   "cell_type": "code",
   "execution_count": 105,
   "metadata": {},
   "outputs": [
    {
     "name": "stdout",
     "output_type": "stream",
     "text": [
      "['b', 'e', 't', 't', 'y', 'b', 'o', 'u', 'g', 'h', 't', 'a', 'b', 'i', 't', 'o', 'f', 'b', 'i', 't', 't', 'e', 'r', 'b', 'u', 't', 't', 'e', 'r']\n",
      "[' ', ' ', ' ', ' ', ' ', ' ']\n",
      "['b', 'e', 't', 't', 'y', ' ', 'b', 'o', 'u', 'g', 'h', 't', ' ', 'a', ' ', 'b', 'i', 't', ' ', 'o', 'f', ' ', 'b', 'i', 't', 't', 'e', 'r', ' ', 'b', 'u', 't', 't', 'e', 'r']\n"
     ]
    }
   ],
   "source": [
    "text = \"betty bought a bit of bitter butter\"\n",
    "print(re.findall(r\"\\w\", text))\n",
    "print(re.findall(r\"\\W\", text))\n",
    "print(re.findall(r\".\", text))"
   ]
  },
  {
   "cell_type": "markdown",
   "metadata": {},
   "source": [
    "#### The `\\d` metacharacter"
   ]
  },
  {
   "cell_type": "code",
   "execution_count": 104,
   "metadata": {},
   "outputs": [
    {
     "name": "stdout",
     "output_type": "stream",
     "text": [
      "['3', '0', '0']\n",
      "['t', 'h', 'i', 's', ' ', 't', 'r', 'e', 'e', ' ', 'i', 's', ' ', ' ', 'y', 'e', 'a', 'r', 's', ' ', 'o', 'l', 'd']\n",
      "['t', 'h', 'i', 's', ' ', 't', 'r', 'e', 'e', ' ', 'i', 's', ' ', '3', '0', '0', ' ', 'y', 'e', 'a', 'r', 's', ' ', 'o', 'l', 'd']\n"
     ]
    }
   ],
   "source": [
    "text = \"this tree is 300 years old\"\n",
    "print(re.findall(r\"\\d\", text))\n",
    "print(re.findall(r\"\\D\", text))\n",
    "print(re.findall(r\".\", text))"
   ]
  },
  {
   "cell_type": "markdown",
   "metadata": {},
   "source": [
    "#### Character sets using `[]`"
   ]
  },
  {
   "cell_type": "code",
   "execution_count": 114,
   "metadata": {},
   "outputs": [
    {
     "name": "stdout",
     "output_type": "stream",
     "text": [
      "['i', 'i', 't', 'u', 'p', 'u', 't', 'i', 't']\n",
      "['i', 'c', 'k', 'i', 't', 'u', 'p', 'u', 't', 'i', 't', 'd', 'o', 'w', 'n']\n",
      "['ick', 'it', 'up', 'ut', 'it', 'down']\n",
      "['P', 'P']\n",
      "['1', 'P', 'i', 'c', 'k', 'i', 't', 'u', 'p', '2', 'P', 'u', 't', 'i', 't', 'd', 'o', 'w', 'n']\n",
      "['\\n', '1', '.', ' ', ' ', ' ', '\\n', '2', '.', ' ', ' ', ' ', '\\n']\n"
     ]
    }
   ],
   "source": [
    "text = \"\"\"\n",
    "1. Pick it up\n",
    "2. Put it down\n",
    "\"\"\"\n",
    "\n",
    "print(re.findall(r\"[ptui]\", text)) # character set\n",
    "print(re.findall(r\"[a-z]\", text))  # character range\n",
    "print(re.findall(r\"[a-z]+\", text)) # quantifiers\n",
    "print(re.findall(r\"[A-Z]\", text))\n",
    "print(re.findall(r\"[a-zA-Z0-9]\", text)) # multiple ranges\n",
    "print(re.findall(r\"[^a-zA-Z]\", text)) # ^ in the set notation is negation"
   ]
  },
  {
   "cell_type": "markdown",
   "metadata": {},
   "source": [
    "### Finding Digits"
   ]
  },
  {
   "cell_type": "code",
   "execution_count": 115,
   "metadata": {},
   "outputs": [
    {
     "name": "stdout",
     "output_type": "stream",
     "text": [
      "['2', '0', '1', '5', '9', '4', '3', '1', '2', '5']\n",
      "['2', '0', '1', '5', '9', '4', '3', '1', '2', '5']\n",
      "['20', '15', '94', '31', '25']\n",
      "['3125']\n",
      "['20', '15', '94', '3125']\n",
      "['20.15', '94.3125']\n",
      "['$20.15']\n",
      "['94.3125 SAR']\n"
     ]
    }
   ],
   "source": [
    "text = \"The product is $20.15 which is equivalent to 94.3125 SAR\"\n",
    "\n",
    "print(re.findall(r\"\\d\", text))  # \\d is Any Digit\n",
    "print(re.findall(r\"[0-9]\", text))  # \\d is equivalent to [0-9]\n",
    "print(re.findall(r\"\\d\\d\", text))\n",
    "print(re.findall(r\"\\d{4}\", text))\n",
    "print(re.findall(r\"\\d+\", text)) # + is One or more\n",
    "print(re.findall(r\"\\d+\\.\\d+\", text))   # \\. is the \".\" Character since the \".\" is a meta-character matching: Any Character \n",
    "print(re.findall(r\"\\$\\d+\\.\\d+\", text)) # \\$ is the \"$\" Character since the \"$\" is a meta-character matching: End of Line\n",
    "print(re.findall(r\"\\d+\\.\\d+\\sSAR\", text)) # \\s is Any Whitespace Character"
   ]
  },
  {
   "cell_type": "markdown",
   "metadata": {},
   "source": [
    "### Grouping matches `()`"
   ]
  },
  {
   "cell_type": "code",
   "execution_count": 53,
   "metadata": {},
   "outputs": [
    {
     "name": "stdout",
     "output_type": "stream",
     "text": [
      "[('key1', 'value1'), ('key2', 'value2'), ('key4', 'value4')]\n",
      "[('key1', 'value1'), ('key2', 'value2'), ('key3', 'value3'), ('key4', 'value4')]\n"
     ]
    }
   ],
   "source": [
    "# key value matching\n",
    "text = r\"\"\"{key1: value1, key2: value2, key3:   value3, key4:\n",
    "value4}\"\"\"\n",
    "\n",
    "print(re.findall(r\"(\\w+):\\s(\\w+)\", text)) # grouping the key and value\n",
    "print(re.findall(r\"(\\w+):\\s*(\\w+)\", text)) # \\s* is zero or more whitespace characters (including tabs and newlines)"
   ]
  },
  {
   "cell_type": "markdown",
   "metadata": {},
   "source": [
    "#### Using `|` (OR) Operator"
   ]
  },
  {
   "cell_type": "code",
   "execution_count": 3,
   "metadata": {},
   "outputs": [
    {
     "name": "stdout",
     "output_type": "stream",
     "text": [
      "['cats', 'horses']\n"
     ]
    }
   ],
   "source": [
    "text = \"\"\"\n",
    "I like cats\n",
    "I like horses\n",
    "I like trees\n",
    "\"\"\"\n",
    "\n",
    "print(re.findall(r\"I like (cats|horses)\", text)) # | is OR"
   ]
  },
  {
   "cell_type": "code",
   "execution_count": 7,
   "metadata": {},
   "outputs": [
    {
     "name": "stdout",
     "output_type": "stream",
     "text": [
      "[('55', 'thousands'), ('77', 'hundereds')]\n"
     ]
    }
   ],
   "source": [
    "text = \"55 thousands, 77 hundereds\"\n",
    "\n",
    "print(re.findall(r\"(\\d+)\\s+(thousands|hundereds)\", text))"
   ]
  },
  {
   "cell_type": "markdown",
   "metadata": {},
   "source": [
    "### Naming patterns\n",
    "\n",
    "We use `?P<pattern-name>` to name patterns."
   ]
  },
  {
   "cell_type": "code",
   "execution_count": 65,
   "metadata": {},
   "outputs": [
    {
     "name": "stdout",
     "output_type": "stream",
     "text": [
      "adam\n",
      "belal\n"
     ]
    }
   ],
   "source": [
    "text = \"my email is adam@example.com and yours is belal@example.com\"\n",
    "\n",
    "matches_iterator = re.finditer(r\"(?P<name>\\w+)@(?P<domain>\\w+)\\.(?P<tld>\\w+)\", text)\n",
    "for m in matches_iterator:\n",
    "    print(m.group(\"name\"))"
   ]
  }
 ],
 "metadata": {
  "kernelspec": {
   "display_name": "ds",
   "language": "python",
   "name": "python3"
  },
  "language_info": {
   "codemirror_mode": {
    "name": "ipython",
    "version": 3
   },
   "file_extension": ".py",
   "mimetype": "text/x-python",
   "name": "python",
   "nbconvert_exporter": "python",
   "pygments_lexer": "ipython3",
   "version": "3.8.19"
  }
 },
 "nbformat": 4,
 "nbformat_minor": 2
}
