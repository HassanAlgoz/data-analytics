{
 "cells": [
  {
   "cell_type": "markdown",
   "metadata": {},
   "source": [
    "# Linear Algebra"
   ]
  },
  {
   "cell_type": "code",
   "execution_count": 3,
   "metadata": {},
   "outputs": [],
   "source": [
    "import numpy as np\n",
    "from numpy import linalg # linear algebra"
   ]
  },
  {
   "cell_type": "markdown",
   "metadata": {},
   "source": [
    "### 1D to 2D to 3D and beyond"
   ]
  },
  {
   "cell_type": "markdown",
   "metadata": {},
   "source": [
    "Vector (1D) $x$ has length $n$, or has $n$ components:\n",
    "\n",
    "$$x =\\begin{bmatrix}x_{1}  \\\\ \\vdots  \\\\x_{n}\\end{bmatrix}$$"
   ]
  },
  {
   "cell_type": "markdown",
   "metadata": {},
   "source": [
    "<img src=\"https://static.tutorialandexample.com/scipy/scipy-linear-algebra1.png\">"
   ]
  },
  {
   "cell_type": "code",
   "execution_count": 4,
   "metadata": {},
   "outputs": [
    {
     "name": "stdout",
     "output_type": "stream",
     "text": [
      "[ 10 100] (2,)\n"
     ]
    }
   ],
   "source": [
    "x = np.array([10, 100])\n",
    "print(x, x.shape)"
   ]
  },
  {
   "cell_type": "markdown",
   "metadata": {},
   "source": [
    "### Understanding column-vectors, row-vectors, and just, vectors"
   ]
  },
  {
   "cell_type": "code",
   "execution_count": null,
   "metadata": {},
   "outputs": [
    {
     "name": "stdout",
     "output_type": "stream",
     "text": [
      "[ 10 100] shape: (2,)\n",
      "---\n",
      "[[ 10 100]] shape: (1, 2)\n"
     ]
    }
   ],
   "source": [
    "# the example below shows the difference between (1,6) and (6,) arrays, and then try a (6,1)\n",
    "a = np.array([10, 100])\n",
    "print(a, 'shape:', a.shape)\n",
    "print('---')\n",
    "b = np.array([[10, 100]])\n",
    "print(b, 'shape:', b.shape)"
   ]
  },
  {
   "cell_type": "code",
   "execution_count": null,
   "metadata": {},
   "outputs": [
    {
     "name": "stdout",
     "output_type": "stream",
     "text": [
      "[ 20 200] (2,)\n",
      "[[ 20 200]] (1, 2)\n"
     ]
    }
   ],
   "source": [
    "print(a + a, (a+a).shape)\n",
    "print(b + b, (b+b).shape)"
   ]
  },
  {
   "cell_type": "code",
   "execution_count": null,
   "metadata": {},
   "outputs": [
    {
     "name": "stdout",
     "output_type": "stream",
     "text": [
      "[ 10 100] shape: (2,)\n",
      "---\n",
      "[[ 10]\n",
      " [100]] shape: (2, 1)\n"
     ]
    }
   ],
   "source": [
    "print(a, 'shape:', a.shape)\n",
    "print('---')\n",
    "c = np.array([[10],\n",
    "              [100]])\n",
    "print(c, 'shape:', c.shape)"
   ]
  },
  {
   "cell_type": "code",
   "execution_count": null,
   "metadata": {},
   "outputs": [
    {
     "name": "stdout",
     "output_type": "stream",
     "text": [
      "[[ 20 110]\n",
      " [110 200]]\n"
     ]
    }
   ],
   "source": [
    "print(a + c)"
   ]
  },
  {
   "cell_type": "markdown",
   "metadata": {},
   "source": [
    "### Vector dot product\n",
    "\n",
    "$$\n",
    "x \\cdot y = \\sum_{i=1}^{n} x_i y_i = x_1 y_1 + \\dots + x_n y_n\n",
    "$$"
   ]
  },
  {
   "cell_type": "code",
   "execution_count": null,
   "metadata": {},
   "outputs": [
    {
     "data": {
      "text/plain": [
       "5"
      ]
     },
     "metadata": {},
     "output_type": "display_data"
    }
   ],
   "source": [
    "def dot_product(x, y):\n",
    "    return sum(i * j for i, j in zip(x, y))\n",
    "\n",
    "dot_product([3, 2, 6], [1, 7, -2])"
   ]
  },
  {
   "cell_type": "code",
   "execution_count": null,
   "metadata": {},
   "outputs": [
    {
     "name": "stdout",
     "output_type": "stream",
     "text": [
      "12\n"
     ]
    }
   ],
   "source": [
    "x = np.array([0, 1, 2])\n",
    "y = np.array([9, 2, 5])\n",
    "print(x @ y)\n",
    "# print(np.dot(x, y)) # <-- same"
   ]
  },
  {
   "cell_type": "markdown",
   "metadata": {},
   "source": [
    "### Vector Length (Norm)\n",
    "\n",
    "Here is what `np.linalg.norm(v)` does to a vector `v`:\n",
    "\n",
    "1. Square each element of the vector.\n",
    "2. Sum up the squared values obtained in the first step.\n",
    "3. Take the square root of the obtained sum to get the norm of the vector.\n"
   ]
  },
  {
   "cell_type": "code",
   "execution_count": null,
   "metadata": {},
   "outputs": [
    {
     "name": "stdout",
     "output_type": "stream",
     "text": [
      "Euclidean norm of vector v: 7.0710678118654755\n"
     ]
    }
   ],
   "source": [
    "vector_v = [3, -4, 5]\n",
    "norm_result = np.linalg.norm(vector_v)\n",
    "print(\"Euclidean norm of vector v:\", norm_result)"
   ]
  },
  {
   "cell_type": "markdown",
   "metadata": {},
   "source": [
    "The **$\\ell_2$ norm** (Euclidean) which the method `norm` calculates, is expressed more generally as:\n",
    "\n",
    "$$\\|v\\|_2 = \\sqrt{v \\cdot v} = \\sqrt{\\sum_{i=1}^n v_i^2}$$"
   ]
  },
  {
   "cell_type": "markdown",
   "metadata": {},
   "source": [
    "### Matrix"
   ]
  },
  {
   "cell_type": "markdown",
   "metadata": {},
   "source": [
    "Matrix (2D) $A$:\n",
    "\n",
    "$$\\mathbf{A}=\\begin{bmatrix} a_{11} & a_{12} & \\cdots & a_{1n} \\\\ a_{21} & a_{22} & \\cdots & a_{2n} \\\\ \\vdots & \\vdots & \\ddots & \\vdots \\\\ a_{m1} & a_{m2} & \\cdots & a_{mn} \\\\ \\end{bmatrix}$$"
   ]
  },
  {
   "cell_type": "code",
   "execution_count": 10,
   "metadata": {},
   "outputs": [
    {
     "data": {
      "text/plain": [
       "array([[3, 4],\n",
       "       [5, 6],\n",
       "       [7, 8]])"
      ]
     },
     "execution_count": 10,
     "metadata": {},
     "output_type": "execute_result"
    }
   ],
   "source": [
    "A = np.array([[3, 4], [5, 6], [7, 8]])\n",
    "A"
   ]
  },
  {
   "cell_type": "code",
   "execution_count": 11,
   "metadata": {},
   "outputs": [
    {
     "data": {
      "text/plain": [
       "array([[30, 40],\n",
       "       [50, 60],\n",
       "       [70, 80]])"
      ]
     },
     "execution_count": 11,
     "metadata": {},
     "output_type": "execute_result"
    }
   ],
   "source": [
    "A * 10"
   ]
  },
  {
   "cell_type": "markdown",
   "metadata": {},
   "source": [
    "## Transposing a Matrix\n",
    "\n",
    "At times it is useful to pivot a matrix for conformability- that is in order to matrix divide or multiply, we need to switch the rows and column dimensions of matrices. Consider the matrix $A$:\n",
    "\n",
    "$$\n",
    "\\begin{equation}\n",
    "\tA=\\begin{bmatrix}\n",
    "\t  a_{11} & a_{12} \\\\\n",
    "\t  a_{21} & a_{22} \\\\\n",
    "\t  a_{31} & a_{32} \t\n",
    "\t\\end{bmatrix}_{3 \\times 2}\t\n",
    "\\end{equation}\n",
    "$$\n",
    "The transpose of A (denoted as $A^{T}$) is\n",
    "$$\n",
    "\\begin{equation}\n",
    "   A^{T}=\\begin{bmatrix}\n",
    "\t  a_{11} & a_{21} & a_{31} \\\\\n",
    "\t  a_{12} & a_{22} & a_{32} \\\\\n",
    "\t\\end{bmatrix}_{2 \\times 3}\n",
    "\\end{equation}\n",
    "$$"
   ]
  },
  {
   "cell_type": "markdown",
   "metadata": {},
   "source": [
    "The transpose of an $m \\times n$ matrix is an $n \\times m$ matrix."
   ]
  },
  {
   "cell_type": "code",
   "execution_count": 14,
   "metadata": {},
   "outputs": [
    {
     "data": {
      "text/plain": [
       "array([[1, 2, 3],\n",
       "       [4, 5, 6]])"
      ]
     },
     "execution_count": 14,
     "metadata": {},
     "output_type": "execute_result"
    }
   ],
   "source": [
    "A = np.array([[1, 2, 3], [4, 5, 6]])\n",
    "A"
   ]
  },
  {
   "cell_type": "code",
   "execution_count": 13,
   "metadata": {},
   "outputs": [
    {
     "name": "stdout",
     "output_type": "stream",
     "text": [
      "[[1 4]\n",
      " [2 5]\n",
      " [3 6]]\n"
     ]
    }
   ],
   "source": [
    "A = A.T\n",
    "print(A)"
   ]
  },
  {
   "cell_type": "markdown",
   "metadata": {},
   "source": [
    "### Broadcasting\n",
    "\n",
    "Broadcasting vectorizes array operations, improving computational efficiency by utilizing C loops.\n",
    "\n",
    "$$\n",
    "\\begin{equation}\n",
    "\tA+3=\n",
    "\t\\begin{bmatrix}\n",
    "\t  a_{11}+3 & a_{12}+3 \\\\\n",
    "\t  a_{21}+3 & a_{22}+3 \t\n",
    "\t\\end{bmatrix}\n",
    "\\end{equation}\n",
    "$$\n",
    "\n",
    "$$\n",
    "\\begin{equation}\n",
    "\t3A=\n",
    "\t\\begin{bmatrix}\n",
    "\t  3a_{11} & 3a_{12} \\\\\n",
    "\t  3a_{21} & 3a_{22} \t\n",
    "\t\\end{bmatrix}\n",
    "\\end{equation}\n",
    "$$\n",
    "\n",
    "Read more about Broadcasting: https://numpy.org/doc/stable/user/basics.broadcasting.html"
   ]
  },
  {
   "cell_type": "markdown",
   "metadata": {},
   "source": [
    "### Addition\n",
    "\n",
    "Addition and subtraction works the same:\n",
    "\n",
    "\\begin{equation}\n",
    "\tA + B =\n",
    "\t\\begin{bmatrix}\n",
    "\t  a_{11} & a_{12} \\\\\n",
    "\t  a_{21} & a_{22} \t\n",
    "\t\\end{bmatrix} +\n",
    "\t\\begin{bmatrix} b_{11} & b_{12} \\\\\n",
    "\t  b_{21} & b_{22}\n",
    "\t\\end{bmatrix}\n",
    "\t=\n",
    "\t\\begin{bmatrix}\n",
    "\t  a_{11}+b_{11} & a_{12}+b_{12} \\\\\n",
    "\t  a_{21}+b_{21} & a_{22}+b_{22} \t\n",
    "\t\\end{bmatrix}\n",
    "\\end{equation}"
   ]
  },
  {
   "cell_type": "markdown",
   "metadata": {},
   "source": [
    "### Element-wise multiplication\n",
    "\n",
    "The element-wise multiplication of two matrices is also called the *Hadamard product*:\n",
    "\n",
    "$$\n",
    "\\mathbf{A} \\odot \\mathbf{B} =\n",
    "\\begin{bmatrix}\n",
    "    a_{11}  b_{11} & a_{12}  b_{12} & \\dots  & a_{1n}  b_{1n} \\\\\n",
    "    a_{21}  b_{21} & a_{22}  b_{22} & \\dots  & a_{2n}  b_{2n} \\\\\n",
    "    \\vdots & \\vdots & \\ddots & \\vdots \\\\\n",
    "    a_{m1}  b_{m1} & a_{m2}  b_{m2} & \\dots  & a_{mn}  b_{mn}\n",
    "\\end{bmatrix}\n",
    "$$\n",
    "\n",
    "**Note: when we say matrix multiplication we don't usually refer to element-wise multiplication, rather, to the dot product of two matrices (next section).**"
   ]
  },
  {
   "cell_type": "code",
   "execution_count": null,
   "metadata": {},
   "outputs": [
    {
     "data": {
      "text/plain": [
       "array([[ 10,  40,  60],\n",
       "       [ 40, 100, 120]])"
      ]
     },
     "metadata": {},
     "output_type": "display_data"
    }
   ],
   "source": [
    "# Element-wise multiplication\n",
    "A = np.array([[1, 2, 2], [1, 2, 2]])\n",
    "B = np.array([[10, 20, 30], [40, 50, 60]])\n",
    "A * B"
   ]
  },
  {
   "cell_type": "markdown",
   "metadata": {},
   "source": [
    "### Matrix-matrix dot product\n",
    "\n",
    "<img alt=\"animation of matrix multiplication\" src=\"https://www.mscroggs.co.uk/img/full/multiply_matrices.gif\" width=\"600\">"
   ]
  },
  {
   "cell_type": "markdown",
   "metadata": {},
   "source": [
    "<img alr=\"matrix muliplication\" src=\"../assets/mmm.png\" width=\"600\">"
   ]
  },
  {
   "cell_type": "code",
   "execution_count": null,
   "metadata": {},
   "outputs": [
    {
     "name": "stdout",
     "output_type": "stream",
     "text": [
      "[[170 220 270]\n",
      " [170 220 270]\n",
      " [170 220 270]]\n"
     ]
    }
   ],
   "source": [
    "# Matrix-matrix multiplication (dot product)\n",
    "A = np.array([[1, 2, 2], [1, 2, 2], [1, 2, 2]])\n",
    "B = np.array([[10, 20, 30], [40, 50, 60], [40, 50, 60]])\n",
    "print(A @ B)\n",
    "# print(A.dot(B)) # <-- same"
   ]
  },
  {
   "cell_type": "markdown",
   "metadata": {},
   "source": [
    "### Matrix-vector dot product\n",
    "\n",
    "- Left-hand side is always interpreted as a transformation matrix.\n",
    "- Right-hand side is always interpreted as vectors (stacked horizontally, if more than one)\n",
    "\n",
    "One vector:\n",
    "\n",
    "$$\n",
    "\\begin{bmatrix}\n",
    "a_{11} & a_{12} \\\\\n",
    "a_{21} & a_{22} \\\\\n",
    "a_{31} & a_{32}\n",
    "\\end{bmatrix}\n",
    "\\begin{bmatrix}\n",
    "v_1 \\\\\n",
    "v_2\n",
    "\\end{bmatrix}\n",
    "=\n",
    "\\begin{bmatrix}\n",
    "a_{11} v_{1} + a_{12} v_{2} \\\\\n",
    "a_{21} v_{1} + a_{22} v_{2} \\\\\n",
    "a_{31} v_{1} + a_{32} v_{2}\n",
    "\\end{bmatrix}\n",
    "$$\n",
    "\n",
    "Two vectors:\n",
    "\n",
    "$$\n",
    "\\begin{bmatrix}\n",
    "a_{11} & a_{12} \\\\\n",
    "a_{21} & a_{22} \\\\\n",
    "a_{31} & a_{32}\n",
    "\\end{bmatrix}\n",
    "\\begin{bmatrix}\n",
    "v_1 & u_1 \\\\\n",
    "v_2 & u_2\n",
    "\\end{bmatrix}\n",
    "=\n",
    "\\begin{bmatrix}\n",
    "a_{11} v_{1} + a_{12} v_{2} & a_{11} u_{1} + a_{12} u_{2} \\\\\n",
    "a_{21} v_{1} + a_{22} v_{2} & a_{21} u_{1} + a_{22} u_{2} \\\\\n",
    "a_{31} v_{1} + a_{32} v_{2} & a_{31} u_{1} + a_{32} u_{2}\n",
    "\\end{bmatrix}\n",
    "$$"
   ]
  },
  {
   "cell_type": "code",
   "execution_count": null,
   "metadata": {},
   "outputs": [
    {
     "data": {
      "text/plain": [
       "array([[0., 0., 0., 0., 0., 0., 0., 0.],\n",
       "       [0., 0., 0., 0., 0., 0., 0., 0.]])"
      ]
     },
     "metadata": {},
     "output_type": "display_data"
    }
   ],
   "source": [
    "np.zeros((2, 8))"
   ]
  },
  {
   "cell_type": "code",
   "execution_count": null,
   "metadata": {},
   "outputs": [
    {
     "data": {
      "text/plain": [
       "array([[1., 1., 1., 1., 1.],\n",
       "       [1., 1., 1., 1., 1.],\n",
       "       [1., 1., 1., 1., 1.],\n",
       "       [1., 1., 1., 1., 1.],\n",
       "       [1., 1., 1., 1., 1.],\n",
       "       [1., 1., 1., 1., 1.]])"
      ]
     },
     "metadata": {},
     "output_type": "display_data"
    }
   ],
   "source": [
    "np.ones((6, 5))"
   ]
  },
  {
   "cell_type": "markdown",
   "metadata": {},
   "source": [
    "### Inverting a Matrix\n",
    "\n",
    "As before, consider the square $2 \\times 2$ matrix $A$=$\\bigl( \\begin{smallmatrix} a_{11} & a_{12} \\\\ a_{21} & a_{22}\\end{smallmatrix} \\bigr)$.  Let the inverse of matrix A (denoted as $A^{-1}$) be \n",
    "\n",
    "$$\n",
    "\\begin{equation}\n",
    "\tM^{-1}=\\begin{bmatrix}\n",
    "             a & b \\\\\n",
    "\t\t     c & d \n",
    "           \\end{bmatrix}^{-1}=\\frac{1}{ad-bc}\t\\begin{bmatrix}\n",
    "\t\t             d & -b \\\\\n",
    "\t\t\t\t     -c & a \n",
    "\t\t           \\end{bmatrix}\n",
    "\\end{equation}\n",
    "$$\n",
    "\n",
    "The inverted matrix $A^{-1}$ has a useful property:\n",
    "$$\n",
    "\\begin{equation}\n",
    "\tA A^{-1}=A^{-1} A=I\n",
    "\\end{equation}\n",
    "$$\n",
    "\n",
    "where $I$, the identity matrix (similar to $1$), is:\n",
    "$$\n",
    "\\begin{equation}\n",
    "\tI =\\begin{bmatrix}\n",
    "             1 & 0 \\\\\n",
    "\t\t     0 & 1 \n",
    "           \\end{bmatrix}\n",
    "\\end{equation}\n",
    "$$\n",
    "furthermore, $A I = A$ and $I A = A$."
   ]
  },
  {
   "cell_type": "code",
   "execution_count": null,
   "metadata": {},
   "outputs": [
    {
     "name": "stdout",
     "output_type": "stream",
     "text": [
      "A:\n",
      "[[2 4]\n",
      " [6 8]]\n",
      "A inverse:\n",
      "[[-1.    0.5 ]\n",
      " [ 0.75 -0.25]]\n"
     ]
    }
   ],
   "source": [
    "A = np.array([[2, 4], [6, 8]])\n",
    "print(\"A:\")\n",
    "print(A)\n",
    "print(\"A inverse:\")\n",
    "print(np.linalg.inv(A))"
   ]
  },
  {
   "cell_type": "markdown",
   "metadata": {},
   "source": [
    "A *Tensor*: is an array of n dimensions. So, a Vector and a Matrix are 1D and 2D Tensors, respectively.\n",
    "\n",
    "Here is a 3D Tensor $T$:\n",
    "\n",
    "$$\n",
    "\\mathbf{T} =\n",
    "\\begin{bmatrix}\n",
    "    \\begin{bmatrix}\n",
    "    t_{111} & t_{121} & \\dots  & t_{1m1} \\\\\n",
    "    t_{112} & t_{122} & \\dots  & t_{1m2} \\\\\n",
    "    \\vdots & \\vdots & \\ddots  & \\vdots \\\\\n",
    "    t_{11n} & t_{12n} & \\dots  & t_{1mn}\n",
    "\\end{bmatrix}\n",
    "\\begin{bmatrix}\n",
    "    \n",
    "    t_{211} & t_{221} & \\dots  & t_{2m1} \\\\\n",
    "    t_{212} & t_{222} & \\dots  & t_{2m2} \\\\\n",
    "    \\vdots & \\vdots & \\ddots  & \\vdots \\\\\n",
    "    t_{21n} & t_{22n} & \\dots  & t_{2mn}\n",
    "\\end{bmatrix}\n",
    "\\end{bmatrix}\n",
    "$$"
   ]
  }
 ],
 "metadata": {
  "kernelspec": {
   "display_name": "base",
   "language": "python",
   "name": "python3"
  },
  "language_info": {
   "codemirror_mode": {
    "name": "ipython",
    "version": 3
   },
   "file_extension": ".py",
   "mimetype": "text/x-python",
   "name": "python",
   "nbconvert_exporter": "python",
   "pygments_lexer": "ipython3",
   "version": "3.9.19"
  }
 },
 "nbformat": 4,
 "nbformat_minor": 2
}
