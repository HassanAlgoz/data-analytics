{
 "cells": [
  {
   "cell_type": "markdown",
   "metadata": {},
   "source": [
    "# What is Data Science?\n",
    "\n",
    "**Data** are descriptions of the world around us, collected through observation and stored on computers.\n",
    "\n",
    "Data can be numbers, words, images, sounds, etc.\n",
    "\n",
    "**Data Science** is an interdisciplinary field that uses scientific methods, processes, algorithms, and systems to extract knowledge and insights from structured and unstructured data. It combines principles and techniques from statistics, computer science, and domain-specific knowledge to analyze, interpret, and leverage data for decision-making and predictive analytics.\n",
    "\n",
    "- **Statistics** is essential since it studies how to make robust conclusions based on incomplete information.\n",
    "- **Computer science** is essential because data are stored on computers and analyzed by algorithms.\n",
    "- **Domain knowledge** is essential for asking the right questions and for understanding the answers produced by computational tools."
   ]
  },
  {
   "cell_type": "markdown",
   "metadata": {},
   "source": [
    "<img src=\"https://www.researchgate.net/publication/365946272/figure/fig1/AS:11431281104229617@1669985347028/Data-Science-Venn-Diagram.png\" width=\"400\">\n",
    "\n",
    "Image Source: https://www.researchgate.net/figure/Data-Science-Venn-Diagram_fig1_365946272"
   ]
  },
  {
   "cell_type": "markdown",
   "metadata": {},
   "source": [
    "## Processes of Data Science\n",
    "\n",
    "Data Science is three processes:\n",
    "\n",
    "1) **Exploration**: summarize facts and identify patterns in samples. It involves:\n",
    "    - *Descriptive Statistics*\n",
    "    - *Visualization*\n",
    "\n",
    "2) **Inference**: draw conclusions about a population based on samples of data taken from that population. It involves:\n",
    "    - *Estimation*\n",
    "    - *Comparison*\n",
    "    - *Relationship*\n",
    "\n",
    "3) **Prediction**: fill in the missing values based on other values. It involves:\n",
    "    - *Machine Learning*\n",
    "    - Optimization"
   ]
  },
  {
   "cell_type": "markdown",
   "metadata": {},
   "source": [
    "## John Snow and the Broad Street Pump\n",
    "\n",
    "In the 1850s, London faced severe cholera outbreaks. The prevailing theory was that \"miasmas\" (bad smells from decaying matter) caused the disease. Dr. John Snow doubted this and observed that while cholera wiped out entire households, neighboring houses remained unaffected despite sharing the same air. Snow also noted that cholera victims suffered from vomiting and diarrhea, suggesting water contamination as the culprit.\n",
    "\n",
    "In August 1854, when cholera hit Soho, Snow mapped the location of cholera deaths and found that many victims lived near the Broad Street pump.\n",
    "\n",
    "- He also noted that deaths near the Rupert Street pump were from residents who preferred using the more convenient Broad Street pump.\n",
    "- No deaths occurred at the Lion Brewery, where workers drank only brewed beer and water from their own well.\n",
    "- Deaths in distant houses involved children who drank from the Broad Street pump on their way to school.\n",
    "\n",
    "Snow's observations led him to conclude that the Broad Street pump was the source of the cholera outbreak. He convinced local authorities to remove the pump handle, and surely enough, the outbreak subsided, preventing further deaths.\n",
    "\n",
    "[Source: data8](https://inferentialthinking.com/chapters/02/1/observation-and-visualization-john-snow-and-the-broad-street-pump.html)"
   ]
  },
  {
   "cell_type": "markdown",
   "metadata": {},
   "source": [
    "# Statistics"
   ]
  },
  {
   "cell_type": "markdown",
   "metadata": {},
   "source": [
    "**Statistics** is a tool that applies to many fields, including business, finance, economics, biology, sociology, psychology, education, public health, and sports.\n",
    "\n",
    "There are two major fields of statistics:\n",
    "\n",
    "1. Descriptive statistics\n",
    "2. Inferential statistics"
   ]
  },
  {
   "cell_type": "markdown",
   "metadata": {},
   "source": [
    "### Descriptive statistics\n",
    "\n",
    "***Descriptive statistics*** summarizes qualities of a group (of people or things) numerically and visually.\n",
    "\n",
    "Numerical summaries are divided into these main categories:\n",
    "\n",
    "1. **Frequency** (proportion)\n",
    "1. **Measures of Central Tendency** (mean, median, mode)\n",
    "1. **Measures of Dispersion** (range, variance, standard deviation)\n",
    "1. **Measures of Shape** (skewness, kurtosis)\n",
    "\n",
    "Visual summaries uses graphical representations such as:\n",
    "- Histogram\n",
    "- Bar chart\n",
    "- Box plot"
   ]
  },
  {
   "cell_type": "markdown",
   "metadata": {},
   "source": [
    "Funny example (Parkinson's Law)\n",
    "\n",
    "<img src=\"https://baba-blog.com/wp-content/uploads/2022/08/parkinsons-law-plotted-on-a-graph..jpg\" width=\"500\">\n",
    "\n",
    "Image Source: baba-blog.com"
   ]
  },
  {
   "cell_type": "markdown",
   "metadata": {},
   "source": [
    "### Inferential Statistics\n",
    "\n",
    "***Inferential Statistics*** draw conclusions about a population based on samples of data taken from that population:\n",
    "\n",
    "1. ***Estimation***: make informed guess about population parameters. Example:\n",
    "    - How many people in the population are obese?\n",
    "    - What is the median income of housesholds in region X?\n",
    "2. ***Comparison***: finding out if differences are actually caused by some variable(s), or just due to random chance. Example:\n",
    "    - What is the impact of a new drug on the recovery time of patients?\n",
    "    - What is the impact of a new teaching method on student performance?\n",
    "3. ***Relationships***: quantifying the magnitude of the relationship between to variables, where we can do a “what if” analysis. Example:\n",
    "    - How much more can a house sell for an additional bedroom?\n",
    "    - What is the impact of lot size on housing price?"
   ]
  },
  {
   "cell_type": "markdown",
   "metadata": {},
   "source": [
    "# Pandas\n",
    "\n",
    "**Pandas** provides fast, flexible, and expressive data structures designed to make working with “relational” or “labeled” data both easy and intuitive.\n",
    "\n",
    "### Get started\n",
    "\n",
    "To get started with Pandas, follow the official [Getting started tutorials](https://pandas.pydata.org/docs/getting_started/intro_tutorials/index.html).\n",
    "\n",
    "### Exercises\n",
    "\n",
    "To get some exercise, follow the Kaggle Courses:\n",
    "\n",
    "- Learn Pandas: https://www.kaggle.com/learn/pandas\n",
    "- Data Cleaning: https://www.kaggle.com/learn/data-cleaning\n",
    "- Feature Engineering: https://www.kaggle.com/learn/feature-engineering\n",
    "\n",
    "### Mindmap\n",
    "\n",
    "You may also look at the following Pandas Mind Map:\n",
    "\n",
    "- https://xmind.ai/share/ugVH30g4"
   ]
  },
  {
   "cell_type": "markdown",
   "metadata": {},
   "source": [
    "# Seaborn and Matplotlib\n",
    "\n",
    "**Seaborn** is a library for making statistical graphics in Python. It builds on top of **matplotlib** and integrates closely with **pandas** data structures.\n",
    "\n",
    "- Seaborn Intro: https://seaborn.pydata.org/tutorial/introduction.html\n",
    "- Matplotlib (low-level) user guide: https://matplotlib.org/stable/users/index.html#users-guide-index\n",
    "\n",
    "Kaggle Courses:\n",
    "\n",
    "- Data Visualization: https://www.kaggle.com/learn/data-visualization"
   ]
  },
  {
   "cell_type": "markdown",
   "metadata": {},
   "source": [
    "# Numpy\n",
    "\n",
    "- What is Numpy: https://numpy.org/doc/stable/user/whatisnumpy.html\n",
    "- Numpy Quickstart: https://numpy.org/doc/stable/user/quickstart.html\n",
    "- Absolute Beginners (VISUALS): https://numpy.org/doc/stable/user/absolute_beginners.html\n",
    "- Numpy Array Creation: https://numpy.org/doc/stable/user/basics.creation.html\n",
    "    - Routines: https://numpy.org/doc/stable/reference/routines.html\n",
    "- Numpy Broadcasting: https://numpy.org/doc/stable/user/basics.broadcasting.html\n",
    "- Copies vs Views: https://numpy.org/doc/stable/user/basics.copies.html\n",
    "- Perf\n",
    "    ```python\n",
    "    %timeit arr.min()\n",
    "    %timeit min(pylist)\n",
    "    ```"
   ]
  }
 ],
 "metadata": {
  "language_info": {
   "name": "python"
  }
 },
 "nbformat": 4,
 "nbformat_minor": 2
}
