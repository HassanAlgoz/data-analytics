{
 "cells": [
  {
   "cell_type": "markdown",
   "metadata": {},
   "source": [
    "# Pandas"
   ]
  },
  {
   "cell_type": "markdown",
   "metadata": {},
   "source": [
    "- Overview: https://pandas.pydata.org/docs/getting_started/overview.html\n",
    "- Getting Started: https://pandas.pydata.org/docs/getting_started/intro_tutorials/01_table_oriented.html"
   ]
  },
  {
   "cell_type": "markdown",
   "metadata": {},
   "source": [
    "### Key steps in Exploratory Data Analysis (EDA)\n",
    "\n",
    "1. *Formulate Questions* - Define objectives and questions to be answered from the data.\n",
    "2. *Data Collection* - Gather relevant data from sources:\n",
    "    1. APIs\n",
    "    1. Databases\n",
    "    1. Web Scraping\n",
    "    1. Files\n",
    "    1. Surveys\n",
    "3. *Data Cleaning* - Prepare data for analysis by:\n",
    "    1. Handle missing values\n",
    "    1. duplicates\n",
    "    1. outliers\n",
    "        - z-score\n",
    "        - IQR\n",
    "        - domain knowledge\n",
    "    1. errors (invalid values)\n",
    "    1. inconsistencies (e.g., Female and F both present in gender column)\n",
    "    1. data types (e.g., convert string to datetime)\n",
    "    1. formatting (e.g., date format)\n",
    "    1. column names (e.g., rename columns)\n",
    "4. *Feature Engineering*\n",
    "    1. Create new variables\n",
    "        1. age from date of birth\n",
    "        1. BMI from weight and height\n",
    "        1. season from date\n",
    "    1. Scale variables (e.g., standardization)\n",
    "        1. Min-Max scaling\n",
    "        1. Z-score scaling\n",
    "        1. Robust scaling\n",
    "        1. Normalization\n",
    "        1. Log transformation\n",
    "    1. Encode categorical variables (e.g., one-hot encoding)\n",
    "    1. Handle multicollinearity (e.g., PCA)\n",
    "    1. Handle imbalanced data (e.g., SMOTE)\n",
    "5. *Data Exploration*\n",
    "    1. Uni-variate Analysis - Understand the distribution of each variable.\n",
    "        1. *Descriptive Statistics*\n",
    "            - Measure of central tendency (mean, median, mode)\n",
    "            - Dispersion (range, variance, standard deviation)\n",
    "            - Shape (skewness, kurtosis).\n",
    "        1. *Visualizations*\n",
    "            - Histogram\n",
    "            - Boxplot\n",
    "            - Density plot\n",
    "            - Violin plot\n",
    "            - Bar plot\n",
    "            - Pie chart\n",
    "            - Frequency table\n",
    "            - Word cloud\n",
    "    1. Bi-variate Analysis - Understand the relationship between two variables.\n",
    "        1. *Descriptive Statistics*\n",
    "            - Covariance\n",
    "            - Correlation\n",
    "        1. *Visualizations*\n",
    "            - Scatter plot\n",
    "            - Line plot\n",
    "            - Heatmap\n",
    "            - Pairplot\n",
    "            - Boxplot\n",
    "            - Violin plot\n",
    "            - Bar plot\n",
    "            - Stacked bar plot\n",
    "            - Grouped bar plot\n",
    "6. *Statistical Analysis*\n",
    "    1. Quantify relationships (regression)\n",
    "    1. Make inference about population from sample\n",
    "    1. Hypothesis testing\n",
    "7. *Communicate Insights* - Present findings to stakeholders using:\n",
    "    1. *Reports*: Jupyter Notebook\n",
    "    1. *Dashboards*: Tableau, Power BI, Google Data Studio\n",
    "\n",
    "In summary, EDA involves an iterative process of assessing, preprocessing, understanding and communicating insights from data to discover meaningful patterns as a preliminary stage before **model building**. The overall goal is gaining initial knowledge about the dataset."
   ]
  }
 ],
 "metadata": {
  "language_info": {
   "name": "python"
  }
 },
 "nbformat": 4,
 "nbformat_minor": 2
}
