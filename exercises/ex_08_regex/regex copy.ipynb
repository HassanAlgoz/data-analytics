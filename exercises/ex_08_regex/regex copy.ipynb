{
 "cells": [
  {
   "cell_type": "markdown",
   "metadata": {},
   "source": [
    "# Exercise: Regular Expressions"
   ]
  },
  {
   "cell_type": "code",
   "execution_count": 14,
   "metadata": {},
   "outputs": [],
   "source": [
    "import re"
   ]
  },
  {
   "cell_type": "code",
   "execution_count": 15,
   "metadata": {},
   "outputs": [],
   "source": [
    "def pretty_print(groups, names):\n",
    "    for group in groups:\n",
    "        for i, name in enumerate(names):\n",
    "            print(f\"{name}: {group[i]}\")\n",
    "        print()"
   ]
  },
  {
   "cell_type": "code",
   "execution_count": 18,
   "metadata": {},
   "outputs": [
    {
     "name": "stdout",
     "output_type": "stream",
     "text": [
      "name: adam\n",
      "domain: example\n",
      "tld: com\n",
      "\n",
      "name: belal\n",
      "domain: example\n",
      "tld: com\n",
      "\n"
     ]
    }
   ],
   "source": [
    "s = \"my email is adam@example.com and yours is belal@example.com\"\n",
    "m = re.findall(r\"(\\w+)@(\\w+)\\.(\\w+)\", s)\n",
    "pretty_print(m, [\"name\", \"domain\", \"tld\"])"
   ]
  },
  {
   "cell_type": "code",
   "execution_count": 20,
   "metadata": {},
   "outputs": [
    {
     "data": {
      "text/plain": [
       "0      john.doe@example.com\n",
       "1    jane.smith@company.org\n",
       "2          noemail@here.com\n",
       "3    another_email@work.net\n",
       "Name: Email, dtype: object"
      ]
     },
     "execution_count": 20,
     "metadata": {},
     "output_type": "execute_result"
    }
   ],
   "source": [
    "import pandas as pd\n",
    "\n",
    "# Sample data with email addresses\n",
    "data = [\"john.doe@example.com\", \"jane.smith@company.org\", \n",
    "        \"noemail@here.com\", \"another_email@work.net\"]\n",
    "\n",
    "# Create a pandas Series\n",
    "emails = pd.Series(data, name=\"Email\")\n",
    "emails"
   ]
  },
  {
   "cell_type": "code",
   "execution_count": 22,
   "metadata": {},
   "outputs": [
    {
     "name": "stdout",
     "output_type": "stream",
     "text": [
      "               0\n",
      "0       john.doe\n",
      "1     jane.smith\n",
      "2        noemail\n",
      "3  another_email\n"
     ]
    }
   ],
   "source": [
    "username_pattern = r\"^(.*?)@\"  # Capture everything before \"@\"\n",
    "\n",
    "usernames = emails.str.extract(username_pattern)\n",
    "print(usernames)"
   ]
  },
  {
   "cell_type": "code",
   "execution_count": 24,
   "metadata": {},
   "outputs": [
    {
     "name": "stdout",
     "output_type": "stream",
     "text": [
      "         0\n",
      "0  example\n",
      "1  company\n",
      "2     here\n",
      "3     work\n"
     ]
    }
   ],
   "source": [
    "domain_pattern = r\"@(.*?)\\.\"\n",
    "\n",
    "domains = emails.str.extract(domain_pattern)\n",
    "print(domains)"
   ]
  },
  {
   "cell_type": "code",
   "execution_count": null,
   "metadata": {},
   "outputs": [],
   "source": [
    "#2 Question: Extract domain from email\n",
    "\n",
    "inputs = [\"john@email.com\", \n",
    "          \"mary+newsletter@gmail.com\",\n",
    "          \"support@ourcompany.co.uk\"]\n",
    "\n",
    "# your code here ...: "
   ]
  },
  {
   "cell_type": "code",
   "execution_count": null,
   "metadata": {},
   "outputs": [],
   "source": [
    "#3 Question: Validate phone number  \n",
    "\n",
    "inputs = [\"555-123-4567\",  \n",
    "          \"1 (234) 567-8910\",\n",
    "          \"notaphonenumber\"]\n",
    "\n",
    "# your code here ...:"
   ]
  },
  {
   "cell_type": "code",
   "execution_count": null,
   "metadata": {},
   "outputs": [],
   "source": [
    "#4 Question: Extract area code    \n",
    "\n",
    "inputs = [\"(555) 123-4567\",\n",
    "          \"1 (234) 567-8910\",\n",
    "          \"5551234567\"]\n",
    "\n",
    "# your code here ...: "
   ]
  },
  {
   "cell_type": "code",
   "execution_count": null,
   "metadata": {},
   "outputs": [],
   "source": [
    "#5 Question: Match URLs and extract host\n",
    "\n",
    "inputs = [\"Visit https://www.example.com for more info\",\n",
    "          \"Our website is example.com\",\n",
    "          \"No URLs here\"]\n",
    "          \n",
    "# your code here ...:"
   ]
  },
  {
   "cell_type": "code",
   "execution_count": null,
   "metadata": {},
   "outputs": [],
   "source": [
    "#6 Question: Remove non-alphabetic characters\n",
    "\n",
    "inputs = [\"Hello world!\",\n",
    "          \"123 Main St.\", \n",
    "          \"greetings&more\"]\n",
    "\n",
    "# your code here ...:"
   ]
  },
  {
   "cell_type": "code",
   "execution_count": null,
   "metadata": {},
   "outputs": [],
   "source": [
    "#7 Question: Find words containing \"tion\" \n",
    "\n",
    "inputs = [\"This is a test sentence with the word station in it.\",\n",
    "          \"No words containing tion here\",\n",
    "          \"motion activation vacation\"]\n",
    "\n",
    "# your code here ...:"
   ]
  },
  {
   "cell_type": "code",
   "execution_count": null,
   "metadata": {},
   "outputs": [],
   "source": [
    "#8 Question: Replace all occurrences of \"hello\" with \"goodbye\"\n",
    "\n",
    "inputs = [\"hello world\", \n",
    "          \"hello there\",\n",
    "          \"no match\"]\n",
    "\n",
    " # your code here ...:"
   ]
  },
  {
   "cell_type": "code",
   "execution_count": null,
   "metadata": {},
   "outputs": [],
   "source": [
    "#9 Question: Extract date strings in ISO8601 format\n",
    "\n",
    "inputs = [\"Log from 2023-01-15\",\n",
    "          \"Meeting on 2023-02-01T13:00:00Z\",  \n",
    "          \"No dates\"]\n",
    "\n",
    " # your code here ...:"
   ]
  },
  {
   "cell_type": "code",
   "execution_count": null,
   "metadata": {},
   "outputs": [],
   "source": [
    "#10 Question: Validate correctly formatted date\n",
    "\n",
    "inputs = [\"2023-01-15\",\n",
    "          \"02/01/2023\",\n",
    "          \"invalid date\"]\n",
    "\n",
    " # your code here ...:\n"
   ]
  },
  {
   "cell_type": "code",
   "execution_count": null,
   "metadata": {},
   "outputs": [],
   "source": [
    "#11 Question: Remove punctuation except hyphens \n",
    "\n",
    "inputs = [\"Hello! World?\",\n",
    "          \"123-Main_St.\",\n",
    "          \"Hi there.\"]\n",
    "\n",
    " # your code here ...:"
   ]
  },
  {
   "cell_type": "code",
   "execution_count": null,
   "metadata": {},
   "outputs": [],
   "source": [
    "#12 Question: Count occurrences of a word\n",
    "\n",
    "inputs = [\"Hello world. Hello!\", \n",
    "          \"Hello hello world\",\n",
    "          \"no match\"]\n",
    "\n",
    "# your code here ...:"
   ]
  },
  {
   "cell_type": "code",
   "execution_count": null,
   "metadata": {},
   "outputs": [],
   "source": [
    "#13 Question: Extract IP addresses from log \n",
    "\n",
    "inputs = [\"127.0.0.1 - GET /\",\n",
    "          \"User logged in from 192.168.1.1\",\n",
    "          \"No IPs\"]\n",
    "\n",
    "# your code here ...:"
   ]
  },
  {
   "cell_type": "code",
   "execution_count": null,
   "metadata": {},
   "outputs": [],
   "source": [
    "#14 Question: Redact credit card and SSN numbers\n",
    "\n",
    "inputs = [\"Visa: 4111-1111-1111-1111\",\n",
    "          \"My SSN is 111-11-1111\", \n",
    "          \"No numbers\"]\n",
    "\n",
    "# your code here ...:"
   ]
  }
 ],
 "metadata": {
  "kernelspec": {
   "display_name": "ds",
   "language": "python",
   "name": "python3"
  },
  "language_info": {
   "codemirror_mode": {
    "name": "ipython",
    "version": 3
   },
   "file_extension": ".py",
   "mimetype": "text/x-python",
   "name": "python",
   "nbconvert_exporter": "python",
   "pygments_lexer": "ipython3",
   "version": "3.8.19"
  }
 },
 "nbformat": 4,
 "nbformat_minor": 2
}
