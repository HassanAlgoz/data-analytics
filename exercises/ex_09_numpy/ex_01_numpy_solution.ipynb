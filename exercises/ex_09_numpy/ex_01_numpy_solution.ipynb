{
 "cells": [
  {
   "cell_type": "markdown",
   "metadata": {},
   "source": [
    "# Exercise: NumPy"
   ]
  },
  {
   "cell_type": "code",
   "execution_count": 1,
   "metadata": {},
   "outputs": [],
   "source": [
    "import numpy as np"
   ]
  },
  {
   "cell_type": "code",
   "execution_count": 4,
   "metadata": {},
   "outputs": [
    {
     "name": "stdout",
     "output_type": "stream",
     "text": [
      "int32\n",
      "4\n"
     ]
    }
   ],
   "source": [
    "# Q0. consider the following nd-array:\n",
    "arr = np.array( [\n",
    "    [ 1, 2, 3],\n",
    "    [ 4, 2, 5]] )\n",
    "# what is the item at index: [1, 0]?\n",
    "\n",
    "# find out each of the following:-\n",
    "# dimensions? number of axes\n",
    "# answer: 2\n",
    "arr.ndim\n",
    "\n",
    "# shape?\n",
    "# answer: (2, 3)\n",
    "\n",
    "# size?\n",
    "# answer: 2*3 = 6\n",
    "\n",
    "# data types stored?\n",
    "# answer: int32\n",
    "print(arr.dtype)\n",
    "\n",
    "# item size?\n",
    "# answer: 32 / 8 = 4 bytes\n",
    "print(arr.itemsize)\n",
    "\n",
    "# what is the item at index: [1, 0]?\n",
    "# answer: "
   ]
  },
  {
   "cell_type": "code",
   "execution_count": 7,
   "metadata": {},
   "outputs": [
    {
     "name": "stdout",
     "output_type": "stream",
     "text": [
      "[[ 1  2  3  4  5]\n",
      " [ 6  7  8  9 10]]\n"
     ]
    }
   ],
   "source": [
    "# Q1. reshape this 1D array into a 2D array of size (2, 5) (print the result)\n",
    "array = np.array([1, 2, 3, 4, 5, 6, 7, 8, 9, 10])\n",
    "print(array.reshape(2, 5))"
   ]
  },
  {
   "cell_type": "code",
   "execution_count": 15,
   "metadata": {},
   "outputs": [
    {
     "name": "stdout",
     "output_type": "stream",
     "text": [
      "[1 2 3 4 5 6 7 8 9]\n"
     ]
    }
   ],
   "source": [
    "# Q2. reshape this 2D array into a 1D array of size 9 (print the result)\n",
    "array = np.array([[1, 2, 3], [4, 5, 6], [7, 8, 9]])\n",
    "print(array.reshape(-1))"
   ]
  },
  {
   "cell_type": "code",
   "execution_count": 11,
   "metadata": {},
   "outputs": [
    {
     "data": {
      "text/plain": [
       "array([ 1,  2,  3,  4,  5,  6,  7,  8,  9, 10, 11, 12])"
      ]
     },
     "execution_count": 11,
     "metadata": {},
     "output_type": "execute_result"
    }
   ],
   "source": [
    "# Q3. flatten this 3D array into a 1D array (print the result)\n",
    "array = np.array([[[1, 2, 3], [4, 5, 6]], [[7, 8, 9], [10, 11, 12]]])\n",
    "array.flatten()"
   ]
  },
  {
   "cell_type": "code",
   "execution_count": 22,
   "metadata": {},
   "outputs": [
    {
     "data": {
      "text/plain": [
       "[array([1, 2, 3, 4, 5]), array([ 6,  7,  8,  9, 10])]"
      ]
     },
     "execution_count": 22,
     "metadata": {},
     "output_type": "execute_result"
    }
   ],
   "source": [
    "# Q4. split this 1D array into two subarrays of size 5 (print the result)\n",
    "array = np.array([1, 2, 3, 4, 5, 6, 7, 8, 9, 10])\n",
    "np.array_split(array, 2)\n",
    "# print(np.split(array, 2, axis=0))"
   ]
  },
  {
   "cell_type": "code",
   "execution_count": 40,
   "metadata": {},
   "outputs": [
    {
     "name": "stdout",
     "output_type": "stream",
     "text": [
      "[1, 2, 3, ['a']]\n",
      "[1, 2, 3, ['b']]\n"
     ]
    }
   ],
   "source": [
    "my_list1 = [1, 2, 3, ['a']]\n",
    "my_list2 = my_list1[:]\n",
    "print(my_list2)\n",
    "my_list1[3][0] = 'b'\n",
    "print(my_list2)"
   ]
  },
  {
   "cell_type": "code",
   "execution_count": 31,
   "metadata": {},
   "outputs": [
    {
     "name": "stdout",
     "output_type": "stream",
     "text": [
      "[1, 2, 3]\n",
      "[44, 2, 3]\n"
     ]
    }
   ],
   "source": [
    "my_list2[0] = 44\n",
    "print(my_list1)\n",
    "print(my_list2)"
   ]
  },
  {
   "cell_type": "code",
   "execution_count": 42,
   "metadata": {},
   "outputs": [
    {
     "name": "stdout",
     "output_type": "stream",
     "text": [
      "[4 2 3]\n"
     ]
    }
   ],
   "source": [
    "# Q5.1 what is the output of the following code?\n",
    "a = np.array([1, 2, 3])\n",
    "b = a[:]\n",
    "\n",
    "b[0] = 4\n",
    "\n",
    "print(a) # <-- explain why."
   ]
  },
  {
   "cell_type": "code",
   "execution_count": 43,
   "metadata": {},
   "outputs": [
    {
     "name": "stdout",
     "output_type": "stream",
     "text": [
      "[1, 2, 3]\n"
     ]
    }
   ],
   "source": [
    "# Q5.2 compare the result with this\n",
    "\n",
    "a = [1, 2, 3] # <-- just a list\n",
    "b = a[:]\n",
    "\n",
    "b[0] = 4\n",
    "\n",
    "print(a)"
   ]
  },
  {
   "cell_type": "code",
   "execution_count": 46,
   "metadata": {},
   "outputs": [
    {
     "data": {
      "text/plain": [
       "array([1, 2, 3, 4, 5, 6])"
      ]
     },
     "execution_count": 46,
     "metadata": {},
     "output_type": "execute_result"
    }
   ],
   "source": [
    "# Q6. stack the following two 1D arrays such that the output is\n",
    "# horizontally stacked: [1, 2, 3, 4, 5, 6]\n",
    "a = np.array([1, 2, 3])\n",
    "b = np.array([4, 5, 6])\n",
    "np.hstack([a, b])"
   ]
  },
  {
   "cell_type": "code",
   "execution_count": 47,
   "metadata": {},
   "outputs": [
    {
     "data": {
      "text/plain": [
       "array([[1, 2, 3],\n",
       "       [4, 5, 6]])"
      ]
     },
     "execution_count": 47,
     "metadata": {},
     "output_type": "execute_result"
    }
   ],
   "source": [
    "# Q7. stack the following two 1D arrays such that the output is\n",
    "# vertically stacked: [[1, 2, 3], [4, 5, 6]]\n",
    "a = np.array([1, 2, 3])\n",
    "b = np.array([4, 5, 6])\n",
    "np.vstack([a, b])\n"
   ]
  },
  {
   "cell_type": "code",
   "execution_count": 56,
   "metadata": {},
   "outputs": [
    {
     "name": "stdout",
     "output_type": "stream",
     "text": [
      "[5 4 3 2 1]\n"
     ]
    }
   ],
   "source": [
    "# Q8. sort the following array\n",
    "a = np.array([3, 2, 1, 4, 5])\n",
    "a.sort()\n",
    "print(a[::-1])"
   ]
  },
  {
   "cell_type": "code",
   "execution_count": 63,
   "metadata": {},
   "outputs": [
    {
     "name": "stdout",
     "output_type": "stream",
     "text": [
      "(array([3, 4], dtype=int64),)\n",
      "[40 50]\n"
     ]
    }
   ],
   "source": [
    "# Q9. use `np.where()` to find the indices of all elements in the array that are greater than 3.\n",
    "a = np.array([10, 20, 30, 40, 50])\n",
    "idx = np.where(a > 30)\n",
    "print(idx)\n",
    "print(a[idx])"
   ]
  },
  {
   "cell_type": "code",
   "execution_count": 64,
   "metadata": {},
   "outputs": [
    {
     "data": {
      "text/plain": [
       "array([[ 4,  3,  2],\n",
       "       [10,  1,  0],\n",
       "       [ 5,  8, 24]])"
      ]
     },
     "execution_count": 64,
     "metadata": {},
     "output_type": "execute_result"
    }
   ],
   "source": [
    "# Q10 Consider the following ndarray:\n",
    "arr = np.array([[4, 3, 2], [10, 1, 0], [5, 8, 24]])\n",
    "arr"
   ]
  },
  {
   "cell_type": "code",
   "execution_count": 70,
   "metadata": {},
   "outputs": [
    {
     "name": "stdout",
     "output_type": "stream",
     "text": [
      "mean: 6.333333333333333\n",
      "[ 2.62466929  2.94392029 10.87300429]\n",
      "[ 3.          3.66666667 12.33333333]\n"
     ]
    }
   ],
   "source": [
    "# Q10-1. Calculate the mean and std of values on the entire array\n",
    "print('mean:', arr.mean())\n",
    "\n",
    "# Q10-2. Calculate the mean and std across the vertical axis\n",
    "print(arr.std(axis=0))\n",
    "\n",
    "# Q10-3. Calculate the mean and std across the horizontal axis\n",
    "print(arr.mean(axis=1))"
   ]
  },
  {
   "cell_type": "code",
   "execution_count": 72,
   "metadata": {},
   "outputs": [
    {
     "data": {
      "text/plain": [
       "array([ 1.,  1., -2., -9.])"
      ]
     },
     "execution_count": 72,
     "metadata": {},
     "output_type": "execute_result"
    }
   ],
   "source": [
    "# Q11. use `ceil` and `floor` to round up and down the values in the following array\n",
    "arr = np.array([0.1, 0.8, -2.2, -9.87])\n",
    "np.ceil(arr)"
   ]
  },
  {
   "cell_type": "code",
   "execution_count": 73,
   "metadata": {},
   "outputs": [
    {
     "data": {
      "text/plain": [
       "array([  0.,   0.,  -3., -10.])"
      ]
     },
     "execution_count": 73,
     "metadata": {},
     "output_type": "execute_result"
    }
   ],
   "source": [
    "np.floor(arr)"
   ]
  },
  {
   "cell_type": "code",
   "execution_count": 74,
   "metadata": {},
   "outputs": [
    {
     "data": {
      "text/plain": [
       "array([  0.,   1.,  -2., -10.])"
      ]
     },
     "execution_count": 74,
     "metadata": {},
     "output_type": "execute_result"
    }
   ],
   "source": [
    "np.round(arr)"
   ]
  },
  {
   "cell_type": "code",
   "execution_count": 76,
   "metadata": {},
   "outputs": [
    {
     "name": "stdout",
     "output_type": "stream",
     "text": [
      "0.7071067811865476 6.123233995736766e-17 0.5773502691896257\n"
     ]
    }
   ],
   "source": [
    "# Q12. calculate the following trigonometric functions\n",
    "\n",
    "sine_45 = np.sin(45 * np.pi / 180)\n",
    "cosine_90 = np.cos(90 * np.pi / 180)\n",
    "tangent_30 = np.tan(30 * np.pi / 180)\n",
    "\n",
    "print(sine_45, cosine_90, tangent_30)"
   ]
  },
  {
   "cell_type": "code",
   "execution_count": 78,
   "metadata": {},
   "outputs": [
    {
     "name": "stdout",
     "output_type": "stream",
     "text": [
      "shape of array is:  (2, 5)\n",
      "3rd element on 2nd row:  80\n",
      "4th element on 1st row:  40\n",
      "1st element on 2nd row:  60\n"
     ]
    }
   ],
   "source": [
    "# Q13. find elements from this array:\n",
    "arr = np.array([[10,20,30,40,50], [60,70,80,90,100]])\n",
    "\n",
    "print('shape of array is: ', arr.shape)\n",
    "print('3rd element on 2nd row: ', arr[1, 2])\n",
    "print('4th element on 1st row: ', arr[0, 3])\n",
    "print('1st element on 2nd row: ', arr[1, 0])"
   ]
  },
  {
   "cell_type": "markdown",
   "metadata": {},
   "source": [
    "**Q14**: why is NumPy fast? (mention 1 out of the 3 reasons)"
   ]
  },
  {
   "cell_type": "markdown",
   "metadata": {},
   "source": [
    "**Answer:**\n",
    "\n",
    "1. Memory managemnet\n",
    "1. Uses C underneath to do magic (compiled)\n",
    "1. Vectorization (parallellism)\n"
   ]
  }
 ],
 "metadata": {
  "kernelspec": {
   "display_name": "base",
   "language": "python",
   "name": "python3"
  },
  "language_info": {
   "codemirror_mode": {
    "name": "ipython",
    "version": 3
   },
   "file_extension": ".py",
   "mimetype": "text/x-python",
   "name": "python",
   "nbconvert_exporter": "python",
   "pygments_lexer": "ipython3",
   "version": "3.11.5"
  }
 },
 "nbformat": 4,
 "nbformat_minor": 2
}
