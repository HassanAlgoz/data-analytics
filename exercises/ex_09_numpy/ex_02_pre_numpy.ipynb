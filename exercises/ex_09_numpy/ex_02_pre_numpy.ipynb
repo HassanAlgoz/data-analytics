{
 "cells": [
  {
   "cell_type": "markdown",
   "metadata": {},
   "source": [
    "# Pre-Numpy"
   ]
  },
  {
   "cell_type": "code",
   "execution_count": 3,
   "metadata": {},
   "outputs": [],
   "source": [
    "import numpy as np"
   ]
  },
  {
   "cell_type": "markdown",
   "metadata": {},
   "source": [
    "## Implementing Vector Operations"
   ]
  },
  {
   "cell_type": "code",
   "execution_count": 1,
   "metadata": {},
   "outputs": [],
   "source": [
    "def vector_add(v, w):\n",
    "    \"\"\"adds corresponding elements\"\"\"\n",
    "\n",
    "def vector_mul(v, w):\n",
    "    \"\"\"multiplies corresponding elements\"\"\"\n",
    "\n",
    "def vector_dot(v, w):\n",
    "    \"\"\"computes dot product of two vectors\"\"\"\n"
   ]
  },
  {
   "cell_type": "code",
   "execution_count": 2,
   "metadata": {},
   "outputs": [
    {
     "name": "stdout",
     "output_type": "stream",
     "text": [
      "Help on function vector_add in module __main__:\n",
      "\n",
      "vector_add(v, w)\n",
      "    adds corresponding elements\n",
      "\n"
     ]
    },
    {
     "name": "stdout",
     "output_type": "stream",
     "text": [
      "\u001b[1;31mSignature:\u001b[0m \u001b[0mvector_add\u001b[0m\u001b[1;33m(\u001b[0m\u001b[0mv\u001b[0m\u001b[1;33m,\u001b[0m \u001b[0mw\u001b[0m\u001b[1;33m)\u001b[0m\u001b[1;33m\u001b[0m\u001b[1;33m\u001b[0m\u001b[0m\n",
      "\u001b[1;31mSource:\u001b[0m   \n",
      "\u001b[1;32mdef\u001b[0m \u001b[0mvector_add\u001b[0m\u001b[1;33m(\u001b[0m\u001b[0mv\u001b[0m\u001b[1;33m,\u001b[0m \u001b[0mw\u001b[0m\u001b[1;33m)\u001b[0m\u001b[1;33m:\u001b[0m\u001b[1;33m\n",
      "\u001b[0m    \u001b[1;34m\"\"\"adds corresponding elements\"\"\"\u001b[0m\u001b[1;33m\u001b[0m\u001b[1;33m\u001b[0m\u001b[0m\n",
      "\u001b[1;31mFile:\u001b[0m      c:\\users\\thund\\appdata\\local\\temp\\ipykernel_9008\\521815253.py\n",
      "\u001b[1;31mType:\u001b[0m      function"
     ]
    }
   ],
   "source": [
    "help(vector_add)\n",
    "vector_add?\n",
    "vector_add??"
   ]
  },
  {
   "cell_type": "markdown",
   "metadata": {},
   "source": [
    "## Implementing Matrix Operations"
   ]
  },
  {
   "cell_type": "code",
   "execution_count": null,
   "metadata": {},
   "outputs": [
    {
     "name": "stdout",
     "output_type": "stream",
     "text": [
      "[[6, 3, 7], [12, 7, 5]]\n"
     ]
    }
   ],
   "source": [
    "def matrix_addition(x, y):\n",
    "    xrows = len(x)\n",
    "    xcols = len(x[0])\n",
    "    yrows = len(y)\n",
    "    ycols = len(y[0])\n",
    "    if xrows != yrows or xcols != ycols:\n",
    "        print(\"Sum is not defined as the matrices have different orders\")\n",
    "    else:\n",
    "        z = x\n",
    "        for i in range(xrows):\n",
    "            for j in range(xcols):\n",
    "                z[i][j] = z[i][j] + y[i][j]\n",
    "        return z\n",
    "\n",
    "A = [[1, 2, 5],\n",
    "    [3, 4, 1]]\n",
    "B = [[5, 1, 2],\n",
    "    [9, 3, 4]]\n",
    "result = matrix_addition(A, B)\n",
    "print(result)"
   ]
  },
  {
   "cell_type": "code",
   "execution_count": null,
   "metadata": {},
   "outputs": [
    {
     "name": "stdout",
     "output_type": "stream",
     "text": [
      "[[-6, -18, 3], [-6, -24, 0], [-27, -24, -21]]\n"
     ]
    }
   ],
   "source": [
    "def scalar_multiplication(c, X):\n",
    "    cX = X\n",
    "    for i in range(len(X)):\n",
    "        for j in range(len(X[0])):\n",
    "            cX[i][j] = c * cX[i][j]\n",
    "    return cX\n",
    "\n",
    "A = [[2, 6, -1],\n",
    "     [2, 8, 0],\n",
    "     [9, 8, 7]]\n",
    "s = -3\n",
    "result = scalar_multiplication(s, A)\n",
    "print(result)"
   ]
  },
  {
   "cell_type": "code",
   "execution_count": 5,
   "metadata": {},
   "outputs": [
    {
     "name": "stdout",
     "output_type": "stream",
     "text": [
      "The result is correct\n"
     ]
    }
   ],
   "source": [
    "def matrix_multiplication(x, y):\n",
    "    xrows = len(x)\n",
    "    xcols = len(x[0])\n",
    "    yrows = len(y)\n",
    "    ycols = len(y[0])\n",
    "    if xcols != yrows:\n",
    "        raise ValueError(\"Matrix multiplication is not defined. The number of columns in the first matrix must be equal to the number of rows in the second matrix.\")\n",
    "    \n",
    "    # Initialize the result matrix with zeros\n",
    "    z = [[0 for i in range(ycols)] for j in range(xrows)]\n",
    "    \n",
    "    # Perform multiplication\n",
    "    for i in range(xrows):\n",
    "        for j in range(ycols):\n",
    "            total = 0\n",
    "            for ii in range(xcols):\n",
    "                total += x[i][ii] * y[ii][j]\n",
    "            z[i][j] = total\n",
    "    return z\n",
    "\n",
    "A = [[1, 2, 5], [3, 4, 1]]\n",
    "B = [[5, 1, 2], [9, 3, 4], [1, 5, 3]]\n",
    "result = matrix_multiplication(A, B)\n",
    "\n",
    "if np.allclose(result, np.array(A) @ np.array(B)):\n",
    "    print(\"The result is correct\")\n"
   ]
  },
  {
   "cell_type": "code",
   "execution_count": 31,
   "metadata": {},
   "outputs": [
    {
     "name": "stdout",
     "output_type": "stream",
     "text": [
      "[[1, 2, 5], [3, 5, 4]]\n",
      "[[1, 3], [2, 5], [5, 4]]\n"
     ]
    }
   ],
   "source": [
    "def matrix_transpose(x):\n",
    "    xrows = len(x)\n",
    "    xcols = len(x[0])\n",
    "    # Initialize the result matrix with zeros\n",
    "    z = [ [ 0 for i in range(xrows) ] for j in range(xcols) ]\n",
    "    \n",
    "    for i in range(xcols):\n",
    "        for j in range(xrows):\n",
    "            z[i][j] = x[j][i]\n",
    "    return z\n",
    "\n",
    "A = [[1,2,5],[3,5,4]]\n",
    "A_T = matrix_transpose(A)\n",
    "print(A)\n",
    "print(A_T)\n",
    "assert np.allclose(A_T, np.array(A).T)"
   ]
  },
  {
   "cell_type": "code",
   "execution_count": 13,
   "metadata": {},
   "outputs": [
    {
     "data": {
      "text/plain": [
       "5"
      ]
     },
     "execution_count": 13,
     "metadata": {},
     "output_type": "execute_result"
    }
   ],
   "source": [
    "def dot_product(x,y):\n",
    "       return sum(i*j for i,j in zip(x,y))\t\n",
    "dot_product([3,2,6],[1,7,-2])\n"
   ]
  },
  {
   "cell_type": "markdown",
   "metadata": {},
   "source": [
    "## Implementing Vector Operations (again)"
   ]
  },
  {
   "cell_type": "code",
   "execution_count": 14,
   "metadata": {},
   "outputs": [],
   "source": [
    "def vector_add(a, b):\n",
    "    result = []\n",
    "    for x, y in zip(a, b):\n",
    "        result.append(x + y)\n",
    "    return result\n",
    "\n",
    "def vector_mul(a, b):\n",
    "    result = []\n",
    "    for x, y in zip(a, b):\n",
    "        result.append(x * y)\n",
    "    return result\n",
    "\n",
    "def vector_dot(a, b):\n",
    "    result = 0\n",
    "    for x, y in zip(a, b):\n",
    "        result += x * y\n",
    "    return result"
   ]
  },
  {
   "cell_type": "code",
   "execution_count": 15,
   "metadata": {},
   "outputs": [
    {
     "name": "stdout",
     "output_type": "stream",
     "text": [
      "+ [5, 7, 9]\n",
      "* [4, 10, 18]\n",
      "@ 32\n"
     ]
    }
   ],
   "source": [
    "a = [1, 2, 3]\n",
    "b = [4, 5, 6]\n",
    "\n",
    "print('+', vector_add(a, b))\n",
    "print('*', vector_mul(a, b))\n",
    "print('@', vector_dot(a, b))"
   ]
  },
  {
   "cell_type": "code",
   "execution_count": 36,
   "metadata": {},
   "outputs": [],
   "source": [
    "def matrix_add(a, b):\n",
    "    result = []\n",
    "    for x, y in zip(a, b):\n",
    "        result.append(vector_add(x, y))\n",
    "    return result\n",
    "\n",
    "def matrix_mul(a, b):\n",
    "    result = []\n",
    "    for x, y in zip(a, b):\n",
    "        result.append(vector_mul(x, y))\n",
    "    return result"
   ]
  },
  {
   "cell_type": "code",
   "execution_count": 33,
   "metadata": {},
   "outputs": [
    {
     "name": "stdout",
     "output_type": "stream",
     "text": [
      "+ True\n",
      "* True\n"
     ]
    }
   ],
   "source": [
    "a = [[1, 2, 3],\n",
    "     [4, 5, 6]]\n",
    "\n",
    "b = [[7, 8, 9],\n",
    "     [10, 11, 12]]\n",
    "\n",
    "print('+', np.allclose(matrix_add(a, b), np.array(a) + np.array(b)))\n",
    "print('*', np.allclose(matrix_mul(a, b), np.array(a) * np.array(b)))"
   ]
  },
  {
   "cell_type": "markdown",
   "metadata": {},
   "source": [
    "### Matrix Multpilication (Dot Product)"
   ]
  },
  {
   "cell_type": "code",
   "execution_count": 73,
   "metadata": {},
   "outputs": [],
   "source": [
    "def matrix_dot(a, b):\n",
    "    result = []\n",
    "    rows = len(a)\n",
    "    cols = len(b[0])\n",
    "    b_T = matrix_transpose(b)\n",
    "    for r in range(rows):\n",
    "        row = []\n",
    "        for c in range(cols):\n",
    "            row.append(vector_dot(a[r], b_T[c]))\n",
    "        result.append(row)\n",
    "    return result"
   ]
  },
  {
   "cell_type": "code",
   "execution_count": 74,
   "metadata": {},
   "outputs": [
    {
     "name": "stdout",
     "output_type": "stream",
     "text": [
      "@ [[58, 64], [139, 154]]\n",
      "@ True\n"
     ]
    }
   ],
   "source": [
    "a = [[1, 2, 3],\n",
    "     [4, 5, 6]]\n",
    "\n",
    "b = [[7, 8],\n",
    "     [9, 10],\n",
    "     [11, 12]]\n",
    "\n",
    "print('@', matrix_dot(a, b))\n",
    "print('@', np.allclose(matrix_dot(a, b), np.array(a) @ np.array(b)))"
   ]
  },
  {
   "cell_type": "markdown",
   "metadata": {},
   "source": [
    "### Matrix Class"
   ]
  },
  {
   "cell_type": "code",
   "execution_count": 76,
   "metadata": {},
   "outputs": [],
   "source": [
    "class Matrix:\n",
    "    def __init__(self, data):\n",
    "        self.data = data\n",
    "\n",
    "    def __repr__(self):\n",
    "        return f\"Matrix({self.data})\"\n",
    "\n",
    "    @property\n",
    "    def shape(self):\n",
    "        return (len(self.data), len(self.data[0]))\n",
    "\n",
    "    @property\n",
    "    def T(self):\n",
    "        return Matrix(matrix_transpose(self.data))\n",
    "    \n",
    "    def __add__(self, other):\n",
    "        return Matrix(matrix_add(self.data, other.data))\n",
    "    \n",
    "    def __mul__(self, other):\n",
    "        return Matrix(matrix_mul(self.data, other.data))\n",
    "    \n",
    "    # @ is the symbol for matrix multiplication\n",
    "    def __matmul__(self, other):\n",
    "        return Matrix(matrix_dot(self.data, other.data))"
   ]
  },
  {
   "cell_type": "code",
   "execution_count": 109,
   "metadata": {},
   "outputs": [
    {
     "name": "stdout",
     "output_type": "stream",
     "text": [
      "(2, 3) -- (3, 2)\n"
     ]
    }
   ],
   "source": [
    "A1 = Matrix([[1, 2, 3],\n",
    "             [4, 5, 6]])\n",
    "A2 = Matrix([[7, 8],\n",
    "             [9, 10],\n",
    "             [11, 12]])\n",
    "\n",
    "print(A1.shape, '--', A2.shape)"
   ]
  },
  {
   "cell_type": "code",
   "execution_count": 104,
   "metadata": {},
   "outputs": [
    {
     "name": "stdout",
     "output_type": "stream",
     "text": [
      "@ Matrix([[58, 64], [139, 154]]) True\n"
     ]
    }
   ],
   "source": [
    "print('@', A1 @ A2, np.allclose((A1 @ A2).data, np.array(A1.data) @ np.array(A2.data)))"
   ]
  },
  {
   "cell_type": "code",
   "execution_count": 105,
   "metadata": {},
   "outputs": [
    {
     "name": "stdout",
     "output_type": "stream",
     "text": [
      "+ Matrix([[8, 10, 12], [14, 16, 18]]) True\n"
     ]
    }
   ],
   "source": [
    "B1 = Matrix([[1, 2, 3],\n",
    "             [4, 5, 6]])\n",
    "B2 = Matrix([[7, 8, 9],\n",
    "             [10, 11, 12]])\n",
    "\n",
    "print('+', B1 + B2, np.allclose((B1 + B2).data, np.array(B1.data) + np.array(B2.data)))"
   ]
  }
 ],
 "metadata": {
  "kernelspec": {
   "display_name": "ds",
   "language": "python",
   "name": "python3"
  },
  "language_info": {
   "codemirror_mode": {
    "name": "ipython",
    "version": 3
   },
   "file_extension": ".py",
   "mimetype": "text/x-python",
   "name": "python",
   "nbconvert_exporter": "python",
   "pygments_lexer": "ipython3",
   "version": "3.9.18"
  }
 },
 "nbformat": 4,
 "nbformat_minor": 2
}
