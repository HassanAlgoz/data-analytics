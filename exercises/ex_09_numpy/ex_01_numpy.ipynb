{
 "cells": [
  {
   "cell_type": "markdown",
   "metadata": {},
   "source": [
    "# Exercises: NumPy"
   ]
  },
  {
   "cell_type": "code",
   "execution_count": 34,
   "metadata": {},
   "outputs": [],
   "source": [
    "import numpy as np"
   ]
  },
  {
   "cell_type": "code",
   "execution_count": 35,
   "metadata": {},
   "outputs": [],
   "source": [
    "# Consider the following nd-array:\n",
    "arr = np.array([\n",
    "    [ 1, 2, 3],\n",
    "    [ 4, 5, 6],\n",
    "    [ 7, 8, 9]])"
   ]
  },
  {
   "cell_type": "code",
   "execution_count": 36,
   "metadata": {},
   "outputs": [
    {
     "name": "stdout",
     "output_type": "stream",
     "text": [
      "number of dimensions is: 2\n"
     ]
    }
   ],
   "source": [
    "# what is the number of dimensions?\n",
    "print(f\"number of dimensions is: {arr.ndim}\")\n",
    "\n",
    "# what is the size?\n",
    "\n",
    "# what is the shape?\n",
    "\n",
    "# what is the data type stored in the array? `hint: dtype`\n"
   ]
  },
  {
   "cell_type": "code",
   "execution_count": 37,
   "metadata": {},
   "outputs": [
    {
     "name": "stdout",
     "output_type": "stream",
     "text": [
      "the index of the value 1 is: [0,0] since arr[0,0] = 1\n"
     ]
    }
   ],
   "source": [
    "# find the index of the value 1\n",
    "print(f\"the index of the value 1 is: [0,0] since arr[0,0] = {arr[0,0]}\")\n",
    "\n",
    "# find the index of the value 5\n",
    "\n",
    "# find the index of the value 9\n"
   ]
  },
  {
   "cell_type": "code",
   "execution_count": 38,
   "metadata": {},
   "outputs": [],
   "source": [
    "# extract the 3rd row\n",
    "\n",
    "# extract the 1st and 2nd rows row\n"
   ]
  },
  {
   "cell_type": "code",
   "execution_count": 39,
   "metadata": {},
   "outputs": [],
   "source": [
    "# add the 1st and last columns\n",
    "\n",
    "# multiply the 2nd row by itself\n"
   ]
  },
  {
   "cell_type": "code",
   "execution_count": 40,
   "metadata": {},
   "outputs": [],
   "source": [
    "# consider the following array:\n",
    "b = np.array([(1.5, 2, 3), (4, 5, 6)])\n",
    "\n",
    "# what is the data type of the array?\n"
   ]
  },
  {
   "cell_type": "code",
   "execution_count": 41,
   "metadata": {},
   "outputs": [],
   "source": [
    "#  reshape this 1D array into a 2D array of size (2, 5) (print the result)\n",
    "array = np.array([1, 2, 3, 4, 5, 6, 7, 8, 9, 10])\n",
    "\n",
    "# use: the .reshape function"
   ]
  },
  {
   "cell_type": "code",
   "execution_count": 42,
   "metadata": {},
   "outputs": [],
   "source": [
    "#  reshape this 2D array into a 1D array of size 9 (print the result)\n",
    "array = np.array([[1, 2, 3], [4, 5, 6], [7, 8, 9]])\n",
    "\n"
   ]
  },
  {
   "cell_type": "code",
   "execution_count": 43,
   "metadata": {},
   "outputs": [],
   "source": [
    "#  flatten this 3D array into a 1D array\n",
    "array = np.array([[[1, 2, 3], [4, 5, 6]], [[7, 8, 9], [10, 11, 12]]])\n",
    "\n"
   ]
  },
  {
   "cell_type": "code",
   "execution_count": 44,
   "metadata": {},
   "outputs": [],
   "source": [
    "# create an array of 15 elements\n",
    "# hint: use `np.arange()`\n",
    "\n",
    "\n",
    "# reshape it into a 3x5 array\n",
    "# hint: use `reshape`\n",
    "\n",
    "\n",
    "# reshape it again into a 5x3 array\n",
    "\n"
   ]
  },
  {
   "cell_type": "code",
   "execution_count": 45,
   "metadata": {},
   "outputs": [],
   "source": [
    "# create a 3x4 array of zeros\n",
    "# hint: use `np.zeros()`\n",
    "\n",
    "# create a 3x4 array of ones\n",
    "# hint: use `np.ones()`\n",
    "\n",
    "# create a 3x4 array of 88s\n",
    "# hint: use `np.full()`"
   ]
  },
  {
   "cell_type": "markdown",
   "metadata": {},
   "source": [
    "Exercise: copy vs. view"
   ]
  },
  {
   "cell_type": "code",
   "execution_count": 46,
   "metadata": {},
   "outputs": [
    {
     "name": "stdout",
     "output_type": "stream",
     "text": [
      "[4 2 3]\n"
     ]
    }
   ],
   "source": [
    "# Explain the output of the following code:\n",
    "arr_a = np.array([1, 2, 3])\n",
    "arr_b = arr_a[:]\n",
    "arr_b[0] = 4\n",
    "print(arr_a)"
   ]
  },
  {
   "cell_type": "markdown",
   "metadata": {},
   "source": [
    "Why is arr_a modified even though we only modified arr_b?\n",
    "\n",
    "Answer: "
   ]
  },
  {
   "cell_type": "code",
   "execution_count": 47,
   "metadata": {},
   "outputs": [
    {
     "name": "stdout",
     "output_type": "stream",
     "text": [
      "[1, 2, 3]\n"
     ]
    }
   ],
   "source": [
    "list_a = [1, 2, 3]\n",
    "list_b = list_a[:]\n",
    "list_b[0] = 4\n",
    "print(list_a)"
   ]
  },
  {
   "cell_type": "markdown",
   "metadata": {},
   "source": [
    "What do you notice about the difference between a Python list and a NumPy array? Specifically, one the `list_b = list_a[:]` assignment.\n",
    "\n",
    "- is the list copied or viewed?\n",
    "- is the array copied or viewed?"
   ]
  },
  {
   "cell_type": "markdown",
   "metadata": {},
   "source": [
    "Answer: "
   ]
  },
  {
   "cell_type": "code",
   "execution_count": 48,
   "metadata": {},
   "outputs": [],
   "source": [
    "#  stack the following two 1D arrays such that the output is\n",
    "# horizontally stacked: [1, 2, 3, 4, 5, 6]\n",
    "a = np.array([1, 2, 3])\n",
    "b = np.array([4, 5, 6])\n",
    "\n",
    "# use: np.hstack\n"
   ]
  },
  {
   "cell_type": "code",
   "execution_count": 49,
   "metadata": {},
   "outputs": [],
   "source": [
    "#  stack the following two 1D arrays such that the output is\n",
    "# vertically stacked: [[1, 2, 3],\n",
    "#                      [4, 5, 6]]\n",
    "a = np.array([1, 2, 3])\n",
    "b = np.array([4, 5, 6])\n",
    "\n",
    "\n"
   ]
  },
  {
   "cell_type": "code",
   "execution_count": 50,
   "metadata": {},
   "outputs": [],
   "source": [
    "#  sort the following array in descending order\n",
    "a = np.array([3, 2, 1, 4, 5])\n",
    "\n",
    "# use: np.sort\n",
    "# use: np.flip\n"
   ]
  },
  {
   "cell_type": "code",
   "execution_count": 51,
   "metadata": {},
   "outputs": [
    {
     "name": "stdout",
     "output_type": "stream",
     "text": [
      "[40 50]\n"
     ]
    }
   ],
   "source": [
    "# find the values in the array that are greater than 30\n",
    "a = np.array([10, 20, 30, 40, 50])\n",
    "print(a[a > 30])\n",
    "\n",
    "#  find even numbers in the array\n",
    "a = np.array([10, 20, 30, 40, 50])\n",
    "\n"
   ]
  },
  {
   "cell_type": "code",
   "execution_count": 52,
   "metadata": {},
   "outputs": [
    {
     "data": {
      "text/plain": [
       "array([[ 4,  3,  2],\n",
       "       [10,  1,  0],\n",
       "       [ 5,  8, 24]])"
      ]
     },
     "execution_count": 52,
     "metadata": {},
     "output_type": "execute_result"
    }
   ],
   "source": [
    "# Consider the following ndarray:\n",
    "arr = np.array([[4, 3, 2], [10, 1, 0], [5, 8, 24]])\n",
    "arr"
   ]
  },
  {
   "cell_type": "code",
   "execution_count": 53,
   "metadata": {},
   "outputs": [
    {
     "name": "stdout",
     "output_type": "stream",
     "text": [
      "[ 2.62466929  2.94392029 10.87300429]\n"
     ]
    }
   ],
   "source": [
    "# Calculate the mean and std of values on the entire array\n",
    "\n",
    "\n",
    "# Calculate the mean and std across the vertical axis\n",
    "print(arr.std(axis=0))\n",
    "\n",
    "# Calculate the mean and std across the horizontal axis\n"
   ]
  },
  {
   "cell_type": "code",
   "execution_count": 54,
   "metadata": {},
   "outputs": [],
   "source": [
    "#  find the index of the maximum value in the array\n",
    "arr = np.array([4, 3, 2, 10, 1, 0, 5, 8, 24])\n",
    "# use: np.argmax\n",
    "\n",
    "#  find the index of the minimum value in the array\n",
    "# use: np.argmin\n"
   ]
  },
  {
   "cell_type": "code",
   "execution_count": 55,
   "metadata": {},
   "outputs": [],
   "source": [
    "# use `ceil` and `floor` to round up and down the values in the following array\n",
    "arr = np.array([0.1, 0.8, -2.2, -9.87])\n"
   ]
  },
  {
   "cell_type": "code",
   "execution_count": 56,
   "metadata": {},
   "outputs": [],
   "source": [
    "# Find indices of non-zero elements from [1,2,0,0,4,0]\n",
    "# `hint: np.nonzero`\n"
   ]
  },
  {
   "cell_type": "code",
   "execution_count": 57,
   "metadata": {},
   "outputs": [],
   "source": [
    "# Create a 3x3 identity matrix\n",
    "# `hint: np.eye`\n"
   ]
  },
  {
   "cell_type": "code",
   "execution_count": 58,
   "metadata": {},
   "outputs": [],
   "source": [
    "# Create a 3x3x3 array with random values\n",
    "# `hint: np.random.random`\n"
   ]
  }
 ],
 "metadata": {
  "kernelspec": {
   "display_name": "base",
   "language": "python",
   "name": "python3"
  },
  "language_info": {
   "codemirror_mode": {
    "name": "ipython",
    "version": 3
   },
   "file_extension": ".py",
   "mimetype": "text/x-python",
   "name": "python",
   "nbconvert_exporter": "python",
   "pygments_lexer": "ipython3",
   "version": "3.9.18"
  }
 },
 "nbformat": 4,
 "nbformat_minor": 2
}
