{
 "cells": [
  {
   "cell_type": "code",
   "execution_count": 5,
   "metadata": {},
   "outputs": [],
   "source": [
    "import numpy as np\n",
    "import pandas as pd\n",
    "from numpy import random\n",
    "import datetime\n",
    "\n",
    "from scipy import stats\n",
    "\n",
    "# Create a list of student IDs\n",
    "student_ids = list(range(1, 241))\n",
    "\n",
    "# Create a list of cities\n",
    "origins = [\"Center\", \"East\", \"West\", \"North\", \"South\"]\n",
    "\n",
    "# Create a list of dates of birth\n",
    "# ages = list(range(20, 32))\n",
    "ages = stats.norm.rvs(loc=23, scale=2, size=240)\n",
    "\n",
    "# Create a DataFrame of the student data\n",
    "df = pd.DataFrame({\n",
    "    \"student_id\": student_ids,\n",
    "    \"gender\": random.choice([\"F\", \"M\"], p=[0.70, 0.30], size=240),\n",
    "    \"origin\": random.choice([\"Center\", \"East\", \"West\", \"North\", \"South\"], p=[0.5, 0.125, 0.125, 0.125, 0.125], size=240),\n",
    "    \"age\": np.round(ages).astype('i'),\n",
    "})\n",
    "\n",
    "# Save the DataFrame to a CSV file\n",
    "df.to_csv(\"../../datasets/academy/students_v2.csv\", index=False)"
   ]
  }
 ],
 "metadata": {
  "kernelspec": {
   "display_name": "base",
   "language": "python",
   "name": "python3"
  },
  "language_info": {
   "codemirror_mode": {
    "name": "ipython",
    "version": 3
   },
   "file_extension": ".py",
   "mimetype": "text/x-python",
   "name": "python",
   "nbconvert_exporter": "python",
   "pygments_lexer": "ipython3",
   "version": "3.11.4"
  }
 },
 "nbformat": 4,
 "nbformat_minor": 2
}
