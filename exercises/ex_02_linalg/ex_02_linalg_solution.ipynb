{
 "cells": [
  {
   "cell_type": "markdown",
   "metadata": {},
   "source": [
    "# Exercises: Linear Algebra"
   ]
  },
  {
   "cell_type": "markdown",
   "metadata": {},
   "source": [
    "- Add notes about scientific notation (students will see it when they do the inverse and don't see zeros!)\n",
    "- Add notes about numerical problems (see question 8 About arccos, it did not accept the value because it fell out of its domain 1.0000000002)"
   ]
  },
  {
   "cell_type": "markdown",
   "metadata": {},
   "source": [
    "<img src=\"https://www.wallstreetmojo.com/wp-content/uploads/2019/08/Scientific-Notation-in-Excel-Example1.3.png\">"
   ]
  },
  {
   "cell_type": "code",
   "execution_count": 1,
   "metadata": {},
   "outputs": [],
   "source": [
    "import numpy as np"
   ]
  },
  {
   "cell_type": "code",
   "execution_count": 2,
   "metadata": {},
   "outputs": [
    {
     "data": {
      "text/plain": [
       "array([[ 10,  40,  60],\n",
       "       [ 40, 100, 120]])"
      ]
     },
     "execution_count": 2,
     "metadata": {},
     "output_type": "execute_result"
    }
   ],
   "source": [
    "# Element-wise multiplication\n",
    "A = np.array([[1, 2, 2],\n",
    "             [1, 2, 2]])\n",
    "B = np.array([[10, 20, 30],\n",
    "             [40, 50, 60]])\n",
    "A * B"
   ]
  },
  {
   "cell_type": "code",
   "execution_count": 5,
   "metadata": {},
   "outputs": [
    {
     "data": {
      "text/plain": [
       "array([[110, 260],\n",
       "       [110, 260]])"
      ]
     },
     "execution_count": 5,
     "metadata": {},
     "output_type": "execute_result"
    }
   ],
   "source": [
    "A.dot(B.T)"
   ]
  },
  {
   "cell_type": "code",
   "execution_count": 27,
   "metadata": {},
   "outputs": [
    {
     "data": {
      "text/plain": [
       "array([[110, 260],\n",
       "       [110, 260]])"
      ]
     },
     "execution_count": 27,
     "metadata": {},
     "output_type": "execute_result"
    }
   ],
   "source": [
    "A @ B.T"
   ]
  },
  {
   "cell_type": "markdown",
   "metadata": {},
   "source": [
    "**Vectors**"
   ]
  },
  {
   "cell_type": "markdown",
   "metadata": {},
   "source": [
    "\n",
    "**Q1.** Let $\\mathbf{v} = \\begin{pmatrix} 1 \\\\ 2 \\\\ 3 \\end{pmatrix}$. Find the following:\n",
    "\n",
    "- (a) $2\\mathbf{v}$\n",
    "- (b) $\\frac{1}{2} \\mathbf{v}$\n",
    "- (c) $-\\mathbf{v}$\n",
    "- (e) $5 \\mathbf{v} - \\frac{1}{2} \\mathbf{v}$"
   ]
  },
  {
   "cell_type": "code",
   "execution_count": null,
   "metadata": {},
   "outputs": [],
   "source": [
    "# your code here..."
   ]
  },
  {
   "cell_type": "markdown",
   "metadata": {},
   "source": [
    "\n",
    "**Q2.** Let $\\mathbf{v} = \\begin{pmatrix} 1 \\\\ 2 \\\\ 3 \\end{pmatrix}$ and $\\mathbf{w} = \\begin{pmatrix} 4 \\\\ 5 \\\\ 6 \\end{pmatrix}$. Find the following:\n",
    "\n",
    "- (a) $\\mathbf{v} + \\mathbf{w}$\n",
    "- (b) $\\mathbf{v} - \\mathbf{w}$\n",
    "- (c) $3 \\mathbf{v}$\n",
    "- (d) $\\|\\mathbf{v}\\|$\n",
    "- (e) $\\mathbf{v} \\cdot \\mathbf{w}$"
   ]
  },
  {
   "cell_type": "code",
   "execution_count": null,
   "metadata": {},
   "outputs": [],
   "source": [
    "# your code here..."
   ]
  },
  {
   "cell_type": "markdown",
   "metadata": {},
   "source": [
    "**Q3.** Let $\\mathbf{u} = \\begin{pmatrix} 1 \\\\ 2 \\\\ 3 \\end{pmatrix}$, $\\mathbf{v} = \\begin{pmatrix} 4 \\\\ 5 \\\\ 6 \\end{pmatrix}$, and $\\mathbf{w} = \\begin{pmatrix} 7 \\\\ 8 \\\\ 9 \\end{pmatrix}$. Find the following:\n",
    "\n",
    "- (a) $\\mathbf{u} + \\mathbf{v} + \\mathbf{w}$\n",
    "- (b) $2 \\mathbf{u} - \\mathbf{v}$\n",
    "- (c) $3 \\mathbf{u} \\cdot \\mathbf{v}$\n",
    "- (d) $\\|\\mathbf{u} + \\mathbf{v}\\|$"
   ]
  },
  {
   "cell_type": "code",
   "execution_count": null,
   "metadata": {},
   "outputs": [],
   "source": [
    "# your code here..."
   ]
  },
  {
   "cell_type": "markdown",
   "metadata": {},
   "source": [
    "**Matrices**"
   ]
  },
  {
   "cell_type": "markdown",
   "metadata": {},
   "source": [
    "**Q4.** Let $A = \\begin{pmatrix} 1 & 2 \\\\ 3 & 4 \\end{pmatrix}$. Find the following:\n",
    "\n",
    "- (a) $2A$\n",
    "- (b) $\\frac{1}{2} A$\n",
    "- (c) $-A$"
   ]
  },
  {
   "cell_type": "code",
   "execution_count": null,
   "metadata": {},
   "outputs": [],
   "source": [
    "# your code here..."
   ]
  },
  {
   "cell_type": "markdown",
   "metadata": {},
   "source": [
    "**Q5.** Let $A = \\begin{pmatrix} 1 & 2 \\\\ 3 & 4 \\end{pmatrix}$ and $B = \\begin{pmatrix} 5 & 6 \\\\ 7 & 8 \\end{pmatrix}$. Find the following:\n",
    "\n",
    "- (a) $A + B$\n",
    "- (b) $AB$\n",
    "- (c) $A^T B^T$\n",
    "- (d) $A^{-1} B^{-1}$"
   ]
  },
  {
   "cell_type": "code",
   "execution_count": null,
   "metadata": {},
   "outputs": [],
   "source": [
    "# your code here..."
   ]
  },
  {
   "cell_type": "markdown",
   "metadata": {},
   "source": [
    "**Q6.** Let $A = \\begin{pmatrix} 1 & 2 \\\\ 3 & 4 \\end{pmatrix}$ and $B = \\begin{pmatrix} 5 & 6 \\\\ 7 & 8 \\end{pmatrix}$. Find the following:\n",
    "\n",
    "- (a) $2B - 3A$\n",
    "- (b) $B \\odot A$\n",
    "- (c) $A^T B^T$\n",
    "- (d) $AA^{-1} + BB^{-1}$"
   ]
  },
  {
   "cell_type": "code",
   "execution_count": null,
   "metadata": {},
   "outputs": [],
   "source": [
    "# your code here..."
   ]
  },
  {
   "cell_type": "markdown",
   "metadata": {},
   "source": [
    "**Q7.** Let:\n",
    "\n",
    "$A = \\begin{pmatrix}\n",
    "    1 & 2 \\\\\n",
    "    6 & 3\n",
    "\\end{pmatrix}$ , \n",
    "$B = \\begin{pmatrix}\n",
    "    2 & 1 \\\\\n",
    "    3 & 5\n",
    "\\end{pmatrix}$ , \n",
    "$\\mathbf{v} = \\begin{pmatrix} 2 \\\\ 3 \\end{pmatrix}$ , \n",
    "$\\mathbf{u} = \\begin{pmatrix} 4 \\\\ 6 \\end{pmatrix}$\n",
    "\n",
    "Find the following:\n",
    "\n",
    "- (a) $2A \\mathbf{v}$\n",
    "- (b) $-2B \\mathbf{v}$\n",
    "- (c) $AB\\mathbf{u}$\n",
    "- (D) $(A + B)(\\mathbf{u} - 2\\mathbf{v})$"
   ]
  },
  {
   "cell_type": "code",
   "execution_count": null,
   "metadata": {},
   "outputs": [],
   "source": [
    "# your code here..."
   ]
  },
  {
   "cell_type": "markdown",
   "metadata": {},
   "source": [
    "### Q8. Vector angle:\n",
    "\n",
    "$$\n",
    "\\theta = \\cos^{-1} \\left( \\frac{\\vec{u} \\cdot \\vec{v}}{|\\vec{u}||\\vec{v}|} \\right)\n",
    "$$"
   ]
  },
  {
   "cell_type": "code",
   "execution_count": 12,
   "metadata": {},
   "outputs": [
    {
     "name": "stdout",
     "output_type": "stream",
     "text": [
      "26\n",
      "25.999999999999996\n",
      "0.0\n"
     ]
    }
   ],
   "source": [
    "# your code here...\n",
    "import numpy as np\n",
    "\n",
    "# Interesting discussion about numerical problems with small numbers here!\n",
    "u = np.array([2, 3])\n",
    "v = np.array([4, 6])\n",
    "\n",
    "norms = np.linalg.norm(u) * np.linalg.norm(v)\n",
    "dot = np.dot(u, v)\n",
    "print(dot)\n",
    "print(norms)\n",
    "rounded = np.round(dot / norms)\n",
    "print(np.arccos(rounded))"
   ]
  },
  {
   "cell_type": "code",
   "execution_count": 5,
   "metadata": {},
   "outputs": [
    {
     "name": "stdout",
     "output_type": "stream",
     "text": [
      "\u001b[1;31mCall signature:\u001b[0m  \u001b[0mnp\u001b[0m\u001b[1;33m.\u001b[0m\u001b[0marccos\u001b[0m\u001b[1;33m(\u001b[0m\u001b[1;33m*\u001b[0m\u001b[0margs\u001b[0m\u001b[1;33m,\u001b[0m \u001b[1;33m**\u001b[0m\u001b[0mkwargs\u001b[0m\u001b[1;33m)\u001b[0m\u001b[1;33m\u001b[0m\u001b[1;33m\u001b[0m\u001b[0m\n",
      "\u001b[1;31mType:\u001b[0m            ufunc\n",
      "\u001b[1;31mString form:\u001b[0m     <ufunc 'arccos'>\n",
      "\u001b[1;31mFile:\u001b[0m            c:\\users\\thund\\anaconda3\\lib\\site-packages\\numpy\\__init__.py\n",
      "\u001b[1;31mDocstring:\u001b[0m      \n",
      "arccos(x, /, out=None, *, where=True, casting='same_kind', order='K', dtype=None, subok=True[, signature, extobj])\n",
      "\n",
      "Trigonometric inverse cosine, element-wise.\n",
      "\n",
      "The inverse of `cos` so that, if ``y = cos(x)``, then ``x = arccos(y)``.\n",
      "\n",
      "Parameters\n",
      "----------\n",
      "x : array_like\n",
      "    `x`-coordinate on the unit circle.\n",
      "    For real arguments, the domain is [-1, 1].\n",
      "out : ndarray, None, or tuple of ndarray and None, optional\n",
      "    A location into which the result is stored. If provided, it must have\n",
      "    a shape that the inputs broadcast to. If not provided or None,\n",
      "    a freshly-allocated array is returned. A tuple (possible only as a\n",
      "    keyword argument) must have length equal to the number of outputs.\n",
      "where : array_like, optional\n",
      "    This condition is broadcast over the input. At locations where the\n",
      "    condition is True, the `out` array will be set to the ufunc result.\n",
      "    Elsewhere, the `out` array will retain its original value.\n",
      "    Note that if an uninitialized `out` array is created via the default\n",
      "    ``out=None``, locations within it where the condition is False will\n",
      "    remain uninitialized.\n",
      "**kwargs\n",
      "    For other keyword-only arguments, see the\n",
      "    :ref:`ufunc docs <ufuncs.kwargs>`.\n",
      "\n",
      "Returns\n",
      "-------\n",
      "angle : ndarray\n",
      "    The angle of the ray intersecting the unit circle at the given\n",
      "    `x`-coordinate in radians [0, pi].\n",
      "    This is a scalar if `x` is a scalar.\n",
      "\n",
      "See Also\n",
      "--------\n",
      "cos, arctan, arcsin, emath.arccos\n",
      "\n",
      "Notes\n",
      "-----\n",
      "`arccos` is a multivalued function: for each `x` there are infinitely\n",
      "many numbers `z` such that ``cos(z) = x``. The convention is to return\n",
      "the angle `z` whose real part lies in `[0, pi]`.\n",
      "\n",
      "For real-valued input data types, `arccos` always returns real output.\n",
      "For each value that cannot be expressed as a real number or infinity,\n",
      "it yields ``nan`` and sets the `invalid` floating point error flag.\n",
      "\n",
      "For complex-valued input, `arccos` is a complex analytic function that\n",
      "has branch cuts ``[-inf, -1]`` and `[1, inf]` and is continuous from\n",
      "above on the former and from below on the latter.\n",
      "\n",
      "The inverse `cos` is also known as `acos` or cos^-1.\n",
      "\n",
      "References\n",
      "----------\n",
      "M. Abramowitz and I.A. Stegun, \"Handbook of Mathematical Functions\",\n",
      "10th printing, 1964, pp. 79.\n",
      "https://personal.math.ubc.ca/~cbm/aands/page_79.htm\n",
      "\n",
      "Examples\n",
      "--------\n",
      "We expect the arccos of 1 to be 0, and of -1 to be pi:\n",
      "\n",
      ">>> np.arccos([1, -1])\n",
      "array([ 0.        ,  3.14159265])\n",
      "\n",
      "Plot arccos:\n",
      "\n",
      ">>> import matplotlib.pyplot as plt\n",
      ">>> x = np.linspace(-1, 1, num=100)\n",
      ">>> plt.plot(x, np.arccos(x))\n",
      ">>> plt.axis('tight')\n",
      ">>> plt.show()\n",
      "\u001b[1;31mClass docstring:\u001b[0m\n",
      "Functions that operate element by element on whole arrays.\n",
      "\n",
      "To see the documentation for a specific ufunc, use `info`.  For\n",
      "example, ``np.info(np.sin)``.  Because ufuncs are written in C\n",
      "(for speed) and linked into Python with NumPy's ufunc facility,\n",
      "Python's help() function finds this page whenever help() is called\n",
      "on a ufunc.\n",
      "\n",
      "A detailed explanation of ufuncs can be found in the docs for :ref:`ufuncs`.\n",
      "\n",
      "**Calling ufuncs:** ``op(*x[, out], where=True, **kwargs)``\n",
      "\n",
      "Apply `op` to the arguments `*x` elementwise, broadcasting the arguments.\n",
      "\n",
      "The broadcasting rules are:\n",
      "\n",
      "* Dimensions of length 1 may be prepended to either array.\n",
      "* Arrays may be repeated along dimensions of length 1.\n",
      "\n",
      "Parameters\n",
      "----------\n",
      "*x : array_like\n",
      "    Input arrays.\n",
      "out : ndarray, None, or tuple of ndarray and None, optional\n",
      "    Alternate array object(s) in which to put the result; if provided, it\n",
      "    must have a shape that the inputs broadcast to. A tuple of arrays\n",
      "    (possible only as a keyword argument) must have length equal to the\n",
      "    number of outputs; use None for uninitialized outputs to be\n",
      "    allocated by the ufunc.\n",
      "where : array_like, optional\n",
      "    This condition is broadcast over the input. At locations where the\n",
      "    condition is True, the `out` array will be set to the ufunc result.\n",
      "    Elsewhere, the `out` array will retain its original value.\n",
      "    Note that if an uninitialized `out` array is created via the default\n",
      "    ``out=None``, locations within it where the condition is False will\n",
      "    remain uninitialized.\n",
      "**kwargs\n",
      "    For other keyword-only arguments, see the :ref:`ufunc docs <ufuncs.kwargs>`.\n",
      "\n",
      "Returns\n",
      "-------\n",
      "r : ndarray or tuple of ndarray\n",
      "    `r` will have the shape that the arrays in `x` broadcast to; if `out` is\n",
      "    provided, it will be returned. If not, `r` will be allocated and\n",
      "    may contain uninitialized values. If the function has more than one\n",
      "    output, then the result will be a tuple of arrays."
     ]
    }
   ],
   "source": [
    "np.arccos?"
   ]
  }
 ],
 "metadata": {
  "kernelspec": {
   "display_name": "base",
   "language": "python",
   "name": "python3"
  },
  "language_info": {
   "codemirror_mode": {
    "name": "ipython",
    "version": 3
   },
   "file_extension": ".py",
   "mimetype": "text/x-python",
   "name": "python",
   "nbconvert_exporter": "python",
   "pygments_lexer": "ipython3",
   "version": "3.9.18"
  }
 },
 "nbformat": 4,
 "nbformat_minor": 2
}
