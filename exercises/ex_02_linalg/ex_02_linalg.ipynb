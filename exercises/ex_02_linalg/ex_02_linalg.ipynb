{
 "cells": [
  {
   "cell_type": "markdown",
   "metadata": {},
   "source": [
    "# Exercises: Linear Algebra"
   ]
  },
  {
   "cell_type": "markdown",
   "metadata": {},
   "source": [
    "The following table is the scientific notation table for some numbers."
   ]
  },
  {
   "cell_type": "markdown",
   "metadata": {},
   "source": [
    "<img src=\"https://www.wallstreetmojo.com/wp-content/uploads/2019/08/Scientific-Notation-in-Excel-Example1.3.png\">"
   ]
  },
  {
   "cell_type": "code",
   "execution_count": null,
   "metadata": {},
   "outputs": [],
   "source": [
    "import numpy as np"
   ]
  },
  {
   "cell_type": "markdown",
   "metadata": {},
   "source": [
    "Note:\n",
    "\n",
    "- $AB$ is matrix multiplication, not element-wise multiplication. The latter is denoted by $A \\odot B$ or $A \\circ B$.\n",
    "- $A^T$ is the transpose of $A$\n",
    "- $A^{-1}$ is the inverse of $A$\n",
    "- $vw$ is the dot product of $v$ and $w$, which is denoted by $v \\cdot w$ or $v^T w$."
   ]
  },
  {
   "cell_type": "markdown",
   "metadata": {},
   "source": [
    "**Vectors**"
   ]
  },
  {
   "cell_type": "markdown",
   "metadata": {},
   "source": [
    "\n",
    "**Q1.** Let $\\mathbf{v} = \\begin{pmatrix} 1 \\\\ 2 \\\\ 3 \\end{pmatrix}$. Find the following:\n",
    "\n",
    "- (a) $2\\mathbf{v}$\n",
    "- (b) $\\frac{1}{2} \\mathbf{v}$\n",
    "- (c) $-\\mathbf{v}$\n",
    "- (e) $5 \\mathbf{v} - \\frac{1}{2} \\mathbf{v}$"
   ]
  },
  {
   "cell_type": "code",
   "execution_count": null,
   "metadata": {},
   "outputs": [],
   "source": [
    "# your code here..."
   ]
  },
  {
   "cell_type": "markdown",
   "metadata": {},
   "source": [
    "\n",
    "**Q2.** Let $\\mathbf{v} = \\begin{pmatrix} 1 \\\\ 2 \\\\ 3 \\end{pmatrix}$ and $\\mathbf{w} = \\begin{pmatrix} 4 \\\\ 5 \\\\ 6 \\end{pmatrix}$. Find the following:\n",
    "\n",
    "- (a) $\\mathbf{v} + \\mathbf{w}$\n",
    "- (b) $\\mathbf{v} - \\mathbf{w}$\n",
    "- (c) $3 \\mathbf{v}$\n",
    "- (d) $\\|\\mathbf{v}\\|$\n",
    "- (e) $\\mathbf{v} \\cdot \\mathbf{w}$"
   ]
  },
  {
   "cell_type": "code",
   "execution_count": null,
   "metadata": {},
   "outputs": [],
   "source": [
    "# your code here..."
   ]
  },
  {
   "cell_type": "markdown",
   "metadata": {},
   "source": [
    "**Q3.** Let $\\mathbf{u} = \\begin{pmatrix} 1 \\\\ 2 \\\\ 3 \\end{pmatrix}$, $\\mathbf{v} = \\begin{pmatrix} 4 \\\\ 5 \\\\ 6 \\end{pmatrix}$, and $\\mathbf{w} = \\begin{pmatrix} 7 \\\\ 8 \\\\ 9 \\end{pmatrix}$. Find the following:\n",
    "\n",
    "- (a) $\\mathbf{u} + \\mathbf{v} + \\mathbf{w}$\n",
    "- (b) $2 \\mathbf{u} - \\mathbf{v}$\n",
    "- (c) $3 \\mathbf{u} \\cdot \\mathbf{v}$\n",
    "- (d) $\\|\\mathbf{u} + \\mathbf{v}\\|$"
   ]
  },
  {
   "cell_type": "code",
   "execution_count": null,
   "metadata": {},
   "outputs": [],
   "source": [
    "# your code here..."
   ]
  },
  {
   "cell_type": "markdown",
   "metadata": {},
   "source": [
    "**Matrices**"
   ]
  },
  {
   "cell_type": "markdown",
   "metadata": {},
   "source": [
    "**Q4.** Let $A = \\begin{pmatrix} 1 & 2 \\\\ 3 & 4 \\end{pmatrix}$. Find the following:\n",
    "\n",
    "- (a) $2A$\n",
    "- (b) $\\frac{1}{2} A$\n",
    "- (c) $-A$"
   ]
  },
  {
   "cell_type": "code",
   "execution_count": null,
   "metadata": {},
   "outputs": [],
   "source": [
    "# your code here..."
   ]
  },
  {
   "cell_type": "markdown",
   "metadata": {},
   "source": [
    "**Q5.** Let $A = \\begin{pmatrix} 1 & 2 \\\\ 3 & 4 \\end{pmatrix}$ and $B = \\begin{pmatrix} 5 & 6 \\\\ 7 & 8 \\end{pmatrix}$. Find the following:\n",
    "\n",
    "- (a) $A + B$\n",
    "- (b) $AB$\n",
    "- (c) $A^T B^T$\n",
    "- (d) $A^{-1} B^{-1}$"
   ]
  },
  {
   "cell_type": "code",
   "execution_count": null,
   "metadata": {},
   "outputs": [],
   "source": [
    "# your code here..."
   ]
  },
  {
   "cell_type": "markdown",
   "metadata": {},
   "source": [
    "**Q6.** Let $A = \\begin{pmatrix} 1 & 2 \\\\ 3 & 4 \\end{pmatrix}$ and $B = \\begin{pmatrix} 5 & 6 \\\\ 7 & 8 \\end{pmatrix}$. Find the following:\n",
    "\n",
    "- (a) $2B - 3A$\n",
    "- (b) $B \\odot A$ (this is elemnt-wise product using the `*` operator)\n",
    "- (c) $A^T B^T$\n",
    "- (d) $AA^{-1} + BB^{-1}$"
   ]
  },
  {
   "cell_type": "code",
   "execution_count": null,
   "metadata": {},
   "outputs": [],
   "source": [
    "# your code here..."
   ]
  },
  {
   "cell_type": "markdown",
   "metadata": {},
   "source": [
    "**Q7.** Let:\n",
    "\n",
    "$A = \\begin{pmatrix}\n",
    "    1 & 2 \\\\\n",
    "    6 & 3\n",
    "\\end{pmatrix}$ , \n",
    "$B = \\begin{pmatrix}\n",
    "    2 & 1 \\\\\n",
    "    3 & 5\n",
    "\\end{pmatrix}$ , \n",
    "$\\mathbf{v} = \\begin{pmatrix} 2 \\\\ 3 \\end{pmatrix}$ , \n",
    "$\\mathbf{u} = \\begin{pmatrix} 4 \\\\ 6 \\end{pmatrix}$\n",
    "\n",
    "Find the following:\n",
    "\n",
    "- (a) $2A \\mathbf{v}$\n",
    "- (b) $-2B \\mathbf{v}$\n",
    "- (c) $AB\\mathbf{u}$\n",
    "- (D) $(A + B)(\\mathbf{u} - 2\\mathbf{v})$"
   ]
  },
  {
   "cell_type": "code",
   "execution_count": null,
   "metadata": {},
   "outputs": [],
   "source": [
    "# your code here..."
   ]
  },
  {
   "cell_type": "markdown",
   "metadata": {},
   "source": [
    "### Q8. Vector angle:\n",
    "\n",
    "$$\n",
    "\\theta = \\cos^{-1} \\left( \\frac{\\vec{u} \\cdot \\vec{v}}{|\\vec{u}||\\vec{v}|} \\right)\n",
    "$$"
   ]
  },
  {
   "cell_type": "markdown",
   "metadata": {},
   "source": [
    "**Note**: you have to break down the computation into multiple steps and print them, in order to find out what is going wrong. (there is a trick in the question that you have to find out: **hint: `1.0000000002`**)"
   ]
  },
  {
   "cell_type": "code",
   "execution_count": null,
   "metadata": {},
   "outputs": [],
   "source": [
    "import numpy as np\n",
    "\n",
    "u = np.array([2, 3])\n",
    "v = np.array([4, 6])\n",
    "\n",
    "# note: you will have to round the result of the division before feeding it to the arccos function\n",
    "# hint: use the np.arccos() function\n",
    "# your code here..."
   ]
  }
 ],
 "metadata": {
  "kernelspec": {
   "display_name": "base",
   "language": "python",
   "name": "python3"
  },
  "language_info": {
   "codemirror_mode": {
    "name": "ipython",
    "version": 3
   },
   "file_extension": ".py",
   "mimetype": "text/x-python",
   "name": "python",
   "nbconvert_exporter": "python",
   "pygments_lexer": "ipython3",
   "version": "3.9.18"
  }
 },
 "nbformat": 4,
 "nbformat_minor": 2
}
