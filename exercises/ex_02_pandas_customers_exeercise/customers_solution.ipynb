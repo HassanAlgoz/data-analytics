{
 "cells": [
  {
   "cell_type": "markdown",
   "id": "43088f87-506c-4393-9068-57cbedb75166",
   "metadata": {
    "jp-MarkdownHeadingCollapsed": true,
    "tags": []
   },
   "source": [
    "# Understand Customers\n",
    "\n",
    "**Tasks**:\n",
    "\n",
    "0. Please read the `customers.csv` file to use as your dataset to explore the following:"
   ]
  },
  {
   "cell_type": "code",
   "execution_count": 1,
   "id": "3fc2e65f",
   "metadata": {},
   "outputs": [],
   "source": [
    "import pandas as pd"
   ]
  },
  {
   "cell_type": "code",
   "execution_count": 2,
   "id": "d99df168",
   "metadata": {},
   "outputs": [
    {
     "data": {
      "text/html": [
       "<div>\n",
       "<style scoped>\n",
       "    .dataframe tbody tr th:only-of-type {\n",
       "        vertical-align: middle;\n",
       "    }\n",
       "\n",
       "    .dataframe tbody tr th {\n",
       "        vertical-align: top;\n",
       "    }\n",
       "\n",
       "    .dataframe thead th {\n",
       "        text-align: right;\n",
       "    }\n",
       "</style>\n",
       "<table border=\"1\" class=\"dataframe\">\n",
       "  <thead>\n",
       "    <tr style=\"text-align: right;\">\n",
       "      <th></th>\n",
       "      <th>name</th>\n",
       "      <th>dob</th>\n",
       "      <th>gender</th>\n",
       "      <th>visits</th>\n",
       "    </tr>\n",
       "    <tr>\n",
       "      <th>customer_id</th>\n",
       "      <th></th>\n",
       "      <th></th>\n",
       "      <th></th>\n",
       "      <th></th>\n",
       "    </tr>\n",
       "  </thead>\n",
       "  <tbody>\n",
       "    <tr>\n",
       "      <th>1</th>\n",
       "      <td>Jamila</td>\n",
       "      <td>1989-01-12</td>\n",
       "      <td>F</td>\n",
       "      <td>23</td>\n",
       "    </tr>\n",
       "    <tr>\n",
       "      <th>2</th>\n",
       "      <td>Omar</td>\n",
       "      <td>1983-04-03</td>\n",
       "      <td>M</td>\n",
       "      <td>17</td>\n",
       "    </tr>\n",
       "    <tr>\n",
       "      <th>3</th>\n",
       "      <td>Murad</td>\n",
       "      <td>1993-12-09</td>\n",
       "      <td>M</td>\n",
       "      <td>12</td>\n",
       "    </tr>\n",
       "    <tr>\n",
       "      <th>4</th>\n",
       "      <td>Aaliyah</td>\n",
       "      <td>1977-09-14</td>\n",
       "      <td>F</td>\n",
       "      <td>38</td>\n",
       "    </tr>\n",
       "    <tr>\n",
       "      <th>5</th>\n",
       "      <td>Abdulrahman</td>\n",
       "      <td>1991-02-18</td>\n",
       "      <td>M</td>\n",
       "      <td>10</td>\n",
       "    </tr>\n",
       "  </tbody>\n",
       "</table>\n",
       "</div>"
      ],
      "text/plain": [
       "                    name        dob gender  visits\n",
       "customer_id                                       \n",
       "1                 Jamila 1989-01-12      F      23\n",
       "2                   Omar 1983-04-03      M      17\n",
       "3                  Murad 1993-12-09      M      12\n",
       "4                Aaliyah 1977-09-14      F      38\n",
       "5            Abdulrahman 1991-02-18      M      10"
      ]
     },
     "execution_count": 2,
     "metadata": {},
     "output_type": "execute_result"
    }
   ],
   "source": [
    "df = pd.read_csv('customers.csv', parse_dates=['dob'], index_col='customer_id')\n",
    "df.head()"
   ]
  },
  {
   "cell_type": "markdown",
   "id": "31b4cf13",
   "metadata": {},
   "source": [
    "\n",
    "1. rename column: dob to date_of_birth"
   ]
  },
  {
   "cell_type": "code",
   "execution_count": 3,
   "id": "fd0676c2",
   "metadata": {},
   "outputs": [
    {
     "data": {
      "text/html": [
       "<div>\n",
       "<style scoped>\n",
       "    .dataframe tbody tr th:only-of-type {\n",
       "        vertical-align: middle;\n",
       "    }\n",
       "\n",
       "    .dataframe tbody tr th {\n",
       "        vertical-align: top;\n",
       "    }\n",
       "\n",
       "    .dataframe thead th {\n",
       "        text-align: right;\n",
       "    }\n",
       "</style>\n",
       "<table border=\"1\" class=\"dataframe\">\n",
       "  <thead>\n",
       "    <tr style=\"text-align: right;\">\n",
       "      <th></th>\n",
       "      <th>name</th>\n",
       "      <th>date_of_birth</th>\n",
       "      <th>gender</th>\n",
       "      <th>visits</th>\n",
       "    </tr>\n",
       "    <tr>\n",
       "      <th>customer_id</th>\n",
       "      <th></th>\n",
       "      <th></th>\n",
       "      <th></th>\n",
       "      <th></th>\n",
       "    </tr>\n",
       "  </thead>\n",
       "  <tbody>\n",
       "    <tr>\n",
       "      <th>1</th>\n",
       "      <td>Jamila</td>\n",
       "      <td>1989-01-12</td>\n",
       "      <td>F</td>\n",
       "      <td>23</td>\n",
       "    </tr>\n",
       "    <tr>\n",
       "      <th>2</th>\n",
       "      <td>Omar</td>\n",
       "      <td>1983-04-03</td>\n",
       "      <td>M</td>\n",
       "      <td>17</td>\n",
       "    </tr>\n",
       "    <tr>\n",
       "      <th>3</th>\n",
       "      <td>Murad</td>\n",
       "      <td>1993-12-09</td>\n",
       "      <td>M</td>\n",
       "      <td>12</td>\n",
       "    </tr>\n",
       "    <tr>\n",
       "      <th>4</th>\n",
       "      <td>Aaliyah</td>\n",
       "      <td>1977-09-14</td>\n",
       "      <td>F</td>\n",
       "      <td>38</td>\n",
       "    </tr>\n",
       "    <tr>\n",
       "      <th>5</th>\n",
       "      <td>Abdulrahman</td>\n",
       "      <td>1991-02-18</td>\n",
       "      <td>M</td>\n",
       "      <td>10</td>\n",
       "    </tr>\n",
       "  </tbody>\n",
       "</table>\n",
       "</div>"
      ],
      "text/plain": [
       "                    name date_of_birth gender  visits\n",
       "customer_id                                          \n",
       "1                 Jamila    1989-01-12      F      23\n",
       "2                   Omar    1983-04-03      M      17\n",
       "3                  Murad    1993-12-09      M      12\n",
       "4                Aaliyah    1977-09-14      F      38\n",
       "5            Abdulrahman    1991-02-18      M      10"
      ]
     },
     "execution_count": 3,
     "metadata": {},
     "output_type": "execute_result"
    }
   ],
   "source": [
    "df.rename(columns={'dob': 'date_of_birth'}, inplace=True)\n",
    "df.head()"
   ]
  },
  {
   "cell_type": "markdown",
   "id": "52cba11d",
   "metadata": {},
   "source": [
    "2. inspect the gender column and handle any inconsistencies (hint: `value_counts`)\n"
   ]
  },
  {
   "cell_type": "code",
   "execution_count": 4,
   "id": "9b5c9c27",
   "metadata": {},
   "outputs": [
    {
     "data": {
      "text/plain": [
       "gender\n",
       "M         26\n",
       "F         18\n",
       "Female     4\n",
       "Male       2\n",
       "Name: count, dtype: int64"
      ]
     },
     "execution_count": 4,
     "metadata": {},
     "output_type": "execute_result"
    }
   ],
   "source": [
    "df['gender'].value_counts()"
   ]
  },
  {
   "cell_type": "code",
   "execution_count": 5,
   "id": "e114e5a6",
   "metadata": {},
   "outputs": [
    {
     "data": {
      "text/plain": [
       "gender\n",
       "Male      28\n",
       "Female    22\n",
       "Name: count, dtype: int64"
      ]
     },
     "execution_count": 5,
     "metadata": {},
     "output_type": "execute_result"
    }
   ],
   "source": [
    "df['gender'].replace({'M': 'Male', 'F': 'Female'}, inplace=True)\n",
    "df['gender'].value_counts()"
   ]
  },
  {
   "cell_type": "markdown",
   "id": "bc9b0ff1",
   "metadata": {},
   "source": [
    "3. add new column: age_in_days\n"
   ]
  },
  {
   "cell_type": "code",
   "execution_count": 6,
   "id": "834a77f8",
   "metadata": {},
   "outputs": [],
   "source": [
    "df['date_of_birth'] = pd.to_datetime(df['date_of_birth'])"
   ]
  },
  {
   "cell_type": "code",
   "execution_count": 7,
   "id": "6a39a2ee",
   "metadata": {},
   "outputs": [],
   "source": [
    "\n",
    "df['age_in_days'] = (pd.Timestamp.now() - df['date_of_birth']).dt.days"
   ]
  },
  {
   "cell_type": "markdown",
   "id": "d47adec5",
   "metadata": {},
   "source": [
    "4. add new column: month_of_birth (hint: use `df[<column>].dt.month`)\n"
   ]
  },
  {
   "cell_type": "code",
   "execution_count": 8,
   "id": "d7febba2",
   "metadata": {},
   "outputs": [],
   "source": [
    "df['month_of_birth'] = df['date_of_birth'].dt.month"
   ]
  },
  {
   "cell_type": "markdown",
   "id": "b39e48ec",
   "metadata": {},
   "source": [
    "5. save the dataset to a new file: `customers_cleaned.csv`\n"
   ]
  },
  {
   "cell_type": "code",
   "execution_count": 9,
   "id": "f4642b74",
   "metadata": {},
   "outputs": [],
   "source": [
    "df.to_csv('customers_cleaned.csv')"
   ]
  },
  {
   "cell_type": "markdown",
   "id": "db19192b",
   "metadata": {},
   "source": [
    "6. average number of visits\n"
   ]
  },
  {
   "cell_type": "code",
   "execution_count": 10,
   "id": "07984d81",
   "metadata": {},
   "outputs": [
    {
     "data": {
      "text/plain": [
       "25.68"
      ]
     },
     "execution_count": 10,
     "metadata": {},
     "output_type": "execute_result"
    }
   ],
   "source": [
    "df['visits'].mean()"
   ]
  },
  {
   "cell_type": "markdown",
   "id": "b55f39a8",
   "metadata": {},
   "source": [
    "7. list the 5 most common names of customers and the 5 least common names\n"
   ]
  },
  {
   "cell_type": "code",
   "execution_count": 11,
   "id": "bbeb9e05",
   "metadata": {},
   "outputs": [
    {
     "name": "stdout",
     "output_type": "stream",
     "text": [
      "name\n",
      "Omar        2\n",
      "Layla       2\n",
      "Abdullah    1\n",
      "Karim       1\n",
      "Murad       1\n",
      "Name: count, dtype: int64\n",
      "name\n",
      "Munira    1\n",
      "Dalia     1\n",
      "Nawaf     1\n",
      "Amira     1\n",
      "Zahra     1\n",
      "Name: count, dtype: int64\n"
     ]
    }
   ],
   "source": [
    "name_counts = df['name'].value_counts().sort_values(ascending=False)\n",
    "print(name_counts.head(5))\n",
    "print(name_counts.tail(5))"
   ]
  },
  {
   "cell_type": "markdown",
   "id": "b170e3fb",
   "metadata": {},
   "source": [
    "8. the age range of male customers\n"
   ]
  },
  {
   "cell_type": "markdown",
   "id": "1893bf29",
   "metadata": {},
   "source": [
    "9. the age range of female customers\n"
   ]
  },
  {
   "cell_type": "code",
   "execution_count": 12,
   "id": "09dca068",
   "metadata": {},
   "outputs": [
    {
     "data": {
      "text/plain": [
       "customer_id\n",
       "1    35\n",
       "2    41\n",
       "3    30\n",
       "4    46\n",
       "5    33\n",
       "Name: age, dtype: int64"
      ]
     },
     "execution_count": 12,
     "metadata": {},
     "output_type": "execute_result"
    }
   ],
   "source": [
    "df['age'] = df['age_in_days'] // 365\n",
    "df['age'].head()"
   ]
  },
  {
   "cell_type": "code",
   "execution_count": 13,
   "id": "e3a222d5",
   "metadata": {},
   "outputs": [
    {
     "name": "stdout",
     "output_type": "stream",
     "text": [
      "max: 46\n",
      "min: 13\n",
      "range: 33\n"
     ]
    }
   ],
   "source": [
    "print('max:', df['age'].max())\n",
    "print('min:', df['age'].min())\n",
    "print('range:', df['age'].max() - df['age'].min())"
   ]
  },
  {
   "cell_type": "code",
   "execution_count": 14,
   "id": "a19e5bb8",
   "metadata": {},
   "outputs": [
    {
     "name": "stdout",
     "output_type": "stream",
     "text": [
      "max: 41\n",
      "min: 13\n",
      "range: 28\n"
     ]
    }
   ],
   "source": [
    "male = df.loc[df['gender'] == 'Male']\n",
    "print('max:', male['age'].max())\n",
    "print('min:', male['age'].min())\n",
    "print('range:', male['age'].max() - male['age'].min())"
   ]
  },
  {
   "cell_type": "code",
   "execution_count": 15,
   "id": "6351bfa4",
   "metadata": {},
   "outputs": [
    {
     "name": "stdout",
     "output_type": "stream",
     "text": [
      "max: 46\n",
      "min: 19\n",
      "range: 27\n"
     ]
    }
   ],
   "source": [
    "female = df.loc[df['gender'] == 'Female']\n",
    "print('max:', female['age'].max())\n",
    "print('min:', female['age'].min())\n",
    "print('range:', female['age'].max() - female['age'].min())"
   ]
  },
  {
   "cell_type": "markdown",
   "id": "25f88929",
   "metadata": {},
   "source": [
    "10. what is the difference between the oldest and youngest customer? (hint: use `max` and `min`)\n"
   ]
  },
  {
   "cell_type": "code",
   "execution_count": 16,
   "id": "1819ab71",
   "metadata": {},
   "outputs": [
    {
     "name": "stdout",
     "output_type": "stream",
     "text": [
      "difference: 33\n"
     ]
    }
   ],
   "source": [
    "print('difference:', df['age'].max() - df['age'].min())"
   ]
  },
  {
   "cell_type": "markdown",
   "id": "3c6d3ab1",
   "metadata": {},
   "source": [
    "11. the mean age of customers grouped by gender (hint: use `groupby` and `mean`)\n"
   ]
  },
  {
   "cell_type": "code",
   "execution_count": 17,
   "id": "560c50bd",
   "metadata": {},
   "outputs": [
    {
     "data": {
      "text/plain": [
       "gender\n",
       "Female    30.409091\n",
       "Male      26.464286\n",
       "Name: age, dtype: float64"
      ]
     },
     "execution_count": 17,
     "metadata": {},
     "output_type": "execute_result"
    }
   ],
   "source": [
    "df.groupby('gender')['age'].mean()"
   ]
  },
  {
   "cell_type": "markdown",
   "id": "5b3d4ea9",
   "metadata": {},
   "source": [
    "12. count the number of customers born in each month\n"
   ]
  },
  {
   "cell_type": "code",
   "execution_count": 18,
   "id": "6c4f1092",
   "metadata": {},
   "outputs": [
    {
     "data": {
      "text/plain": [
       "month_of_birth\n",
       "1      7\n",
       "2     10\n",
       "3      3\n",
       "4      5\n",
       "5      3\n",
       "6      4\n",
       "7      2\n",
       "8      2\n",
       "9      3\n",
       "10     3\n",
       "11     4\n",
       "12     4\n",
       "dtype: int64"
      ]
     },
     "execution_count": 18,
     "metadata": {},
     "output_type": "execute_result"
    }
   ],
   "source": [
    "born = df.groupby(['month_of_birth']).size()\n",
    "born"
   ]
  },
  {
   "cell_type": "markdown",
   "id": "21be7a72",
   "metadata": {},
   "source": [
    "13. plot the number of customers born in each month\n"
   ]
  },
  {
   "cell_type": "code",
   "execution_count": 19,
   "id": "2208ef0a",
   "metadata": {},
   "outputs": [
    {
     "data": {
      "text/plain": [
       "<Axes: title={'center': 'Number of customers born in each month'}, xlabel='month_of_birth'>"
      ]
     },
     "execution_count": 19,
     "metadata": {},
     "output_type": "execute_result"
    },
    {
     "data": {
      "image/png": "[encoded data removed]",
      "text/plain": [
       "<Figure size 640x480 with 1 Axes>"
      ]
     },
     "metadata": {},
     "output_type": "display_data"
    }
   ],
   "source": [
    "born.plot(kind='bar', title='Number of customers born in each month')"
   ]
  },
  {
   "cell_type": "markdown",
   "id": "5e9daef7",
   "metadata": {},
   "source": [
    "14. plot the histogram of age for both genders, and then separately (males and females)\n"
   ]
  },
  {
   "cell_type": "code",
   "execution_count": 20,
   "id": "e07605f9",
   "metadata": {},
   "outputs": [
    {
     "data": {
      "text/plain": [
       "<Axes: title={'center': 'Age distribution of customers'}, ylabel='Frequency'>"
      ]
     },
     "execution_count": 20,
     "metadata": {},
     "output_type": "execute_result"
    },
    {
     "data": {
      "image/png": "[encoded data removed]",
      "text/plain": [
       "<Figure size 640x480 with 1 Axes>"
      ]
     },
     "metadata": {},
     "output_type": "display_data"
    }
   ],
   "source": [
    "df['age'].plot(kind='hist', title='Age distribution of customers')"
   ]
  },
  {
   "cell_type": "code",
   "execution_count": 21,
   "id": "bb1205b3",
   "metadata": {},
   "outputs": [
    {
     "data": {
      "text/plain": [
       "<Axes: title={'center': 'Age distribution of male customers'}, ylabel='Frequency'>"
      ]
     },
     "execution_count": 21,
     "metadata": {},
     "output_type": "execute_result"
    },
    {
     "data": {
      "image/png": "[encoded data removed]",
      "text/plain": [
       "<Figure size 640x480 with 1 Axes>"
      ]
     },
     "metadata": {},
     "output_type": "display_data"
    }
   ],
   "source": [
    "male['age'].plot(kind='hist', title='Age distribution of male customers')"
   ]
  },
  {
   "cell_type": "code",
   "execution_count": 22,
   "id": "56eb107b",
   "metadata": {},
   "outputs": [
    {
     "data": {
      "text/plain": [
       "<Axes: title={'center': 'Age distribution of female customers'}, ylabel='Frequency'>"
      ]
     },
     "execution_count": 22,
     "metadata": {},
     "output_type": "execute_result"
    },
    {
     "data": {
      "image/png": "[encoded data removed]",
      "text/plain": [
       "<Figure size 640x480 with 1 Axes>"
      ]
     },
     "metadata": {},
     "output_type": "display_data"
    }
   ],
   "source": [
    "female['age'].plot(kind='hist', title='Age distribution of female customers')"
   ]
  },
  {
   "cell_type": "markdown",
   "id": "473a4abc",
   "metadata": {},
   "source": [
    "15. scatter plot of age vs. visits (is there a correlation?)\n"
   ]
  },
  {
   "cell_type": "code",
   "execution_count": 23,
   "id": "6e91e649",
   "metadata": {},
   "outputs": [
    {
     "data": {
      "text/plain": [
       "<Axes: title={'center': 'Age vs. visits'}, xlabel='age', ylabel='visits'>"
      ]
     },
     "execution_count": 23,
     "metadata": {},
     "output_type": "execute_result"
    },
    {
     "data": {
      "image/png": "[encoded data removed]",
      "text/plain": [
       "<Figure size 640x480 with 1 Axes>"
      ]
     },
     "metadata": {},
     "output_type": "display_data"
    }
   ],
   "source": [
    "df.plot(kind='scatter', x='age', y='visits', title='Age vs. visits')"
   ]
  },
  {
   "cell_type": "markdown",
   "id": "238cd8d9",
   "metadata": {},
   "source": [
    "It doesn't seem that there is correlation between age and visits."
   ]
  },
  {
   "cell_type": "markdown",
   "id": "36e67003",
   "metadata": {},
   "source": [
    "16. use `pd.cut` to create age groups and then plot the number of visits for each age group: 0-20, 21-40, 41-60, 61-80, 81-100\n"
   ]
  },
  {
   "cell_type": "code",
   "execution_count": 33,
   "id": "93da1c16",
   "metadata": {},
   "outputs": [],
   "source": [
    "df['age_group'] = pd.cut(df['age'], bins=[0, 20, 40, 60, 80, 100])"
   ]
  },
  {
   "cell_type": "code",
   "execution_count": 39,
   "id": "93ed8bee",
   "metadata": {},
   "outputs": [
    {
     "data": {
      "text/plain": [
       "<Axes: title={'center': 'Total visits by age group'}, xlabel='age_group'>"
      ]
     },
     "execution_count": 39,
     "metadata": {},
     "output_type": "execute_result"
    },
    {
     "data": {
      "image/png": "[encoded data removed]",
      "text/plain": [
       "<Figure size 640x480 with 1 Axes>"
      ]
     },
     "metadata": {},
     "output_type": "display_data"
    }
   ],
   "source": [
    "df.groupby('age_group')['visits'].sum().plot(kind='bar', title='Total visits by age group')"
   ]
  },
  {
   "cell_type": "markdown",
   "id": "b166f101",
   "metadata": {},
   "source": [
    "17. is there any significant difference between the number of visits for older people vs. younger people? (hint: plot the number of visits for each age group)"
   ]
  },
  {
   "cell_type": "code",
   "execution_count": 52,
   "id": "a0020019",
   "metadata": {},
   "outputs": [
    {
     "data": {
      "image/png": "[encoded data removed]",
      "text/plain": [
       "<Figure size 640x480 with 1 Axes>"
      ]
     },
     "metadata": {},
     "output_type": "display_data"
    }
   ],
   "source": [
    "from matplotlib import pyplot\n",
    "\n",
    "is_young = df['age'] <= 30\n",
    "\n",
    "pyplot.hist(df[is_young]['visits'], alpha=0.5, label='x')\n",
    "pyplot.hist(df[~is_young]['visits'], alpha=0.5, label='y')\n",
    "# pyplot.legend(loc='upper right')\n",
    "pyplot.show()\n"
   ]
  }
 ],
 "metadata": {
  "kernelspec": {
   "display_name": "Python 3 (ipykernel)",
   "language": "python",
   "name": "python3"
  },
  "language_info": {
   "codemirror_mode": {
    "name": "ipython",
    "version": 3
   },
   "file_extension": ".py",
   "mimetype": "text/x-python",
   "name": "python",
   "nbconvert_exporter": "python",
   "pygments_lexer": "ipython3",
   "version": "3.8.19"
  }
 },
 "nbformat": 4,
 "nbformat_minor": 5
}
