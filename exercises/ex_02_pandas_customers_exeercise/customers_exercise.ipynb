{
 "cells": [
  {
   "cell_type": "markdown",
   "id": "43088f87-506c-4393-9068-57cbedb75166",
   "metadata": {
    "jp-MarkdownHeadingCollapsed": true,
    "tags": []
   },
   "source": [
    "# Understand Customers\n",
    "\n",
    "**Tasks**"
   ]
  },
  {
   "cell_type": "code",
   "execution_count": 3,
   "id": "71bf0628",
   "metadata": {},
   "outputs": [],
   "source": [
    "import pandas as pd"
   ]
  },
  {
   "cell_type": "markdown",
   "id": "5003c019",
   "metadata": {},
   "source": [
    "0. Please read the `customers.csv` file to use as your dataset to explore the following:"
   ]
  },
  {
   "cell_type": "code",
   "execution_count": 1,
   "id": "7459284b",
   "metadata": {},
   "outputs": [
    {
     "data": {
      "text/plain": [
       "['customers.csv',\n",
       " 'customers_cleaned.csv',\n",
       " 'customers_exercise copy.ipynb',\n",
       " 'customers_exercise.ipynb',\n",
       " 'customers_solution.ipynb']"
      ]
     },
     "execution_count": 1,
     "metadata": {},
     "output_type": "execute_result"
    }
   ],
   "source": [
    "import os\n",
    "\n",
    "os.listdir('.')"
   ]
  },
  {
   "cell_type": "code",
   "execution_count": 9,
   "id": "074194a5",
   "metadata": {},
   "outputs": [],
   "source": [
    "df = pd.read_csv('customers.csv', index_col='customer_id')"
   ]
  },
  {
   "cell_type": "code",
   "execution_count": 10,
   "id": "43b673da",
   "metadata": {},
   "outputs": [
    {
     "data": {
      "text/html": [
       "<div>\n",
       "<style scoped>\n",
       "    .dataframe tbody tr th:only-of-type {\n",
       "        vertical-align: middle;\n",
       "    }\n",
       "\n",
       "    .dataframe tbody tr th {\n",
       "        vertical-align: top;\n",
       "    }\n",
       "\n",
       "    .dataframe thead th {\n",
       "        text-align: right;\n",
       "    }\n",
       "</style>\n",
       "<table border=\"1\" class=\"dataframe\">\n",
       "  <thead>\n",
       "    <tr style=\"text-align: right;\">\n",
       "      <th></th>\n",
       "      <th>name</th>\n",
       "      <th>dob</th>\n",
       "      <th>gender</th>\n",
       "      <th>visits</th>\n",
       "    </tr>\n",
       "    <tr>\n",
       "      <th>customer_id</th>\n",
       "      <th></th>\n",
       "      <th></th>\n",
       "      <th></th>\n",
       "      <th></th>\n",
       "    </tr>\n",
       "  </thead>\n",
       "  <tbody>\n",
       "    <tr>\n",
       "      <th>1</th>\n",
       "      <td>Jamila</td>\n",
       "      <td>1989-01-12</td>\n",
       "      <td>F</td>\n",
       "      <td>23</td>\n",
       "    </tr>\n",
       "    <tr>\n",
       "      <th>2</th>\n",
       "      <td>Omar</td>\n",
       "      <td>1983-04-03</td>\n",
       "      <td>M</td>\n",
       "      <td>17</td>\n",
       "    </tr>\n",
       "    <tr>\n",
       "      <th>3</th>\n",
       "      <td>Murad</td>\n",
       "      <td>1993-12-09</td>\n",
       "      <td>M</td>\n",
       "      <td>12</td>\n",
       "    </tr>\n",
       "    <tr>\n",
       "      <th>4</th>\n",
       "      <td>Aaliyah</td>\n",
       "      <td>1977-09-14</td>\n",
       "      <td>F</td>\n",
       "      <td>38</td>\n",
       "    </tr>\n",
       "    <tr>\n",
       "      <th>5</th>\n",
       "      <td>Abdulrahman</td>\n",
       "      <td>1991-02-18</td>\n",
       "      <td>M</td>\n",
       "      <td>10</td>\n",
       "    </tr>\n",
       "  </tbody>\n",
       "</table>\n",
       "</div>"
      ],
      "text/plain": [
       "                    name         dob gender  visits\n",
       "customer_id                                        \n",
       "1                 Jamila  1989-01-12      F      23\n",
       "2                   Omar  1983-04-03      M      17\n",
       "3                  Murad  1993-12-09      M      12\n",
       "4                Aaliyah  1977-09-14      F      38\n",
       "5            Abdulrahman  1991-02-18      M      10"
      ]
     },
     "execution_count": 10,
     "metadata": {},
     "output_type": "execute_result"
    }
   ],
   "source": [
    "df.head()"
   ]
  },
  {
   "cell_type": "code",
   "execution_count": 11,
   "id": "37bbe13e",
   "metadata": {},
   "outputs": [
    {
     "name": "stdout",
     "output_type": "stream",
     "text": [
      "<class 'pandas.core.frame.DataFrame'>\n",
      "Index: 50 entries, 1 to 50\n",
      "Data columns (total 4 columns):\n",
      " #   Column  Non-Null Count  Dtype \n",
      "---  ------  --------------  ----- \n",
      " 0   name    50 non-null     object\n",
      " 1   dob     50 non-null     object\n",
      " 2   gender  50 non-null     object\n",
      " 3   visits  50 non-null     int64 \n",
      "dtypes: int64(1), object(3)\n",
      "memory usage: 2.0+ KB\n"
     ]
    }
   ],
   "source": [
    "df.info()"
   ]
  },
  {
   "cell_type": "markdown",
   "id": "3e128bbc",
   "metadata": {},
   "source": [
    "1. rename column: dob to date_of_birth\n"
   ]
  },
  {
   "cell_type": "code",
   "execution_count": 14,
   "id": "8a0924f1",
   "metadata": {},
   "outputs": [],
   "source": [
    "df.rename(columns={'dob': 'date_of_birth'}, inplace=True)  # <-- note: inplace=True"
   ]
  },
  {
   "cell_type": "code",
   "execution_count": 15,
   "id": "e669c977",
   "metadata": {},
   "outputs": [
    {
     "data": {
      "text/html": [
       "<div>\n",
       "<style scoped>\n",
       "    .dataframe tbody tr th:only-of-type {\n",
       "        vertical-align: middle;\n",
       "    }\n",
       "\n",
       "    .dataframe tbody tr th {\n",
       "        vertical-align: top;\n",
       "    }\n",
       "\n",
       "    .dataframe thead th {\n",
       "        text-align: right;\n",
       "    }\n",
       "</style>\n",
       "<table border=\"1\" class=\"dataframe\">\n",
       "  <thead>\n",
       "    <tr style=\"text-align: right;\">\n",
       "      <th></th>\n",
       "      <th>name</th>\n",
       "      <th>date_of_birth</th>\n",
       "      <th>gender</th>\n",
       "      <th>visits</th>\n",
       "    </tr>\n",
       "    <tr>\n",
       "      <th>customer_id</th>\n",
       "      <th></th>\n",
       "      <th></th>\n",
       "      <th></th>\n",
       "      <th></th>\n",
       "    </tr>\n",
       "  </thead>\n",
       "  <tbody>\n",
       "    <tr>\n",
       "      <th>1</th>\n",
       "      <td>Jamila</td>\n",
       "      <td>1989-01-12</td>\n",
       "      <td>F</td>\n",
       "      <td>23</td>\n",
       "    </tr>\n",
       "    <tr>\n",
       "      <th>2</th>\n",
       "      <td>Omar</td>\n",
       "      <td>1983-04-03</td>\n",
       "      <td>M</td>\n",
       "      <td>17</td>\n",
       "    </tr>\n",
       "    <tr>\n",
       "      <th>3</th>\n",
       "      <td>Murad</td>\n",
       "      <td>1993-12-09</td>\n",
       "      <td>M</td>\n",
       "      <td>12</td>\n",
       "    </tr>\n",
       "    <tr>\n",
       "      <th>4</th>\n",
       "      <td>Aaliyah</td>\n",
       "      <td>1977-09-14</td>\n",
       "      <td>F</td>\n",
       "      <td>38</td>\n",
       "    </tr>\n",
       "    <tr>\n",
       "      <th>5</th>\n",
       "      <td>Abdulrahman</td>\n",
       "      <td>1991-02-18</td>\n",
       "      <td>M</td>\n",
       "      <td>10</td>\n",
       "    </tr>\n",
       "  </tbody>\n",
       "</table>\n",
       "</div>"
      ],
      "text/plain": [
       "                    name date_of_birth gender  visits\n",
       "customer_id                                          \n",
       "1                 Jamila    1989-01-12      F      23\n",
       "2                   Omar    1983-04-03      M      17\n",
       "3                  Murad    1993-12-09      M      12\n",
       "4                Aaliyah    1977-09-14      F      38\n",
       "5            Abdulrahman    1991-02-18      M      10"
      ]
     },
     "execution_count": 15,
     "metadata": {},
     "output_type": "execute_result"
    }
   ],
   "source": [
    "df.head()"
   ]
  },
  {
   "cell_type": "markdown",
   "id": "cf222ded",
   "metadata": {},
   "source": [
    "2. inspect the gender column and handle any inconsistencies (hint: `value_counts`)\n"
   ]
  },
  {
   "cell_type": "code",
   "execution_count": 17,
   "id": "3793ab44",
   "metadata": {},
   "outputs": [
    {
     "data": {
      "text/plain": [
       "gender\n",
       "M         26\n",
       "F         18\n",
       "Female     4\n",
       "Male       2\n",
       "Name: count, dtype: int64"
      ]
     },
     "execution_count": 17,
     "metadata": {},
     "output_type": "execute_result"
    }
   ],
   "source": [
    "df['gender'].value_counts()"
   ]
  },
  {
   "cell_type": "code",
   "execution_count": 21,
   "id": "aa24fba1",
   "metadata": {},
   "outputs": [],
   "source": [
    "df['gender'].replace({\n",
    "    'Male': 'M',\n",
    "    'Female': 'F',\n",
    "}, inplace=True) # <-- note: inplace=True"
   ]
  },
  {
   "cell_type": "code",
   "execution_count": 22,
   "id": "fb2bfc0e",
   "metadata": {},
   "outputs": [
    {
     "data": {
      "text/plain": [
       "gender\n",
       "M    28\n",
       "F    22\n",
       "Name: count, dtype: int64"
      ]
     },
     "execution_count": 22,
     "metadata": {},
     "output_type": "execute_result"
    }
   ],
   "source": [
    "df['gender'].value_counts()"
   ]
  },
  {
   "cell_type": "markdown",
   "id": "ce962794",
   "metadata": {},
   "source": [
    "3. add new column: age_in_days\n"
   ]
  },
  {
   "cell_type": "code",
   "execution_count": 25,
   "id": "b93cf788",
   "metadata": {},
   "outputs": [],
   "source": [
    "df['date_of_birth'] = pd.to_datetime(df['date_of_birth'])"
   ]
  },
  {
   "cell_type": "code",
   "execution_count": 26,
   "id": "8eeaea1d",
   "metadata": {},
   "outputs": [
    {
     "data": {
      "text/plain": [
       "dtype('<M8[ns]')"
      ]
     },
     "execution_count": 26,
     "metadata": {},
     "output_type": "execute_result"
    }
   ],
   "source": [
    "df['date_of_birth'].dtype"
   ]
  },
  {
   "cell_type": "code",
   "execution_count": 46,
   "id": "d29011c2",
   "metadata": {},
   "outputs": [
    {
     "data": {
      "text/plain": [
       "customer_id\n",
       "1     12858\n",
       "2     14969\n",
       "3     11066\n",
       "4     16996\n",
       "5     12091\n",
       "6     14288\n",
       "7     11764\n",
       "8     11357\n",
       "9     10963\n",
       "10    10566\n",
       "11    10169\n",
       "12     9772\n",
       "13     9376\n",
       "14     8979\n",
       "15    13695\n",
       "16    13322\n",
       "17    12922\n",
       "18    12532\n",
       "19    12352\n",
       "20    12139\n",
       "21     7382\n",
       "22     9189\n",
       "23    11010\n",
       "24    10998\n",
       "25     4786\n",
       "26     4776\n",
       "27    11696\n",
       "28    10937\n",
       "29    12129\n",
       "30    12090\n",
       "31    10942\n",
       "32    11237\n",
       "33    10902\n",
       "34    10931\n",
       "35    12085\n",
       "36    11351\n",
       "37     8825\n",
       "38     8183\n",
       "39     6327\n",
       "40     5931\n",
       "41     7058\n",
       "42     5598\n",
       "43     8401\n",
       "44     7823\n",
       "45    11052\n",
       "46     9683\n",
       "47     8995\n",
       "48     9400\n",
       "49    10161\n",
       "50    10170\n",
       "Name: date_of_birth, dtype: int64"
      ]
     },
     "execution_count": 46,
     "metadata": {},
     "output_type": "execute_result"
    }
   ],
   "source": []
  },
  {
   "cell_type": "markdown",
   "id": "88412108",
   "metadata": {},
   "source": [
    "- Current customer age: `(pd.Timestamp.now() - df['date_of_birth']).dt.days`\n",
    "- Age of customer since 2024: `2024 - df['date_of_birth'].dt.year`"
   ]
  },
  {
   "cell_type": "code",
   "execution_count": 38,
   "id": "ec3ba408",
   "metadata": {},
   "outputs": [],
   "source": [
    "# df['age'] = (pd.Timestamp.now() - df['date_of_birth']).dt.days\n",
    "df['age'] = 2024 - df['date_of_birth'].dt.year\n",
    "df['age_in_days'] = df['age'] * 365"
   ]
  },
  {
   "cell_type": "code",
   "execution_count": 39,
   "id": "13d9b4db",
   "metadata": {},
   "outputs": [
    {
     "data": {
      "text/plain": [
       "customer_id\n",
       "1     35\n",
       "2     41\n",
       "3     31\n",
       "4     47\n",
       "5     33\n",
       "6     39\n",
       "7     32\n",
       "8     31\n",
       "9     30\n",
       "10    29\n",
       "11    28\n",
       "12    27\n",
       "13    26\n",
       "14    25\n",
       "15    38\n",
       "16    37\n",
       "17    36\n",
       "18    35\n",
       "19    34\n",
       "20    33\n",
       "21    20\n",
       "22    25\n",
       "23    30\n",
       "24    30\n",
       "25    13\n",
       "26    13\n",
       "27    32\n",
       "28    30\n",
       "29    33\n",
       "30    33\n",
       "31    30\n",
       "32    31\n",
       "33    30\n",
       "34    30\n",
       "35    33\n",
       "36    31\n",
       "37    24\n",
       "38    23\n",
       "39    18\n",
       "40    17\n",
       "41    20\n",
       "42    16\n",
       "43    23\n",
       "44    22\n",
       "45    31\n",
       "46    27\n",
       "47    25\n",
       "48    26\n",
       "49    28\n",
       "50    28\n",
       "Name: age, dtype: int32"
      ]
     },
     "execution_count": 39,
     "metadata": {},
     "output_type": "execute_result"
    }
   ],
   "source": [
    "df['age']"
   ]
  },
  {
   "cell_type": "code",
   "execution_count": 40,
   "id": "32a6177e",
   "metadata": {},
   "outputs": [
    {
     "data": {
      "text/plain": [
       "customer_id\n",
       "1     12775\n",
       "2     14965\n",
       "3     11315\n",
       "4     17155\n",
       "5     12045\n",
       "6     14235\n",
       "7     11680\n",
       "8     11315\n",
       "9     10950\n",
       "10    10585\n",
       "11    10220\n",
       "12     9855\n",
       "13     9490\n",
       "14     9125\n",
       "15    13870\n",
       "16    13505\n",
       "17    13140\n",
       "18    12775\n",
       "19    12410\n",
       "20    12045\n",
       "21     7300\n",
       "22     9125\n",
       "23    10950\n",
       "24    10950\n",
       "25     4745\n",
       "26     4745\n",
       "27    11680\n",
       "28    10950\n",
       "29    12045\n",
       "30    12045\n",
       "31    10950\n",
       "32    11315\n",
       "33    10950\n",
       "34    10950\n",
       "35    12045\n",
       "36    11315\n",
       "37     8760\n",
       "38     8395\n",
       "39     6570\n",
       "40     6205\n",
       "41     7300\n",
       "42     5840\n",
       "43     8395\n",
       "44     8030\n",
       "45    11315\n",
       "46     9855\n",
       "47     9125\n",
       "48     9490\n",
       "49    10220\n",
       "50    10220\n",
       "Name: age_in_days, dtype: int32"
      ]
     },
     "execution_count": 40,
     "metadata": {},
     "output_type": "execute_result"
    }
   ],
   "source": [
    "df['age_in_days']"
   ]
  },
  {
   "cell_type": "markdown",
   "id": "3a731e7a",
   "metadata": {},
   "source": [
    "4. add new column: month_of_birth (hint: use `df[<column>].dt.month`)\n"
   ]
  },
  {
   "cell_type": "code",
   "execution_count": 50,
   "id": "13805604",
   "metadata": {},
   "outputs": [
    {
     "data": {
      "text/plain": [
       "customer_id\n",
       "1      1\n",
       "2      4\n",
       "3     12\n",
       "4      9\n",
       "5      2\n",
       "6      2\n",
       "7      1\n",
       "8      2\n",
       "9      3\n",
       "10     4\n",
       "11     5\n",
       "12     6\n",
       "13     7\n",
       "14     8\n",
       "15     9\n",
       "16    10\n",
       "17    11\n",
       "18    12\n",
       "19     6\n",
       "20     1\n",
       "21     1\n",
       "22     1\n",
       "23     2\n",
       "24     2\n",
       "25     2\n",
       "26     2\n",
       "27     3\n",
       "28     4\n",
       "29     1\n",
       "30     2\n",
       "31     4\n",
       "32     6\n",
       "33     5\n",
       "34     4\n",
       "35     2\n",
       "36     2\n",
       "37     1\n",
       "38    10\n",
       "39    11\n",
       "40    12\n",
       "41    11\n",
       "42    11\n",
       "43     3\n",
       "44    10\n",
       "45    12\n",
       "46     9\n",
       "47     8\n",
       "48     7\n",
       "49     6\n",
       "50     5\n",
       "Name: month_of_birth, dtype: int32"
      ]
     },
     "execution_count": 50,
     "metadata": {},
     "output_type": "execute_result"
    }
   ],
   "source": [
    "df['month_of_birth'] = df['date_of_birth'].dt.month\n",
    "df['month_of_birth']\n"
   ]
  },
  {
   "cell_type": "code",
   "execution_count": null,
   "id": "584f4713",
   "metadata": {},
   "outputs": [],
   "source": [
    "# (Optional)\n",
    "# month_map = {\n",
    "#     1: 'January',\n",
    "#     2: 'February',\n",
    "#     3: 'March',\n",
    "#     4: 'April',\n",
    "#     5: 'May',\n",
    "#     6: 'June',\n",
    "#     7: 'July',\n",
    "#     8: 'August',\n",
    "#     9: 'September',\n",
    "#     10: 'October',\n",
    "#     11: 'November',\n",
    "#     12: 'December'\n",
    "# }\n",
    "\n",
    "# df['month_of_birth'].replace(month_map)"
   ]
  },
  {
   "cell_type": "markdown",
   "id": "8ec3f9b1",
   "metadata": {},
   "source": [
    "5. save the dataset to a new file: `customers_cleaned.csv`\n"
   ]
  },
  {
   "cell_type": "code",
   "execution_count": 52,
   "id": "be226415",
   "metadata": {},
   "outputs": [],
   "source": [
    "df.to_csv('customers_cleaned_v2.csv')"
   ]
  },
  {
   "cell_type": "markdown",
   "id": "050754f2",
   "metadata": {},
   "source": [
    "6. average number of visits\n"
   ]
  },
  {
   "cell_type": "code",
   "execution_count": 53,
   "id": "5fee2c6d",
   "metadata": {},
   "outputs": [
    {
     "data": {
      "text/html": [
       "<div>\n",
       "<style scoped>\n",
       "    .dataframe tbody tr th:only-of-type {\n",
       "        vertical-align: middle;\n",
       "    }\n",
       "\n",
       "    .dataframe tbody tr th {\n",
       "        vertical-align: top;\n",
       "    }\n",
       "\n",
       "    .dataframe thead th {\n",
       "        text-align: right;\n",
       "    }\n",
       "</style>\n",
       "<table border=\"1\" class=\"dataframe\">\n",
       "  <thead>\n",
       "    <tr style=\"text-align: right;\">\n",
       "      <th></th>\n",
       "      <th>name</th>\n",
       "      <th>date_of_birth</th>\n",
       "      <th>gender</th>\n",
       "      <th>visits</th>\n",
       "      <th>age</th>\n",
       "      <th>age_in_days</th>\n",
       "      <th>month_of_birth</th>\n",
       "    </tr>\n",
       "    <tr>\n",
       "      <th>customer_id</th>\n",
       "      <th></th>\n",
       "      <th></th>\n",
       "      <th></th>\n",
       "      <th></th>\n",
       "      <th></th>\n",
       "      <th></th>\n",
       "      <th></th>\n",
       "    </tr>\n",
       "  </thead>\n",
       "  <tbody>\n",
       "    <tr>\n",
       "      <th>1</th>\n",
       "      <td>Jamila</td>\n",
       "      <td>1989-01-12</td>\n",
       "      <td>F</td>\n",
       "      <td>23</td>\n",
       "      <td>35</td>\n",
       "      <td>12775</td>\n",
       "      <td>1</td>\n",
       "    </tr>\n",
       "    <tr>\n",
       "      <th>2</th>\n",
       "      <td>Omar</td>\n",
       "      <td>1983-04-03</td>\n",
       "      <td>M</td>\n",
       "      <td>17</td>\n",
       "      <td>41</td>\n",
       "      <td>14965</td>\n",
       "      <td>4</td>\n",
       "    </tr>\n",
       "    <tr>\n",
       "      <th>3</th>\n",
       "      <td>Murad</td>\n",
       "      <td>1993-12-09</td>\n",
       "      <td>M</td>\n",
       "      <td>12</td>\n",
       "      <td>31</td>\n",
       "      <td>11315</td>\n",
       "      <td>12</td>\n",
       "    </tr>\n",
       "    <tr>\n",
       "      <th>4</th>\n",
       "      <td>Aaliyah</td>\n",
       "      <td>1977-09-14</td>\n",
       "      <td>F</td>\n",
       "      <td>38</td>\n",
       "      <td>47</td>\n",
       "      <td>17155</td>\n",
       "      <td>9</td>\n",
       "    </tr>\n",
       "    <tr>\n",
       "      <th>5</th>\n",
       "      <td>Abdulrahman</td>\n",
       "      <td>1991-02-18</td>\n",
       "      <td>M</td>\n",
       "      <td>10</td>\n",
       "      <td>33</td>\n",
       "      <td>12045</td>\n",
       "      <td>2</td>\n",
       "    </tr>\n",
       "  </tbody>\n",
       "</table>\n",
       "</div>"
      ],
      "text/plain": [
       "                    name date_of_birth gender  visits  age  age_in_days  \\\n",
       "customer_id                                                               \n",
       "1                 Jamila    1989-01-12      F      23   35        12775   \n",
       "2                   Omar    1983-04-03      M      17   41        14965   \n",
       "3                  Murad    1993-12-09      M      12   31        11315   \n",
       "4                Aaliyah    1977-09-14      F      38   47        17155   \n",
       "5            Abdulrahman    1991-02-18      M      10   33        12045   \n",
       "\n",
       "             month_of_birth  \n",
       "customer_id                  \n",
       "1                         1  \n",
       "2                         4  \n",
       "3                        12  \n",
       "4                         9  \n",
       "5                         2  "
      ]
     },
     "execution_count": 53,
     "metadata": {},
     "output_type": "execute_result"
    }
   ],
   "source": [
    "df.head()"
   ]
  },
  {
   "cell_type": "code",
   "execution_count": 56,
   "id": "248ef0e8",
   "metadata": {},
   "outputs": [
    {
     "data": {
      "text/plain": [
       "25.68"
      ]
     },
     "execution_count": 56,
     "metadata": {},
     "output_type": "execute_result"
    }
   ],
   "source": [
    "df['visits'].mean()"
   ]
  },
  {
   "cell_type": "markdown",
   "id": "0d7c07ae",
   "metadata": {},
   "source": [
    "7. list the 5 most common names of customers and the 5 least common names\n"
   ]
  },
  {
   "cell_type": "code",
   "execution_count": 67,
   "id": "4d44809b",
   "metadata": {},
   "outputs": [],
   "source": [
    "name_counts = df['name'].value_counts()"
   ]
  },
  {
   "cell_type": "code",
   "execution_count": 68,
   "id": "16d89dc1",
   "metadata": {},
   "outputs": [
    {
     "data": {
      "text/plain": [
       "name\n",
       "Omar      2\n",
       "Layla     2\n",
       "Salim     1\n",
       "Aisha     1\n",
       "Yasmin    1\n",
       "Name: count, dtype: int64"
      ]
     },
     "execution_count": 68,
     "metadata": {},
     "output_type": "execute_result"
    }
   ],
   "source": [
    "name_counts.head(5)"
   ]
  },
  {
   "cell_type": "code",
   "execution_count": 69,
   "id": "2d4cf822",
   "metadata": {},
   "outputs": [
    {
     "data": {
      "text/plain": [
       "name\n",
       "Nouf     1\n",
       "Sara     1\n",
       "Reem     1\n",
       "Farah    1\n",
       "Zahra    1\n",
       "Name: count, dtype: int64"
      ]
     },
     "execution_count": 69,
     "metadata": {},
     "output_type": "execute_result"
    }
   ],
   "source": [
    "name_counts.tail(5)"
   ]
  },
  {
   "cell_type": "markdown",
   "id": "2303ca02",
   "metadata": {},
   "source": [
    "8. the age range of male customers\n",
    "\n",
    "Range = (max - min)"
   ]
  },
  {
   "cell_type": "code",
   "execution_count": 80,
   "id": "a04c6cdf",
   "metadata": {},
   "outputs": [
    {
     "data": {
      "text/html": [
       "<div>\n",
       "<style scoped>\n",
       "    .dataframe tbody tr th:only-of-type {\n",
       "        vertical-align: middle;\n",
       "    }\n",
       "\n",
       "    .dataframe tbody tr th {\n",
       "        vertical-align: top;\n",
       "    }\n",
       "\n",
       "    .dataframe thead th {\n",
       "        text-align: right;\n",
       "    }\n",
       "</style>\n",
       "<table border=\"1\" class=\"dataframe\">\n",
       "  <thead>\n",
       "    <tr style=\"text-align: right;\">\n",
       "      <th></th>\n",
       "      <th>name</th>\n",
       "      <th>date_of_birth</th>\n",
       "      <th>gender</th>\n",
       "      <th>visits</th>\n",
       "      <th>age</th>\n",
       "      <th>age_in_days</th>\n",
       "      <th>month_of_birth</th>\n",
       "    </tr>\n",
       "    <tr>\n",
       "      <th>customer_id</th>\n",
       "      <th></th>\n",
       "      <th></th>\n",
       "      <th></th>\n",
       "      <th></th>\n",
       "      <th></th>\n",
       "      <th></th>\n",
       "      <th></th>\n",
       "    </tr>\n",
       "  </thead>\n",
       "  <tbody>\n",
       "    <tr>\n",
       "      <th>2</th>\n",
       "      <td>Omar</td>\n",
       "      <td>1983-04-03</td>\n",
       "      <td>M</td>\n",
       "      <td>17</td>\n",
       "      <td>41</td>\n",
       "      <td>14965</td>\n",
       "      <td>4</td>\n",
       "    </tr>\n",
       "    <tr>\n",
       "      <th>3</th>\n",
       "      <td>Murad</td>\n",
       "      <td>1993-12-09</td>\n",
       "      <td>M</td>\n",
       "      <td>12</td>\n",
       "      <td>31</td>\n",
       "      <td>11315</td>\n",
       "      <td>12</td>\n",
       "    </tr>\n",
       "    <tr>\n",
       "      <th>5</th>\n",
       "      <td>Abdulrahman</td>\n",
       "      <td>1991-02-18</td>\n",
       "      <td>M</td>\n",
       "      <td>10</td>\n",
       "      <td>33</td>\n",
       "      <td>12045</td>\n",
       "      <td>2</td>\n",
       "    </tr>\n",
       "    <tr>\n",
       "      <th>6</th>\n",
       "      <td>Ahmad</td>\n",
       "      <td>1985-02-12</td>\n",
       "      <td>M</td>\n",
       "      <td>45</td>\n",
       "      <td>39</td>\n",
       "      <td>14235</td>\n",
       "      <td>2</td>\n",
       "    </tr>\n",
       "    <tr>\n",
       "      <th>7</th>\n",
       "      <td>Khalid</td>\n",
       "      <td>1992-01-11</td>\n",
       "      <td>M</td>\n",
       "      <td>31</td>\n",
       "      <td>32</td>\n",
       "      <td>11680</td>\n",
       "      <td>1</td>\n",
       "    </tr>\n",
       "    <tr>\n",
       "      <th>8</th>\n",
       "      <td>Faisal</td>\n",
       "      <td>1993-02-21</td>\n",
       "      <td>M</td>\n",
       "      <td>25</td>\n",
       "      <td>31</td>\n",
       "      <td>11315</td>\n",
       "      <td>2</td>\n",
       "    </tr>\n",
       "    <tr>\n",
       "      <th>9</th>\n",
       "      <td>Saud</td>\n",
       "      <td>1994-03-22</td>\n",
       "      <td>M</td>\n",
       "      <td>34</td>\n",
       "      <td>30</td>\n",
       "      <td>10950</td>\n",
       "      <td>3</td>\n",
       "    </tr>\n",
       "    <tr>\n",
       "      <th>10</th>\n",
       "      <td>Naif</td>\n",
       "      <td>1995-04-23</td>\n",
       "      <td>M</td>\n",
       "      <td>19</td>\n",
       "      <td>29</td>\n",
       "      <td>10585</td>\n",
       "      <td>4</td>\n",
       "    </tr>\n",
       "    <tr>\n",
       "      <th>11</th>\n",
       "      <td>Hassan</td>\n",
       "      <td>1996-05-24</td>\n",
       "      <td>M</td>\n",
       "      <td>27</td>\n",
       "      <td>28</td>\n",
       "      <td>10220</td>\n",
       "      <td>5</td>\n",
       "    </tr>\n",
       "    <tr>\n",
       "      <th>13</th>\n",
       "      <td>Ali</td>\n",
       "      <td>1998-07-26</td>\n",
       "      <td>M</td>\n",
       "      <td>36</td>\n",
       "      <td>26</td>\n",
       "      <td>9490</td>\n",
       "      <td>7</td>\n",
       "    </tr>\n",
       "    <tr>\n",
       "      <th>21</th>\n",
       "      <td>Reem</td>\n",
       "      <td>2004-01-10</td>\n",
       "      <td>M</td>\n",
       "      <td>39</td>\n",
       "      <td>20</td>\n",
       "      <td>7300</td>\n",
       "      <td>1</td>\n",
       "    </tr>\n",
       "    <tr>\n",
       "      <th>22</th>\n",
       "      <td>Farah</td>\n",
       "      <td>1999-01-29</td>\n",
       "      <td>M</td>\n",
       "      <td>8</td>\n",
       "      <td>25</td>\n",
       "      <td>9125</td>\n",
       "      <td>1</td>\n",
       "    </tr>\n",
       "    <tr>\n",
       "      <th>23</th>\n",
       "      <td>Karim</td>\n",
       "      <td>1994-02-03</td>\n",
       "      <td>M</td>\n",
       "      <td>21</td>\n",
       "      <td>30</td>\n",
       "      <td>10950</td>\n",
       "      <td>2</td>\n",
       "    </tr>\n",
       "    <tr>\n",
       "      <th>24</th>\n",
       "      <td>Abdullah</td>\n",
       "      <td>1994-02-15</td>\n",
       "      <td>M</td>\n",
       "      <td>14</td>\n",
       "      <td>30</td>\n",
       "      <td>10950</td>\n",
       "      <td>2</td>\n",
       "    </tr>\n",
       "    <tr>\n",
       "      <th>25</th>\n",
       "      <td>Ibrahim</td>\n",
       "      <td>2011-02-18</td>\n",
       "      <td>M</td>\n",
       "      <td>3</td>\n",
       "      <td>13</td>\n",
       "      <td>4745</td>\n",
       "      <td>2</td>\n",
       "    </tr>\n",
       "    <tr>\n",
       "      <th>26</th>\n",
       "      <td>Bilal</td>\n",
       "      <td>2011-02-28</td>\n",
       "      <td>M</td>\n",
       "      <td>20</td>\n",
       "      <td>13</td>\n",
       "      <td>4745</td>\n",
       "      <td>2</td>\n",
       "    </tr>\n",
       "    <tr>\n",
       "      <th>31</th>\n",
       "      <td>Omar</td>\n",
       "      <td>1994-04-12</td>\n",
       "      <td>M</td>\n",
       "      <td>18</td>\n",
       "      <td>30</td>\n",
       "      <td>10950</td>\n",
       "      <td>4</td>\n",
       "    </tr>\n",
       "    <tr>\n",
       "      <th>32</th>\n",
       "      <td>Youssef</td>\n",
       "      <td>1993-06-21</td>\n",
       "      <td>M</td>\n",
       "      <td>37</td>\n",
       "      <td>31</td>\n",
       "      <td>11315</td>\n",
       "      <td>6</td>\n",
       "    </tr>\n",
       "    <tr>\n",
       "      <th>33</th>\n",
       "      <td>Malik</td>\n",
       "      <td>1994-05-22</td>\n",
       "      <td>M</td>\n",
       "      <td>24</td>\n",
       "      <td>30</td>\n",
       "      <td>10950</td>\n",
       "      <td>5</td>\n",
       "    </tr>\n",
       "    <tr>\n",
       "      <th>35</th>\n",
       "      <td>Jad</td>\n",
       "      <td>1991-02-24</td>\n",
       "      <td>M</td>\n",
       "      <td>6</td>\n",
       "      <td>33</td>\n",
       "      <td>12045</td>\n",
       "      <td>2</td>\n",
       "    </tr>\n",
       "    <tr>\n",
       "      <th>37</th>\n",
       "      <td>Salim</td>\n",
       "      <td>2000-01-28</td>\n",
       "      <td>M</td>\n",
       "      <td>13</td>\n",
       "      <td>24</td>\n",
       "      <td>8760</td>\n",
       "      <td>1</td>\n",
       "    </tr>\n",
       "    <tr>\n",
       "      <th>39</th>\n",
       "      <td>Tariq</td>\n",
       "      <td>2006-11-30</td>\n",
       "      <td>M</td>\n",
       "      <td>1</td>\n",
       "      <td>18</td>\n",
       "      <td>6570</td>\n",
       "      <td>11</td>\n",
       "    </tr>\n",
       "    <tr>\n",
       "      <th>40</th>\n",
       "      <td>Faris</td>\n",
       "      <td>2007-12-31</td>\n",
       "      <td>M</td>\n",
       "      <td>5</td>\n",
       "      <td>17</td>\n",
       "      <td>6205</td>\n",
       "      <td>12</td>\n",
       "    </tr>\n",
       "    <tr>\n",
       "      <th>42</th>\n",
       "      <td>Rakan</td>\n",
       "      <td>2008-11-28</td>\n",
       "      <td>M</td>\n",
       "      <td>16</td>\n",
       "      <td>16</td>\n",
       "      <td>5840</td>\n",
       "      <td>11</td>\n",
       "    </tr>\n",
       "    <tr>\n",
       "      <th>43</th>\n",
       "      <td>Jamal</td>\n",
       "      <td>2001-03-27</td>\n",
       "      <td>M</td>\n",
       "      <td>26</td>\n",
       "      <td>23</td>\n",
       "      <td>8395</td>\n",
       "      <td>3</td>\n",
       "    </tr>\n",
       "    <tr>\n",
       "      <th>46</th>\n",
       "      <td>Nawaf</td>\n",
       "      <td>1997-09-22</td>\n",
       "      <td>M</td>\n",
       "      <td>33</td>\n",
       "      <td>27</td>\n",
       "      <td>9855</td>\n",
       "      <td>9</td>\n",
       "    </tr>\n",
       "    <tr>\n",
       "      <th>48</th>\n",
       "      <td>Waleed</td>\n",
       "      <td>1998-07-02</td>\n",
       "      <td>M</td>\n",
       "      <td>23</td>\n",
       "      <td>26</td>\n",
       "      <td>9490</td>\n",
       "      <td>7</td>\n",
       "    </tr>\n",
       "    <tr>\n",
       "      <th>49</th>\n",
       "      <td>Khalifa</td>\n",
       "      <td>1996-06-01</td>\n",
       "      <td>M</td>\n",
       "      <td>42</td>\n",
       "      <td>28</td>\n",
       "      <td>10220</td>\n",
       "      <td>6</td>\n",
       "    </tr>\n",
       "  </tbody>\n",
       "</table>\n",
       "</div>"
      ],
      "text/plain": [
       "                    name date_of_birth gender  visits  age  age_in_days  \\\n",
       "customer_id                                                               \n",
       "2                   Omar    1983-04-03      M      17   41        14965   \n",
       "3                  Murad    1993-12-09      M      12   31        11315   \n",
       "5            Abdulrahman    1991-02-18      M      10   33        12045   \n",
       "6                  Ahmad    1985-02-12      M      45   39        14235   \n",
       "7                 Khalid    1992-01-11      M      31   32        11680   \n",
       "8                 Faisal    1993-02-21      M      25   31        11315   \n",
       "9                   Saud    1994-03-22      M      34   30        10950   \n",
       "10                  Naif    1995-04-23      M      19   29        10585   \n",
       "11                Hassan    1996-05-24      M      27   28        10220   \n",
       "13                   Ali    1998-07-26      M      36   26         9490   \n",
       "21                  Reem    2004-01-10      M      39   20         7300   \n",
       "22                 Farah    1999-01-29      M       8   25         9125   \n",
       "23                 Karim    1994-02-03      M      21   30        10950   \n",
       "24              Abdullah    1994-02-15      M      14   30        10950   \n",
       "25               Ibrahim    2011-02-18      M       3   13         4745   \n",
       "26                 Bilal    2011-02-28      M      20   13         4745   \n",
       "31                  Omar    1994-04-12      M      18   30        10950   \n",
       "32               Youssef    1993-06-21      M      37   31        11315   \n",
       "33                 Malik    1994-05-22      M      24   30        10950   \n",
       "35                   Jad    1991-02-24      M       6   33        12045   \n",
       "37                 Salim    2000-01-28      M      13   24         8760   \n",
       "39                 Tariq    2006-11-30      M       1   18         6570   \n",
       "40                 Faris    2007-12-31      M       5   17         6205   \n",
       "42                 Rakan    2008-11-28      M      16   16         5840   \n",
       "43                 Jamal    2001-03-27      M      26   23         8395   \n",
       "46                 Nawaf    1997-09-22      M      33   27         9855   \n",
       "48                Waleed    1998-07-02      M      23   26         9490   \n",
       "49               Khalifa    1996-06-01      M      42   28        10220   \n",
       "\n",
       "             month_of_birth  \n",
       "customer_id                  \n",
       "2                         4  \n",
       "3                        12  \n",
       "5                         2  \n",
       "6                         2  \n",
       "7                         1  \n",
       "8                         2  \n",
       "9                         3  \n",
       "10                        4  \n",
       "11                        5  \n",
       "13                        7  \n",
       "21                        1  \n",
       "22                        1  \n",
       "23                        2  \n",
       "24                        2  \n",
       "25                        2  \n",
       "26                        2  \n",
       "31                        4  \n",
       "32                        6  \n",
       "33                        5  \n",
       "35                        2  \n",
       "37                        1  \n",
       "39                       11  \n",
       "40                       12  \n",
       "42                       11  \n",
       "43                        3  \n",
       "46                        9  \n",
       "48                        7  \n",
       "49                        6  "
      ]
     },
     "execution_count": 80,
     "metadata": {},
     "output_type": "execute_result"
    }
   ],
   "source": [
    "mask = df['gender'] == 'M'\n",
    "df[mask]"
   ]
  },
  {
   "cell_type": "code",
   "execution_count": 82,
   "id": "b4cfa4af",
   "metadata": {},
   "outputs": [],
   "source": [
    "# df.loc[df['gender'].isin(['M', 'Male'])]\n",
    "males = df[df['gender'] == 'M']\n",
    "females = df[df['gender'] == 'F']"
   ]
  },
  {
   "cell_type": "code",
   "execution_count": 85,
   "id": "ddf05cda",
   "metadata": {},
   "outputs": [
    {
     "name": "stdout",
     "output_type": "stream",
     "text": [
      "41 13\n",
      "47 20\n",
      "28 27\n"
     ]
    }
   ],
   "source": [
    "age_range_male = males['age'].max() - males['age'].min()\n",
    "print(males['age'].max(), males['age'].min())\n",
    "\n",
    "age_range_female = females['age'].max() - females['age'].min()\n",
    "print(females['age'].max(), females['age'].min())\n",
    "\n",
    "print(age_range_male, age_range_female)"
   ]
  },
  {
   "cell_type": "markdown",
   "id": "94f78073",
   "metadata": {},
   "source": [
    "9. the age range of female customers\n"
   ]
  },
  {
   "cell_type": "markdown",
   "id": "224d7b37",
   "metadata": {},
   "source": [
    "10. what is the difference between the oldest and youngest customer? (hint: use `max` and `min`)\n"
   ]
  },
  {
   "cell_type": "code",
   "execution_count": 86,
   "id": "53849e89",
   "metadata": {},
   "outputs": [
    {
     "data": {
      "text/plain": [
       "34"
      ]
     },
     "execution_count": 86,
     "metadata": {},
     "output_type": "execute_result"
    }
   ],
   "source": [
    "df['age'].max() - df['age'].min()"
   ]
  },
  {
   "cell_type": "markdown",
   "id": "9256735a",
   "metadata": {},
   "source": [
    "11. the mean age of customers grouped by gender (hint: use `groupby` and `mean`)\n"
   ]
  },
  {
   "cell_type": "code",
   "execution_count": 91,
   "id": "a4eea33c",
   "metadata": {},
   "outputs": [
    {
     "data": {
      "text/plain": [
       "gender\n",
       "F    31.136364\n",
       "M    26.928571\n",
       "Name: age, dtype: float64"
      ]
     },
     "execution_count": 91,
     "metadata": {},
     "output_type": "execute_result"
    }
   ],
   "source": [
    "df.groupby('gender')['age'].mean()"
   ]
  },
  {
   "cell_type": "markdown",
   "id": "43ade6cb",
   "metadata": {},
   "source": [
    "12. count the number of customers born in each month\n"
   ]
  },
  {
   "cell_type": "code",
   "execution_count": 98,
   "id": "d7a95abe",
   "metadata": {},
   "outputs": [
    {
     "data": {
      "text/plain": [
       "month_of_birth\n",
       "1      7\n",
       "2     10\n",
       "3      3\n",
       "4      5\n",
       "5      3\n",
       "6      4\n",
       "7      2\n",
       "8      2\n",
       "9      3\n",
       "10     3\n",
       "11     4\n",
       "12     4\n",
       "Name: month_of_birth, dtype: int64"
      ]
     },
     "execution_count": 98,
     "metadata": {},
     "output_type": "execute_result"
    }
   ],
   "source": [
    "df.groupby('month_of_birth')['month_of_birth'].count()"
   ]
  },
  {
   "cell_type": "code",
   "execution_count": 97,
   "id": "3d3adb0a",
   "metadata": {},
   "outputs": [
    {
     "data": {
      "text/plain": [
       "month_of_birth\n",
       "1      7\n",
       "2     10\n",
       "3      3\n",
       "4      5\n",
       "5      3\n",
       "6      4\n",
       "7      2\n",
       "8      2\n",
       "9      3\n",
       "10     3\n",
       "11     4\n",
       "12     4\n",
       "Name: count, dtype: int64"
      ]
     },
     "execution_count": 97,
     "metadata": {},
     "output_type": "execute_result"
    }
   ],
   "source": [
    "df['month_of_birth'].value_counts().sort_index()"
   ]
  },
  {
   "cell_type": "markdown",
   "id": "33968383",
   "metadata": {},
   "source": [
    "13. plot the number of customers born in each month\n"
   ]
  },
  {
   "cell_type": "code",
   "execution_count": 100,
   "id": "7d8766a8",
   "metadata": {},
   "outputs": [
    {
     "data": {
      "text/plain": [
       "<Axes: xlabel='month_of_birth'>"
      ]
     },
     "execution_count": 100,
     "metadata": {},
     "output_type": "execute_result"
    },
    {
     "data": {
      "image/png": "[encoded data removed]",
      "text/plain": [
       "<Figure size 640x480 with 1 Axes>"
      ]
     },
     "metadata": {},
     "output_type": "display_data"
    }
   ],
   "source": [
    "df['month_of_birth'].value_counts().sort_index() \\\n",
    "    .plot(kind='bar')"
   ]
  },
  {
   "cell_type": "markdown",
   "id": "8c1baace",
   "metadata": {},
   "source": [
    "14. plot the histogram of age for both genders, and then separately (males and females)\n"
   ]
  },
  {
   "cell_type": "code",
   "execution_count": 101,
   "id": "e24eb162",
   "metadata": {},
   "outputs": [
    {
     "data": {
      "text/plain": [
       "<Axes: ylabel='Frequency'>"
      ]
     },
     "execution_count": 101,
     "metadata": {},
     "output_type": "execute_result"
    },
    {
     "data": {
      "image/png": "[encoded data removed]",
      "text/plain": [
       "<Figure size 640x480 with 1 Axes>"
      ]
     },
     "metadata": {},
     "output_type": "display_data"
    }
   ],
   "source": [
    "df['age'].plot.hist()"
   ]
  },
  {
   "cell_type": "code",
   "execution_count": 103,
   "id": "6671e237",
   "metadata": {},
   "outputs": [
    {
     "data": {
      "text/plain": [
       "<Axes: ylabel='Frequency'>"
      ]
     },
     "execution_count": 103,
     "metadata": {},
     "output_type": "execute_result"
    },
    {
     "data": {
      "image/png": "[encoded data removed]",
      "text/plain": [
       "<Figure size 640x480 with 1 Axes>"
      ]
     },
     "metadata": {},
     "output_type": "display_data"
    }
   ],
   "source": [
    "males['age'].plot.hist()"
   ]
  },
  {
   "cell_type": "code",
   "execution_count": 104,
   "id": "c2f5f2ea",
   "metadata": {},
   "outputs": [
    {
     "data": {
      "text/plain": [
       "<Axes: ylabel='Frequency'>"
      ]
     },
     "execution_count": 104,
     "metadata": {},
     "output_type": "execute_result"
    },
    {
     "data": {
      "image/png": "[encoded data removed]",
      "text/plain": [
       "<Figure size 640x480 with 1 Axes>"
      ]
     },
     "metadata": {},
     "output_type": "display_data"
    }
   ],
   "source": [
    "females['age'].plot.hist()"
   ]
  },
  {
   "cell_type": "markdown",
   "id": "c8174a10",
   "metadata": {},
   "source": [
    "15. scatter plot of age vs. visits (is there a correlation?)\n"
   ]
  },
  {
   "cell_type": "code",
   "execution_count": 105,
   "id": "a496d55b",
   "metadata": {},
   "outputs": [
    {
     "data": {
      "text/plain": [
       "<Axes: xlabel='age', ylabel='visits'>"
      ]
     },
     "execution_count": 105,
     "metadata": {},
     "output_type": "execute_result"
    },
    {
     "data": {
      "image/png": "[encoded data removed]",
      "text/plain": [
       "<Figure size 640x480 with 1 Axes>"
      ]
     },
     "metadata": {},
     "output_type": "display_data"
    }
   ],
   "source": [
    "df.plot.scatter(x='age', y='visits')"
   ]
  },
  {
   "cell_type": "markdown",
   "id": "26471e2f",
   "metadata": {},
   "source": [
    "16. use `pd.cut` to create age groups and then plot the number of visits for each age group: 0-20, 21-40, 41-60, 61-80, 81-100"
   ]
  },
  {
   "cell_type": "code",
   "execution_count": 110,
   "id": "decf8197",
   "metadata": {},
   "outputs": [
    {
     "data": {
      "text/plain": [
       "<Axes: xlabel='age'>"
      ]
     },
     "execution_count": 110,
     "metadata": {},
     "output_type": "execute_result"
    },
    {
     "data": {
      "image/png": "[encoded data removed]",
      "text/plain": [
       "<Figure size 640x480 with 1 Axes>"
      ]
     },
     "metadata": {},
     "output_type": "display_data"
    }
   ],
   "source": [
    "pd.cut(df['age'], bins=[0, 20, 40, 60, 80, 100]).value_counts().sort_index().plot.bar()"
   ]
  },
  {
   "cell_type": "code",
   "execution_count": 113,
   "id": "9c4dd857",
   "metadata": {},
   "outputs": [
    {
     "data": {
      "text/html": [
       "<div>\n",
       "<style scoped>\n",
       "    .dataframe tbody tr th:only-of-type {\n",
       "        vertical-align: middle;\n",
       "    }\n",
       "\n",
       "    .dataframe tbody tr th {\n",
       "        vertical-align: top;\n",
       "    }\n",
       "\n",
       "    .dataframe thead th {\n",
       "        text-align: right;\n",
       "    }\n",
       "</style>\n",
       "<table border=\"1\" class=\"dataframe\">\n",
       "  <thead>\n",
       "    <tr style=\"text-align: right;\">\n",
       "      <th></th>\n",
       "      <th>name</th>\n",
       "      <th>date_of_birth</th>\n",
       "      <th>gender</th>\n",
       "      <th>visits</th>\n",
       "      <th>age</th>\n",
       "      <th>age_in_days</th>\n",
       "      <th>month_of_birth</th>\n",
       "      <th>age_group</th>\n",
       "    </tr>\n",
       "    <tr>\n",
       "      <th>customer_id</th>\n",
       "      <th></th>\n",
       "      <th></th>\n",
       "      <th></th>\n",
       "      <th></th>\n",
       "      <th></th>\n",
       "      <th></th>\n",
       "      <th></th>\n",
       "      <th></th>\n",
       "    </tr>\n",
       "  </thead>\n",
       "  <tbody>\n",
       "    <tr>\n",
       "      <th>1</th>\n",
       "      <td>Jamila</td>\n",
       "      <td>1989-01-12</td>\n",
       "      <td>F</td>\n",
       "      <td>23</td>\n",
       "      <td>35</td>\n",
       "      <td>12775</td>\n",
       "      <td>1</td>\n",
       "      <td>(20, 40]</td>\n",
       "    </tr>\n",
       "    <tr>\n",
       "      <th>2</th>\n",
       "      <td>Omar</td>\n",
       "      <td>1983-04-03</td>\n",
       "      <td>M</td>\n",
       "      <td>17</td>\n",
       "      <td>41</td>\n",
       "      <td>14965</td>\n",
       "      <td>4</td>\n",
       "      <td>(40, 60]</td>\n",
       "    </tr>\n",
       "    <tr>\n",
       "      <th>3</th>\n",
       "      <td>Murad</td>\n",
       "      <td>1993-12-09</td>\n",
       "      <td>M</td>\n",
       "      <td>12</td>\n",
       "      <td>31</td>\n",
       "      <td>11315</td>\n",
       "      <td>12</td>\n",
       "      <td>(20, 40]</td>\n",
       "    </tr>\n",
       "    <tr>\n",
       "      <th>4</th>\n",
       "      <td>Aaliyah</td>\n",
       "      <td>1977-09-14</td>\n",
       "      <td>F</td>\n",
       "      <td>38</td>\n",
       "      <td>47</td>\n",
       "      <td>17155</td>\n",
       "      <td>9</td>\n",
       "      <td>(40, 60]</td>\n",
       "    </tr>\n",
       "    <tr>\n",
       "      <th>5</th>\n",
       "      <td>Abdulrahman</td>\n",
       "      <td>1991-02-18</td>\n",
       "      <td>M</td>\n",
       "      <td>10</td>\n",
       "      <td>33</td>\n",
       "      <td>12045</td>\n",
       "      <td>2</td>\n",
       "      <td>(20, 40]</td>\n",
       "    </tr>\n",
       "  </tbody>\n",
       "</table>\n",
       "</div>"
      ],
      "text/plain": [
       "                    name date_of_birth gender  visits  age  age_in_days  \\\n",
       "customer_id                                                               \n",
       "1                 Jamila    1989-01-12      F      23   35        12775   \n",
       "2                   Omar    1983-04-03      M      17   41        14965   \n",
       "3                  Murad    1993-12-09      M      12   31        11315   \n",
       "4                Aaliyah    1977-09-14      F      38   47        17155   \n",
       "5            Abdulrahman    1991-02-18      M      10   33        12045   \n",
       "\n",
       "             month_of_birth age_group  \n",
       "customer_id                            \n",
       "1                         1  (20, 40]  \n",
       "2                         4  (40, 60]  \n",
       "3                        12  (20, 40]  \n",
       "4                         9  (40, 60]  \n",
       "5                         2  (20, 40]  "
      ]
     },
     "execution_count": 113,
     "metadata": {},
     "output_type": "execute_result"
    }
   ],
   "source": [
    "df['age_group'] = pd.cut(df['age'], bins=[0, 20, 40, 60, 80, 100])\n",
    "df.head()"
   ]
  },
  {
   "cell_type": "code",
   "execution_count": 123,
   "id": "643ce7a5",
   "metadata": {},
   "outputs": [
    {
     "data": {
      "text/plain": [
       "<Axes: xlabel='age_group'>"
      ]
     },
     "execution_count": 123,
     "metadata": {},
     "output_type": "execute_result"
    },
    {
     "data": {
      "image/png": "[encoded data removed]",
      "text/plain": [
       "<Figure size 640x480 with 1 Axes>"
      ]
     },
     "metadata": {},
     "output_type": "display_data"
    }
   ],
   "source": [
    "df.groupby('age_group')['visits'].sum().plot.bar()"
   ]
  },
  {
   "cell_type": "code",
   "execution_count": 124,
   "id": "a43d29c8",
   "metadata": {},
   "outputs": [
    {
     "data": {
      "text/plain": [
       "<Axes: xlabel='age_group'>"
      ]
     },
     "execution_count": 124,
     "metadata": {},
     "output_type": "execute_result"
    },
    {
     "data": {
      "image/png": "[encoded data removed]",
      "text/plain": [
       "<Figure size 640x480 with 1 Axes>"
      ]
     },
     "metadata": {},
     "output_type": "display_data"
    }
   ],
   "source": [
    "df.groupby('age_group')['visits'].mean().plot.bar()"
   ]
  },
  {
   "cell_type": "code",
   "execution_count": 122,
   "id": "d9a8dae4",
   "metadata": {},
   "outputs": [
    {
     "data": {
      "text/plain": [
       "<Axes: ylabel='Frequency'>"
      ]
     },
     "execution_count": 122,
     "metadata": {},
     "output_type": "execute_result"
    },
    {
     "data": {
      "image/png": "[encoded data removed]",
      "text/plain": [
       "<Figure size 640x480 with 1 Axes>"
      ]
     },
     "metadata": {},
     "output_type": "display_data"
    }
   ],
   "source": [
    "df['age'].plot.hist()"
   ]
  },
  {
   "cell_type": "markdown",
   "id": "55f0035f",
   "metadata": {},
   "source": [
    "\n",
    "17. is there any significant difference between the number of visits for older people vs. younger people? (hint: plot the number of visits for each age group)"
   ]
  }
 ],
 "metadata": {
  "kernelspec": {
   "display_name": "Python 3 (ipykernel)",
   "language": "python",
   "name": "python3"
  },
  "language_info": {
   "codemirror_mode": {
    "name": "ipython",
    "version": 3
   },
   "file_extension": ".py",
   "mimetype": "text/x-python",
   "name": "python",
   "nbconvert_exporter": "python",
   "pygments_lexer": "ipython3",
   "version": "3.8.19"
  }
 },
 "nbformat": 4,
 "nbformat_minor": 5
}
