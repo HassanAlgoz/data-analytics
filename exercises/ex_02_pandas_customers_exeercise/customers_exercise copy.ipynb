{
 "cells": [
  {
   "cell_type": "markdown",
   "id": "43088f87-506c-4393-9068-57cbedb75166",
   "metadata": {
    "jp-MarkdownHeadingCollapsed": true,
    "tags": []
   },
   "source": [
    "# Understand Customers\n",
    "\n",
    "**Tasks**"
   ]
  },
  {
   "cell_type": "code",
   "execution_count": null,
   "id": "71bf0628",
   "metadata": {},
   "outputs": [],
   "source": [
    "import pandas as pd"
   ]
  },
  {
   "cell_type": "markdown",
   "id": "5003c019",
   "metadata": {},
   "source": [
    "0. Please read the `customers.csv` file to use as your dataset to explore the following:"
   ]
  },
  {
   "cell_type": "markdown",
   "id": "3e128bbc",
   "metadata": {},
   "source": [
    "1. rename column: dob to date_of_birth\n"
   ]
  },
  {
   "cell_type": "markdown",
   "id": "cf222ded",
   "metadata": {},
   "source": [
    "2. inspect the gender column and handle any inconsistencies (hint: `value_counts`)\n"
   ]
  },
  {
   "cell_type": "markdown",
   "id": "ce962794",
   "metadata": {},
   "source": [
    "3. add new column: age_in_days\n"
   ]
  },
  {
   "cell_type": "markdown",
   "id": "3a731e7a",
   "metadata": {},
   "source": [
    "4. add new column: month_of_birth (hint: use `df[<column>].dt.month`)\n"
   ]
  },
  {
   "cell_type": "markdown",
   "id": "8ec3f9b1",
   "metadata": {},
   "source": [
    "5. save the dataset to a new file: `customers_cleaned.csv`\n"
   ]
  },
  {
   "cell_type": "markdown",
   "id": "050754f2",
   "metadata": {},
   "source": [
    "6. average number of visits\n"
   ]
  },
  {
   "cell_type": "markdown",
   "id": "0d7c07ae",
   "metadata": {},
   "source": [
    "7. list the 5 most common names of customers and the 5 least common names\n"
   ]
  },
  {
   "cell_type": "markdown",
   "id": "2303ca02",
   "metadata": {},
   "source": [
    "8. the age range of male customers\n"
   ]
  },
  {
   "cell_type": "markdown",
   "id": "94f78073",
   "metadata": {},
   "source": [
    "9. the age range of female customers\n"
   ]
  },
  {
   "cell_type": "markdown",
   "id": "224d7b37",
   "metadata": {},
   "source": [
    "10. what is the difference between the oldest and youngest customer? (hint: use `max` and `min`)\n"
   ]
  },
  {
   "cell_type": "markdown",
   "id": "9256735a",
   "metadata": {},
   "source": [
    "11. the mean age of customers grouped by gender (hint: use `groupby` and `mean`)\n"
   ]
  },
  {
   "cell_type": "markdown",
   "id": "43ade6cb",
   "metadata": {},
   "source": [
    "12. count the number of customers born in each month\n"
   ]
  },
  {
   "cell_type": "markdown",
   "id": "33968383",
   "metadata": {},
   "source": [
    "13. plot the number of customers born in each month\n"
   ]
  },
  {
   "cell_type": "markdown",
   "id": "8c1baace",
   "metadata": {},
   "source": [
    "14. plot the histogram of age for both genders, and then separately (males and females)\n"
   ]
  },
  {
   "cell_type": "markdown",
   "id": "c8174a10",
   "metadata": {},
   "source": [
    "15. scatter plot of age vs. visits (is there a correlation?)\n"
   ]
  },
  {
   "cell_type": "markdown",
   "id": "26471e2f",
   "metadata": {},
   "source": [
    "16. use `pd.cut` to create age groups and then plot the number of visits for each age group: 0-20, 21-40, 41-60, 61-80, 81-100"
   ]
  },
  {
   "cell_type": "markdown",
   "id": "55f0035f",
   "metadata": {},
   "source": [
    "\n",
    "17. is there any significant difference between the number of visits for older people vs. younger people? (hint: plot the number of visits for each age group)"
   ]
  }
 ],
 "metadata": {
  "kernelspec": {
   "display_name": "Python 3 (ipykernel)",
   "language": "python",
   "name": "python3"
  },
  "language_info": {
   "codemirror_mode": {
    "name": "ipython",
    "version": 3
   },
   "file_extension": ".py",
   "mimetype": "text/x-python",
   "name": "python",
   "nbconvert_exporter": "python",
   "pygments_lexer": "ipython3",
   "version": "3.8.19"
  }
 },
 "nbformat": 4,
 "nbformat_minor": 5
}
