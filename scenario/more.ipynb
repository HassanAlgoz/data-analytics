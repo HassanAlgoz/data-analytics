{
 "cells": [
  {
   "cell_type": "markdown",
   "metadata": {},
   "source": [
    "# More examples"
   ]
  },
  {
   "cell_type": "markdown",
   "metadata": {},
   "source": [
    "- Simple: https://www.kaggle.com/code/imoore/intro-to-exploratory-data-analysis-eda-in-python\n",
    "- Bigger: https://www.kaggle.com/code/gauravsharma99/eda-on-mpg-data"
   ]
  }
 ],
 "metadata": {
  "language_info": {
   "name": "python"
  }
 },
 "nbformat": 4,
 "nbformat_minor": 2
}
