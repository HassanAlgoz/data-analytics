{
 "cells": [
  {
   "cell_type": "markdown",
   "metadata": {},
   "source": [
    "# Principles of Analytic Graphics"
   ]
  },
  {
   "cell_type": "markdown",
   "metadata": {
    "vscode": {
     "languageId": "plaintext"
    }
   },
   "source": [
    "\n",
    "### Principle 1: Show comparisons\n",
    "\n",
    "- Evidence for a hypothesis is always *relative* to another competing\n",
    "hypothesis.\n",
    "- Always ask \"Compared to What?\"\n",
    "\n",
    "![](../assets/analytics-graphics/boxplot-1.png) \n",
    "\n",
    "Reference: Butz AM, *et al.*, *JAMA Pediatrics*, 2011.\n",
    "\n",
    "\n",
    "![](../assets/analytics-graphics/boxplot-2.png) \n",
    "\n",
    "Reference: Butz AM, *et al.*, *JAMA Pediatrics*, 2011.\n",
    "\n"
   ]
  },
  {
   "cell_type": "markdown",
   "metadata": {},
   "source": [
    "### Principle 2: Show causality, mechanism, explanation, systematic structure \n",
    "\n",
    "- What is your causal framework for thinking about a question?\n",
    "\n",
    "![](../assets/analytics-graphics/boxplot-3.png) \n",
    "\n",
    "Reference: Butz AM, *et al.*, *JAMA Pediatrics*, 2011.\n",
    "\n",
    "![](../assets/analytics-graphics/boxplot-4.png) \n",
    "\n",
    "Reference: Butz AM, *et al.*, *JAMA Pediatrics*, 2011."
   ]
  },
  {
   "cell_type": "markdown",
   "metadata": {},
   "source": [
    "### Principle 3: Show multivariate data\n",
    "\n",
    "- Multivariate = more than 2 variables \n",
    "- The real world is multivariate\n",
    "- Need to \"escape flatland\"\n",
    "\n",
    "![](../assets/analytics-graphics/tips-relational.png)"
   ]
  }
 ],
 "metadata": {
  "language_info": {
   "name": "python"
  }
 },
 "nbformat": 4,
 "nbformat_minor": 2
}
