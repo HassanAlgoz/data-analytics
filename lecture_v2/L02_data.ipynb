{
 "cells": [
  {
   "cell_type": "markdown",
   "metadata": {},
   "source": [
    "# Types of Structured Data\n",
    "\n",
    "*Structured Data* can be classified into two types:"
   ]
  },
  {
   "cell_type": "markdown",
   "metadata": {},
   "source": [
    "### Why bother with a taxonomy of data types?\n",
    "\n",
    "For the purposes of data analysis and predictive modeling, the data type is important to help determine:\n",
    "\n",
    "1. **Visualization**: Different data types are best visualized using different methods.\n",
    "    - For example, bar charts for categorical data, histograms for numerical data.\n",
    "2. **Analysis**: The type of data determines the appropriate statistical tests and analyses.\n",
    "    - For example, chi-square tests for categorical data, t-tests for numerical data.\n",
    "3. **Statistical Model**: Knowing the data type helps in choosing the right model.\n",
    "    - For example, logistic regression for binary outcomes, linear regression for continuous outcomes.\n"
   ]
  },
  {
   "cell_type": "code",
   "execution_count": 6,
   "metadata": {},
   "outputs": [],
   "source": [
    "import pandas as pd\n",
    "import matplotlib\n",
    "import matplotlib.pyplot as plt\n",
    "import seaborn as sns\n",
    "\n",
    "matplotlib.rcParams['figure.figsize'] = (5.0, 4.0)"
   ]
  },
  {
   "cell_type": "markdown",
   "metadata": {},
   "source": [
    "\n",
    "## Categorical Types\n",
    "\n",
    "Non-numerical and is often divided into categories based on attributes or properties.\n",
    "\n",
    "#### 1. Nominal Data\n",
    "- **Definition**: Categories with no inherent order.\n",
    "- **Examples**:\n",
    "    - Gender (Male, Female)\n",
    "    - Color (Red, Green, Blue)\n",
    "    - Nationality (American, British, French).\n",
    "- **Statistics**: Frequencies, proportions, percentages.\n",
    "- **Visualization**: Bar charts, pie charts.\n",
    "- Integer IDs (1, 2, 3) or years may be assigned, but they would be regarded as Nominal Data"
   ]
  },
  {
   "cell_type": "code",
   "execution_count": 7,
   "metadata": {},
   "outputs": [
    {
     "data": {
      "text/html": [
       "<div>\n",
       "<style scoped>\n",
       "    .dataframe tbody tr th:only-of-type {\n",
       "        vertical-align: middle;\n",
       "    }\n",
       "\n",
       "    .dataframe tbody tr th {\n",
       "        vertical-align: top;\n",
       "    }\n",
       "\n",
       "    .dataframe thead th {\n",
       "        text-align: right;\n",
       "    }\n",
       "</style>\n",
       "<table border=\"1\" class=\"dataframe\">\n",
       "  <thead>\n",
       "    <tr style=\"text-align: right;\">\n",
       "      <th></th>\n",
       "      <th>gender</th>\n",
       "      <th>color</th>\n",
       "      <th>nationality</th>\n",
       "    </tr>\n",
       "  </thead>\n",
       "  <tbody>\n",
       "    <tr>\n",
       "      <th>0</th>\n",
       "      <td>Male</td>\n",
       "      <td>Red</td>\n",
       "      <td>American</td>\n",
       "    </tr>\n",
       "    <tr>\n",
       "      <th>1</th>\n",
       "      <td>Female</td>\n",
       "      <td>Green</td>\n",
       "      <td>British</td>\n",
       "    </tr>\n",
       "    <tr>\n",
       "      <th>2</th>\n",
       "      <td>Female</td>\n",
       "      <td>Blue</td>\n",
       "      <td>French</td>\n",
       "    </tr>\n",
       "    <tr>\n",
       "      <th>3</th>\n",
       "      <td>Male</td>\n",
       "      <td>Green</td>\n",
       "      <td>American</td>\n",
       "    </tr>\n",
       "    <tr>\n",
       "      <th>4</th>\n",
       "      <td>Male</td>\n",
       "      <td>Red</td>\n",
       "      <td>French</td>\n",
       "    </tr>\n",
       "  </tbody>\n",
       "</table>\n",
       "</div>"
      ],
      "text/plain": [
       "   gender  color nationality\n",
       "0    Male    Red    American\n",
       "1  Female  Green     British\n",
       "2  Female   Blue      French\n",
       "3    Male  Green    American\n",
       "4    Male    Red      French"
      ]
     },
     "execution_count": 7,
     "metadata": {},
     "output_type": "execute_result"
    }
   ],
   "source": [
    "# Creating a dataframe for nominal data\n",
    "nominal_df = pd.DataFrame({\n",
    "    'gender': ['Male', 'Female', 'Female', 'Male', 'Male'],\n",
    "    'color': ['Red', 'Green', 'Blue', 'Green', 'Red'],\n",
    "    'nationality': ['American', 'British', 'French', 'American', 'French']\n",
    "})\n",
    "\n",
    "# Display the dataframe\n",
    "nominal_df"
   ]
  },
  {
   "cell_type": "code",
   "execution_count": 8,
   "metadata": {},
   "outputs": [
    {
     "data": {
      "text/html": [
       "<div>\n",
       "<style scoped>\n",
       "    .dataframe tbody tr th:only-of-type {\n",
       "        vertical-align: middle;\n",
       "    }\n",
       "\n",
       "    .dataframe tbody tr th {\n",
       "        vertical-align: top;\n",
       "    }\n",
       "\n",
       "    .dataframe thead th {\n",
       "        text-align: right;\n",
       "    }\n",
       "</style>\n",
       "<table border=\"1\" class=\"dataframe\">\n",
       "  <thead>\n",
       "    <tr style=\"text-align: right;\">\n",
       "      <th></th>\n",
       "      <th>count</th>\n",
       "      <th>unique</th>\n",
       "      <th>top</th>\n",
       "      <th>freq</th>\n",
       "    </tr>\n",
       "  </thead>\n",
       "  <tbody>\n",
       "    <tr>\n",
       "      <th>gender</th>\n",
       "      <td>5</td>\n",
       "      <td>2</td>\n",
       "      <td>Male</td>\n",
       "      <td>3</td>\n",
       "    </tr>\n",
       "    <tr>\n",
       "      <th>color</th>\n",
       "      <td>5</td>\n",
       "      <td>3</td>\n",
       "      <td>Red</td>\n",
       "      <td>2</td>\n",
       "    </tr>\n",
       "    <tr>\n",
       "      <th>nationality</th>\n",
       "      <td>5</td>\n",
       "      <td>3</td>\n",
       "      <td>American</td>\n",
       "      <td>2</td>\n",
       "    </tr>\n",
       "  </tbody>\n",
       "</table>\n",
       "</div>"
      ],
      "text/plain": [
       "            count unique       top freq\n",
       "gender          5      2      Male    3\n",
       "color           5      3       Red    2\n",
       "nationality     5      3  American    2"
      ]
     },
     "execution_count": 8,
     "metadata": {},
     "output_type": "execute_result"
    }
   ],
   "source": [
    "nominal_df.describe().T"
   ]
  },
  {
   "cell_type": "code",
   "execution_count": 10,
   "metadata": {},
   "outputs": [
    {
     "data": {
      "image/png": "[encoded data removed]",
      "text/plain": [
       "<Figure size 500x400 with 1 Axes>"
      ]
     },
     "metadata": {},
     "output_type": "display_data"
    }
   ],
   "source": [
    "# Visualization example\n",
    "sns.countplot(x='gender', data=nominal_df, stat='proportion')\n",
    "plt.title('Gender Distribution')\n",
    "plt.show()"
   ]
  },
  {
   "cell_type": "markdown",
   "metadata": {},
   "source": [
    "\n",
    "#### 2. Ordinal Data\n",
    "- **Definition**: Categories with a meaningful order.\n",
    "- **Examples**:\n",
    "    - Satisfaction ratings (1 to 5)\n",
    "    - Education levels (Primary, Middle, High School)\n",
    "    - Race rankings (1st, 2nd, 3rd).\n",
    "- **Statistics**: Frequencies, proportions; some use of averages.\n",
    "- **Visualization**: Bar charts, box plots.\n",
    "- The difference betwen 1st and 2nd in ordinal data may not be as evenly spaced as the difference between 2nd and 3rd."
   ]
  },
  {
   "cell_type": "code",
   "execution_count": 99,
   "metadata": {},
   "outputs": [
    {
     "data": {
      "text/html": [
       "<div>\n",
       "<style scoped>\n",
       "    .dataframe tbody tr th:only-of-type {\n",
       "        vertical-align: middle;\n",
       "    }\n",
       "\n",
       "    .dataframe tbody tr th {\n",
       "        vertical-align: top;\n",
       "    }\n",
       "\n",
       "    .dataframe thead th {\n",
       "        text-align: right;\n",
       "    }\n",
       "</style>\n",
       "<table border=\"1\" class=\"dataframe\">\n",
       "  <thead>\n",
       "    <tr style=\"text-align: right;\">\n",
       "      <th></th>\n",
       "      <th>education_level</th>\n",
       "      <th>satisfaction_rating</th>\n",
       "    </tr>\n",
       "  </thead>\n",
       "  <tbody>\n",
       "    <tr>\n",
       "      <th>0</th>\n",
       "      <td>High School</td>\n",
       "      <td>5</td>\n",
       "    </tr>\n",
       "    <tr>\n",
       "      <th>1</th>\n",
       "      <td>Primary</td>\n",
       "      <td>2</td>\n",
       "    </tr>\n",
       "    <tr>\n",
       "      <th>2</th>\n",
       "      <td>Middle</td>\n",
       "      <td>3</td>\n",
       "    </tr>\n",
       "    <tr>\n",
       "      <th>3</th>\n",
       "      <td>High School</td>\n",
       "      <td>4</td>\n",
       "    </tr>\n",
       "    <tr>\n",
       "      <th>4</th>\n",
       "      <td>Middle</td>\n",
       "      <td>1</td>\n",
       "    </tr>\n",
       "  </tbody>\n",
       "</table>\n",
       "</div>"
      ],
      "text/plain": [
       "  education_level  satisfaction_rating\n",
       "0     High School                    5\n",
       "1         Primary                    2\n",
       "2          Middle                    3\n",
       "3     High School                    4\n",
       "4          Middle                    1"
      ]
     },
     "execution_count": 99,
     "metadata": {},
     "output_type": "execute_result"
    }
   ],
   "source": [
    "# Creating a dataframe for ordinal data\n",
    "ordinal_df = pd.DataFrame({\n",
    "    'education_level': ['High School', 'Primary', 'Middle', 'High School', 'Middle'],\n",
    "    'satisfaction_rating': [5, 2, 3, 4, 1]\n",
    "})\n",
    "\n",
    "# Display the dataframe\n",
    "ordinal_df"
   ]
  },
  {
   "cell_type": "code",
   "execution_count": null,
   "metadata": {},
   "outputs": [
    {
     "data": {
      "text/html": [
       "<div>\n",
       "<style scoped>\n",
       "    .dataframe tbody tr th:only-of-type {\n",
       "        vertical-align: middle;\n",
       "    }\n",
       "\n",
       "    .dataframe tbody tr th {\n",
       "        vertical-align: top;\n",
       "    }\n",
       "\n",
       "    .dataframe thead th {\n",
       "        text-align: right;\n",
       "    }\n",
       "</style>\n",
       "<table border=\"1\" class=\"dataframe\">\n",
       "  <thead>\n",
       "    <tr style=\"text-align: right;\">\n",
       "      <th></th>\n",
       "      <th>count</th>\n",
       "      <th>mean</th>\n",
       "      <th>std</th>\n",
       "      <th>min</th>\n",
       "      <th>25%</th>\n",
       "      <th>50%</th>\n",
       "      <th>75%</th>\n",
       "      <th>max</th>\n",
       "    </tr>\n",
       "  </thead>\n",
       "  <tbody>\n",
       "    <tr>\n",
       "      <th>satisfaction_rating</th>\n",
       "      <td>5.0</td>\n",
       "      <td>3.0</td>\n",
       "      <td>1.581139</td>\n",
       "      <td>1.0</td>\n",
       "      <td>2.0</td>\n",
       "      <td>3.0</td>\n",
       "      <td>4.0</td>\n",
       "      <td>5.0</td>\n",
       "    </tr>\n",
       "  </tbody>\n",
       "</table>\n",
       "</div>"
      ],
      "text/plain": [
       "                     count  mean       std  min  25%  50%  75%  max\n",
       "satisfaction_rating    5.0   3.0  1.581139  1.0  2.0  3.0  4.0  5.0"
      ]
     },
     "metadata": {},
     "output_type": "display_data"
    }
   ],
   "source": [
    "ordinal_df.describe().T"
   ]
  },
  {
   "cell_type": "code",
   "execution_count": 100,
   "metadata": {},
   "outputs": [
    {
     "data": {
      "image/png": "[encoded data removed]",
      "text/plain": [
       "<Figure size 500x400 with 1 Axes>"
      ]
     },
     "metadata": {},
     "output_type": "display_data"
    }
   ],
   "source": [
    "# Visualization example\n",
    "sns.boxplot(x='education_level', y='satisfaction_rating', data=ordinal_df, order=['Primary', 'Middle', 'High School'])\n",
    "plt.title('Satisfaction Rating by Education Level')\n",
    "plt.show()"
   ]
  },
  {
   "cell_type": "markdown",
   "metadata": {},
   "source": [
    "## Numerical Types\n",
    "\n",
    "Numerical and can be measured and quantified. It is often used to represent quantities or amounts.\n",
    "\n",
    "Numerical data may be either *Discrete* or *Continuous*.\n",
    "\n",
    "#### Discrete and Continuous\n",
    "\n",
    "- **Discrete**: Countable data with finite values, often whole numbers (e.g., number of students in a class, number of cars in a parking lot).\n",
    "- **Continuous**: Data that can take any value within a range and can be measured to a high degree of precision (e.g., height, weight, temperature).\n",
    "\n",
    "Both Discrete and Continuous data fall into 2 levels of measurements:"
   ]
  },
  {
   "cell_type": "markdown",
   "metadata": {},
   "source": [
    "\n",
    "#### 1. Interval Data\n",
    "- **Definition**: Numbers with no true zero point.\n",
    "- **Examples**: Temperature (Celsius or Fahrenheit), SAT scores, IQ scores.\n",
    "- **Statistics**: Mean, median, standard deviation.\n",
    "- Does not support meaningful ratios involving multiplication/division due to the absence of a true zero point.\n"
   ]
  },
  {
   "cell_type": "code",
   "execution_count": 103,
   "metadata": {},
   "outputs": [
    {
     "data": {
      "text/html": [
       "<div>\n",
       "<style scoped>\n",
       "    .dataframe tbody tr th:only-of-type {\n",
       "        vertical-align: middle;\n",
       "    }\n",
       "\n",
       "    .dataframe tbody tr th {\n",
       "        vertical-align: top;\n",
       "    }\n",
       "\n",
       "    .dataframe thead th {\n",
       "        text-align: right;\n",
       "    }\n",
       "</style>\n",
       "<table border=\"1\" class=\"dataframe\">\n",
       "  <thead>\n",
       "    <tr style=\"text-align: right;\">\n",
       "      <th></th>\n",
       "      <th>temperature</th>\n",
       "      <th>SAT_score</th>\n",
       "    </tr>\n",
       "  </thead>\n",
       "  <tbody>\n",
       "    <tr>\n",
       "      <th>0</th>\n",
       "      <td>36.5</td>\n",
       "      <td>1100</td>\n",
       "    </tr>\n",
       "    <tr>\n",
       "      <th>1</th>\n",
       "      <td>37.0</td>\n",
       "      <td>1250</td>\n",
       "    </tr>\n",
       "    <tr>\n",
       "      <th>2</th>\n",
       "      <td>37.5</td>\n",
       "      <td>1300</td>\n",
       "    </tr>\n",
       "    <tr>\n",
       "      <th>3</th>\n",
       "      <td>36.0</td>\n",
       "      <td>1150</td>\n",
       "    </tr>\n",
       "    <tr>\n",
       "      <th>4</th>\n",
       "      <td>36.8</td>\n",
       "      <td>1200</td>\n",
       "    </tr>\n",
       "  </tbody>\n",
       "</table>\n",
       "</div>"
      ],
      "text/plain": [
       "   temperature  SAT_score\n",
       "0         36.5       1100\n",
       "1         37.0       1250\n",
       "2         37.5       1300\n",
       "3         36.0       1150\n",
       "4         36.8       1200"
      ]
     },
     "execution_count": 103,
     "metadata": {},
     "output_type": "execute_result"
    }
   ],
   "source": [
    "# Creating a dataframe for interval data\n",
    "interval_df = pd.DataFrame({\n",
    "    'temperature': [36.5, 37.0, 37.5, 36.0, 36.8],\n",
    "    'SAT_score': [1100, 1250, 1300, 1150, 1200]\n",
    "})\n",
    "\n",
    "# Display the dataframe\n",
    "interval_df"
   ]
  },
  {
   "cell_type": "code",
   "execution_count": 104,
   "metadata": {},
   "outputs": [
    {
     "data": {
      "text/html": [
       "<div>\n",
       "<style scoped>\n",
       "    .dataframe tbody tr th:only-of-type {\n",
       "        vertical-align: middle;\n",
       "    }\n",
       "\n",
       "    .dataframe tbody tr th {\n",
       "        vertical-align: top;\n",
       "    }\n",
       "\n",
       "    .dataframe thead th {\n",
       "        text-align: right;\n",
       "    }\n",
       "</style>\n",
       "<table border=\"1\" class=\"dataframe\">\n",
       "  <thead>\n",
       "    <tr style=\"text-align: right;\">\n",
       "      <th></th>\n",
       "      <th>count</th>\n",
       "      <th>mean</th>\n",
       "      <th>std</th>\n",
       "      <th>min</th>\n",
       "      <th>25%</th>\n",
       "      <th>50%</th>\n",
       "      <th>75%</th>\n",
       "      <th>max</th>\n",
       "    </tr>\n",
       "  </thead>\n",
       "  <tbody>\n",
       "    <tr>\n",
       "      <th>temperature</th>\n",
       "      <td>5.0</td>\n",
       "      <td>36.76</td>\n",
       "      <td>0.559464</td>\n",
       "      <td>36.0</td>\n",
       "      <td>36.5</td>\n",
       "      <td>36.8</td>\n",
       "      <td>37.0</td>\n",
       "      <td>37.5</td>\n",
       "    </tr>\n",
       "    <tr>\n",
       "      <th>SAT_score</th>\n",
       "      <td>5.0</td>\n",
       "      <td>1200.00</td>\n",
       "      <td>79.056942</td>\n",
       "      <td>1100.0</td>\n",
       "      <td>1150.0</td>\n",
       "      <td>1200.0</td>\n",
       "      <td>1250.0</td>\n",
       "      <td>1300.0</td>\n",
       "    </tr>\n",
       "  </tbody>\n",
       "</table>\n",
       "</div>"
      ],
      "text/plain": [
       "             count     mean        std     min     25%     50%     75%     max\n",
       "temperature    5.0    36.76   0.559464    36.0    36.5    36.8    37.0    37.5\n",
       "SAT_score      5.0  1200.00  79.056942  1100.0  1150.0  1200.0  1250.0  1300.0"
      ]
     },
     "execution_count": 104,
     "metadata": {},
     "output_type": "execute_result"
    }
   ],
   "source": [
    "interval_df.describe().T"
   ]
  },
  {
   "cell_type": "markdown",
   "metadata": {},
   "source": [
    "\n",
    "#### 2. Ratio Data\n",
    "- **Definition**: Numbers with a true zero point.\n",
    "- **Examples**: Age, weight, height, distance.\n",
    "- **Statistics**: Mean, median, standard deviation, ratios.\n",
    "- Allows for meaningful ratios and comparisons involving multiplication/division.\n",
    "  "
   ]
  },
  {
   "cell_type": "code",
   "execution_count": 110,
   "metadata": {},
   "outputs": [
    {
     "data": {
      "text/html": [
       "<div>\n",
       "<style scoped>\n",
       "    .dataframe tbody tr th:only-of-type {\n",
       "        vertical-align: middle;\n",
       "    }\n",
       "\n",
       "    .dataframe tbody tr th {\n",
       "        vertical-align: top;\n",
       "    }\n",
       "\n",
       "    .dataframe thead th {\n",
       "        text-align: right;\n",
       "    }\n",
       "</style>\n",
       "<table border=\"1\" class=\"dataframe\">\n",
       "  <thead>\n",
       "    <tr style=\"text-align: right;\">\n",
       "      <th></th>\n",
       "      <th>age</th>\n",
       "      <th>weight</th>\n",
       "    </tr>\n",
       "  </thead>\n",
       "  <tbody>\n",
       "    <tr>\n",
       "      <th>0</th>\n",
       "      <td>25</td>\n",
       "      <td>70.5</td>\n",
       "    </tr>\n",
       "    <tr>\n",
       "      <th>1</th>\n",
       "      <td>30</td>\n",
       "      <td>65.8</td>\n",
       "    </tr>\n",
       "    <tr>\n",
       "      <th>2</th>\n",
       "      <td>35</td>\n",
       "      <td>80.2</td>\n",
       "    </tr>\n",
       "    <tr>\n",
       "      <th>3</th>\n",
       "      <td>40</td>\n",
       "      <td>75.0</td>\n",
       "    </tr>\n",
       "    <tr>\n",
       "      <th>4</th>\n",
       "      <td>45</td>\n",
       "      <td>72.4</td>\n",
       "    </tr>\n",
       "  </tbody>\n",
       "</table>\n",
       "</div>"
      ],
      "text/plain": [
       "   age  weight\n",
       "0   25    70.5\n",
       "1   30    65.8\n",
       "2   35    80.2\n",
       "3   40    75.0\n",
       "4   45    72.4"
      ]
     },
     "execution_count": 110,
     "metadata": {},
     "output_type": "execute_result"
    }
   ],
   "source": [
    "# Creating a dataframe for ratio data\n",
    "ratio_df = pd.DataFrame({\n",
    "    'age': [25, 30, 35, 40, 45],\n",
    "    'weight': [70.5, 65.8, 80.2, 75.0, 72.4]\n",
    "})\n",
    "\n",
    "# Display the dataframe\n",
    "ratio_df"
   ]
  },
  {
   "cell_type": "code",
   "execution_count": 111,
   "metadata": {},
   "outputs": [
    {
     "data": {
      "text/html": [
       "<div>\n",
       "<style scoped>\n",
       "    .dataframe tbody tr th:only-of-type {\n",
       "        vertical-align: middle;\n",
       "    }\n",
       "\n",
       "    .dataframe tbody tr th {\n",
       "        vertical-align: top;\n",
       "    }\n",
       "\n",
       "    .dataframe thead th {\n",
       "        text-align: right;\n",
       "    }\n",
       "</style>\n",
       "<table border=\"1\" class=\"dataframe\">\n",
       "  <thead>\n",
       "    <tr style=\"text-align: right;\">\n",
       "      <th></th>\n",
       "      <th>count</th>\n",
       "      <th>mean</th>\n",
       "      <th>std</th>\n",
       "      <th>min</th>\n",
       "      <th>25%</th>\n",
       "      <th>50%</th>\n",
       "      <th>75%</th>\n",
       "      <th>max</th>\n",
       "    </tr>\n",
       "  </thead>\n",
       "  <tbody>\n",
       "    <tr>\n",
       "      <th>age</th>\n",
       "      <td>5.0</td>\n",
       "      <td>35.00</td>\n",
       "      <td>7.905694</td>\n",
       "      <td>25.0</td>\n",
       "      <td>30.0</td>\n",
       "      <td>35.0</td>\n",
       "      <td>40.0</td>\n",
       "      <td>45.0</td>\n",
       "    </tr>\n",
       "    <tr>\n",
       "      <th>weight</th>\n",
       "      <td>5.0</td>\n",
       "      <td>72.78</td>\n",
       "      <td>5.339663</td>\n",
       "      <td>65.8</td>\n",
       "      <td>70.5</td>\n",
       "      <td>72.4</td>\n",
       "      <td>75.0</td>\n",
       "      <td>80.2</td>\n",
       "    </tr>\n",
       "  </tbody>\n",
       "</table>\n",
       "</div>"
      ],
      "text/plain": [
       "        count   mean       std   min   25%   50%   75%   max\n",
       "age       5.0  35.00  7.905694  25.0  30.0  35.0  40.0  45.0\n",
       "weight    5.0  72.78  5.339663  65.8  70.5  72.4  75.0  80.2"
      ]
     },
     "execution_count": 111,
     "metadata": {},
     "output_type": "execute_result"
    }
   ],
   "source": [
    "ratio_df.describe().T"
   ]
  },
  {
   "cell_type": "markdown",
   "metadata": {},
   "source": [
    "## The 4 levels of measurement\n",
    "\n",
    "Each of the 2 types has 2 subtypes, producing 4 levels of measurements. The table below summarizes them:\n",
    "\n",
    "| Feature | Nominal (Categorical) | Ordinal (Categorical) | Interval (Numerical) | Ratio (Numerical) |\n",
    "|-|-|-|-|-|\n",
    "| **Examples:** | Gender, Color, Nationality | Rating, Race Rank, Education, Grade | Temperature, SAT Score, IQ | Age, Weight, Size, Distance |\n",
    "| Named | <span style=\"color: green;\">✓</span> | <span style=\"color: green;\">✓</span> | <span style=\"color: green;\">✓</span> | <span style=\"color: green;\">✓</span> | <span style=\"color: green;\">✓</span> |\n",
    "| Ordered | <span style=\"color: red;\">✗</span> | <span style=\"color: green;\">✓</span> | <span style=\"color: green;\">✓</span> | <span style=\"color: green;\">✓</span> | <span style=\"color: green;\">✓</span> |\n",
    "| Equally Spaced | <span style=\"color: red;\">✗</span> | <span style=\"color: red;\">✗</span> | <span style=\"color: green;\">✓</span> | <span style=\"color: green;\">✓</span> | <span style=\"color: green;\">✓</span> |  \n",
    "| Zero is Null | <span style=\"color: red;\">✗</span> | <span style=\"color: red;\">✗</span> | <span style=\"color: red;\">✗</span> | <span style=\"color: green;\">✓</span> | <span style=\"color: green;\">✓</span> |"
   ]
  },
  {
   "cell_type": "markdown",
   "metadata": {},
   "source": [
    "\n",
    "\n",
    "\n",
    "\n",
    "#### Diffference between Interval and Ratio\n",
    "\n",
    "The distinction between interval and ratio data depends on whether there is a true zero point.\n",
    "\n",
    "**Ratio**: has a true zero point. Age, money, and weight are common ratio scale variables. For example, if you are 40 years old and your child is 20 years old, you can accurately claim you are twice their age.\n",
    "\n",
    "**Interval**: has no true null point. Temperature is a good example of an interval scale. For example, if it is 0 degrees outside, it does not mean there is no temperature. If you said, “It is twice as hot outside than inside,” you would be incorrect. By stating the temperature is twice that outside as inside, you’re using 0 degrees as the reference point to compare the two temperatures."
   ]
  }
 ],
 "metadata": {
  "kernelspec": {
   "display_name": "wint5",
   "language": "python",
   "name": "python3"
  },
  "language_info": {
   "codemirror_mode": {
    "name": "ipython",
    "version": 3
   },
   "file_extension": ".py",
   "mimetype": "text/x-python",
   "name": "python",
   "nbconvert_exporter": "python",
   "pygments_lexer": "ipython3",
   "version": "3.9.19"
  }
 },
 "nbformat": 4,
 "nbformat_minor": 2
}
