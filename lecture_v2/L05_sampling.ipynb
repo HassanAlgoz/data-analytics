{
 "cells": [
  {
   "cell_type": "markdown",
   "metadata": {},
   "source": [
    "## Sampling and Empirical Distributions\n",
    "\n",
    "See: https://inferentialthinking.com/chapters/10/Sampling_and_Empirical_Distributions.html"
   ]
  },
  {
   "cell_type": "markdown",
   "metadata": {},
   "source": [
    "# Population and Sample\n",
    "\n",
    "<img src=\"https://www.scribbr.com/wp-content/uploads/2019/09/population-vs-sample-1.png\">"
   ]
  },
  {
   "cell_type": "markdown",
   "metadata": {},
   "source": [
    "#### Population\n",
    "\n",
    "A population includes all members of a specified group. It is the entire set of individuals or items that we are interested in studying.\n",
    "\n",
    "**Example**: All students in a university, all cars manufactured by a company in a year, all residents of a city.\n",
    "\n",
    "#### Sample\n",
    "\n",
    "A sample is a subset of the population. It is a smaller group selected from the population that is used to gather data and make inferences about the population.\n",
    "\n",
    "**Example**: A group of 100 students randomly selected from a university, a selection of 50 cars from the annual production, a survey of 200 residents from a city.\n",
    "\n",
    "### Why Use Samples?\n",
    "\n",
    "Studying an entire population is often impractical or impossible due to time, cost, and resource constraints.\n",
    "\n",
    "### Representative Sample\n",
    "\n",
    "Samples need to accurately reflect the characteristics of the population they are being drawn from, to ensure that findings from the sample can be generalized to the population.\n",
    "\n",
    "**Example**: If a population is 60% female and 40% male, a representative sample need also be around 60% female and 40% male."
   ]
  },
  {
   "cell_type": "markdown",
   "metadata": {},
   "source": [
    "# Sampling Methods\n",
    "\n",
    "#### 1. Random Sampling\n",
    "\n",
    "Every member of the population has an equal chance of being selected. Reduces bias and increases representativeness.\n",
    "\n",
    "**Example**: Drawing names from a hat to select participants for a study.\n",
    "\n",
    "#### 2. Stratified Sampling\n",
    "\n",
    "The population is divided into subgroups (strata) based on shared characteristics, and random samples are taken from each stratum.\n",
    "\n",
    "**Example**: Dividing a population of students by grade level and randomly selecting students from each grade.\n",
    "\n",
    "#### 3. Convenience Sampling\n",
    "\n",
    "Using samples that are easy to obtain, though not necessarily representative.\n",
    "\n",
    "**Example**: Surveying friends and family members because they are readily accessible.\n",
    "\n",
    "#### 4. Systematic Sampling\n",
    "\n",
    "Selecting every nth member of the population.\n",
    "\n",
    "**Example**: Selecting every 9th chocolate from a production line."
   ]
  }
 ],
 "metadata": {
  "language_info": {
   "name": "python"
  }
 },
 "nbformat": 4,
 "nbformat_minor": 2
}
